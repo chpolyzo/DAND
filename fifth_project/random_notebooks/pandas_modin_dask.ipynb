{
 "cells": [
  {
   "cell_type": "code",
   "execution_count": 1,
   "metadata": {},
   "outputs": [
    {
     "name": "stdout",
     "output_type": "stream",
     "text": [
      "Pandas Loading Time = 1.5304243564605713\n"
     ]
    }
   ],
   "source": [
    "### Read in the data with Pandas\n",
    "import pandas as pd\n",
    "import time\n",
    "\n",
    "s = time.time()\n",
    "df = pd.read_csv('2017-fordgobike-tripdata.csv')\n",
    "e = time.time()\n",
    "print(\"Pandas Loading Time = {}\".format(e-s))"
   ]
  },
  {
   "cell_type": "code",
   "execution_count": 2,
   "metadata": {},
   "outputs": [
    {
     "name": "stdout",
     "output_type": "stream",
     "text": [
      "   duration_sec                start_time                  end_time  \\\n",
      "0         80110  2017-12-31 16:57:39.6540  2018-01-01 15:12:50.2450   \n",
      "1         78800  2017-12-31 15:56:34.8420  2018-01-01 13:49:55.6170   \n",
      "2         45768  2017-12-31 22:45:48.4110  2018-01-01 11:28:36.8830   \n",
      "3         62172  2017-12-31 17:31:10.6360  2018-01-01 10:47:23.5310   \n",
      "4         43603  2017-12-31 14:23:14.0010  2018-01-01 02:29:57.5710   \n",
      "\n",
      "   start_station_id                                 start_station_name  \\\n",
      "0                74                              Laguna St at Hayes St   \n",
      "1               284  Yerba Buena Center for the Arts (Howard St at ...   \n",
      "2               245                             Downtown Berkeley BART   \n",
      "3                60                               8th St at Ringold St   \n",
      "4               239                      Bancroft Way at Telegraph Ave   \n",
      "\n",
      "   start_station_latitude  start_station_longitude  end_station_id  \\\n",
      "0               37.776435              -122.426244              43   \n",
      "1               37.784872              -122.400876              96   \n",
      "2               37.870348              -122.267764             245   \n",
      "3               37.774520              -122.409449               5   \n",
      "4               37.868813              -122.258764             247   \n",
      "\n",
      "                                    end_station_name  end_station_latitude  \\\n",
      "0  San Francisco Public Library (Grove St at Hyde...             37.778768   \n",
      "1                              Dolores St at 15th St             37.766210   \n",
      "2                             Downtown Berkeley BART             37.870348   \n",
      "3       Powell St BART Station (Market St at 5th St)             37.783899   \n",
      "4                          Fulton St at Bancroft Way             37.867789   \n",
      "\n",
      "   end_station_longitude  bike_id   user_type  \n",
      "0            -122.415929       96    Customer  \n",
      "1            -122.426614       88    Customer  \n",
      "2            -122.267764     1094    Customer  \n",
      "3            -122.408445     2831    Customer  \n",
      "4            -122.265896     3167  Subscriber  \n",
      "(519700, 13)\n",
      "<class 'pandas.core.frame.DataFrame'>\n",
      "RangeIndex: 519700 entries, 0 to 519699\n",
      "Data columns (total 13 columns):\n",
      " #   Column                   Non-Null Count   Dtype  \n",
      "---  ------                   --------------   -----  \n",
      " 0   duration_sec             519700 non-null  int64  \n",
      " 1   start_time               519700 non-null  object \n",
      " 2   end_time                 519700 non-null  object \n",
      " 3   start_station_id         519700 non-null  int64  \n",
      " 4   start_station_name       519700 non-null  object \n",
      " 5   start_station_latitude   519700 non-null  float64\n",
      " 6   start_station_longitude  519700 non-null  float64\n",
      " 7   end_station_id           519700 non-null  int64  \n",
      " 8   end_station_name         519700 non-null  object \n",
      " 9   end_station_latitude     519700 non-null  float64\n",
      " 10  end_station_longitude    519700 non-null  float64\n",
      " 11  bike_id                  519700 non-null  int64  \n",
      " 12  user_type                519700 non-null  object \n",
      "dtypes: float64(4), int64(4), object(5)\n",
      "memory usage: 51.5+ MB\n",
      "None\n"
     ]
    }
   ],
   "source": [
    "print(df.head())\n",
    "print(df.shape)\n",
    "print(df.info())"
   ]
  },
  {
   "cell_type": "code",
   "execution_count": 3,
   "metadata": {},
   "outputs": [
    {
     "name": "stderr",
     "output_type": "stream",
     "text": [
      "FutureWarning: pandas.core.index is deprecated and will be removed in a future version.  The public classes are available in the top-level namespace.\n",
      "UserWarning: The Dask Engine for Modin is experimental.\n"
     ]
    },
    {
     "name": "stdout",
     "output_type": "stream",
     "text": [
      "Modin Loading Time = 2.002995252609253\n"
     ]
    }
   ],
   "source": [
    "### Read in the data with Modin\n",
    "import modin.pandas as pd\n",
    "import time\n",
    "\n",
    "s = time.time()\n",
    "df = pd.read_csv('2017-fordgobike-tripdata.csv')\n",
    "e = time.time()\n",
    "print(\"Modin Loading Time = {}\".format(e-s))"
   ]
  },
  {
   "cell_type": "code",
   "execution_count": 4,
   "metadata": {},
   "outputs": [
    {
     "name": "stdout",
     "output_type": "stream",
     "text": [
      "   duration_sec                start_time                  end_time  \\\n",
      "0         80110  2017-12-31 16:57:39.6540  2018-01-01 15:12:50.2450   \n",
      "1         78800  2017-12-31 15:56:34.8420  2018-01-01 13:49:55.6170   \n",
      "2         45768  2017-12-31 22:45:48.4110  2018-01-01 11:28:36.8830   \n",
      "3         62172  2017-12-31 17:31:10.6360  2018-01-01 10:47:23.5310   \n",
      "4         43603  2017-12-31 14:23:14.0010  2018-01-01 02:29:57.5710   \n",
      "\n",
      "   start_station_id                                 start_station_name  \\\n",
      "0                74                              Laguna St at Hayes St   \n",
      "1               284  Yerba Buena Center for the Arts (Howard St at ...   \n",
      "2               245                             Downtown Berkeley BART   \n",
      "3                60                               8th St at Ringold St   \n",
      "4               239                      Bancroft Way at Telegraph Ave   \n",
      "\n",
      "   start_station_latitude  start_station_longitude  end_station_id  \\\n",
      "0               37.776435              -122.426244              43   \n",
      "1               37.784872              -122.400876              96   \n",
      "2               37.870348              -122.267764             245   \n",
      "3               37.774520              -122.409449               5   \n",
      "4               37.868813              -122.258764             247   \n",
      "\n",
      "                                    end_station_name  end_station_latitude  \\\n",
      "0  San Francisco Public Library (Grove St at Hyde...             37.778768   \n",
      "1                              Dolores St at 15th St             37.766210   \n",
      "2                             Downtown Berkeley BART             37.870348   \n",
      "3       Powell St BART Station (Market St at 5th St)             37.783899   \n",
      "4                          Fulton St at Bancroft Way             37.867789   \n",
      "\n",
      "   end_station_longitude  bike_id   user_type  \n",
      "0            -122.415929       96    Customer  \n",
      "1            -122.426614       88    Customer  \n",
      "2            -122.267764     1094    Customer  \n",
      "3            -122.408445     2831    Customer  \n",
      "4            -122.265896     3167  Subscriber  \n",
      "(519700, 13)\n"
     ]
    },
    {
     "name": "stderr",
     "output_type": "stream",
     "text": [
      "UserWarning: `DataFrame.info` defaulting to pandas implementation.\n",
      "To request implementation, send an email to feature_requests@modin.org.\n",
      "UserWarning: Distributing <class 'pandas.core.frame.DataFrame'> object. This may take some time.\n"
     ]
    },
    {
     "name": "stdout",
     "output_type": "stream",
     "text": [
      "<class 'modin.pandas.dataframe.DataFrame'>\n",
      "RangeIndex: 519700 entries, 0 to 519699\n",
      "Data columns (total 13 columns):\n",
      " #   Column                   Non-Null Count   Dtype  \n",
      "---  ------                   --------------   -----  \n",
      " 0   duration_sec             519700 non-null  int64  \n",
      " 1   start_time               519700 non-null  object \n",
      " 2   end_time                 519700 non-null  object \n",
      " 3   start_station_id         519700 non-null  int64  \n",
      " 4   start_station_name       519700 non-null  object \n",
      " 5   start_station_latitude   519700 non-null  float64\n",
      " 6   start_station_longitude  519700 non-null  float64\n",
      " 7   end_station_id           519700 non-null  int64  \n",
      " 8   end_station_name         519700 non-null  object \n",
      " 9   end_station_latitude     519700 non-null  float64\n",
      " 10  end_station_longitude    519700 non-null  float64\n",
      " 11  bike_id                  519700 non-null  int64  \n",
      " 12  user_type                519700 non-null  object \n",
      "dtypes: float64(4), int64(4), object(5)\n",
      "memory usage: 51.5+ MB\n",
      "None\n"
     ]
    }
   ],
   "source": [
    "print(df.head())\n",
    "print(df.shape)\n",
    "print(df.info())"
   ]
  },
  {
   "cell_type": "code",
   "execution_count": 5,
   "metadata": {},
   "outputs": [
    {
     "name": "stdout",
     "output_type": "stream",
     "text": [
      "Dask Loading Time = 0.03025364875793457\n"
     ]
    }
   ],
   "source": [
    "import dask.dataframe as dd\n",
    "import time\n",
    "\n",
    "s = time.time()\n",
    "df = dd.read_csv('2017-fordgobike-tripdata.csv')\n",
    "e = time.time()\n",
    "print(\"Dask Loading Time = {}\".format(e-s))"
   ]
  },
  {
   "cell_type": "code",
   "execution_count": 6,
   "metadata": {},
   "outputs": [
    {
     "name": "stdout",
     "output_type": "stream",
     "text": [
      "   duration_sec                start_time                  end_time  \\\n",
      "0         80110  2017-12-31 16:57:39.6540  2018-01-01 15:12:50.2450   \n",
      "1         78800  2017-12-31 15:56:34.8420  2018-01-01 13:49:55.6170   \n",
      "2         45768  2017-12-31 22:45:48.4110  2018-01-01 11:28:36.8830   \n",
      "3         62172  2017-12-31 17:31:10.6360  2018-01-01 10:47:23.5310   \n",
      "4         43603  2017-12-31 14:23:14.0010  2018-01-01 02:29:57.5710   \n",
      "\n",
      "   start_station_id                                 start_station_name  \\\n",
      "0                74                              Laguna St at Hayes St   \n",
      "1               284  Yerba Buena Center for the Arts (Howard St at ...   \n",
      "2               245                             Downtown Berkeley BART   \n",
      "3                60                               8th St at Ringold St   \n",
      "4               239                      Bancroft Way at Telegraph Ave   \n",
      "\n",
      "   start_station_latitude  start_station_longitude  end_station_id  \\\n",
      "0               37.776435              -122.426244              43   \n",
      "1               37.784872              -122.400876              96   \n",
      "2               37.870348              -122.267764             245   \n",
      "3               37.774520              -122.409449               5   \n",
      "4               37.868813              -122.258764             247   \n",
      "\n",
      "                                    end_station_name  end_station_latitude  \\\n",
      "0  San Francisco Public Library (Grove St at Hyde...             37.778768   \n",
      "1                              Dolores St at 15th St             37.766210   \n",
      "2                             Downtown Berkeley BART             37.870348   \n",
      "3       Powell St BART Station (Market St at 5th St)             37.783899   \n",
      "4                          Fulton St at Bancroft Way             37.867789   \n",
      "\n",
      "   end_station_longitude  bike_id   user_type  \n",
      "0            -122.415929       96    Customer  \n",
      "1            -122.426614       88    Customer  \n",
      "2            -122.267764     1094    Customer  \n",
      "3            -122.408445     2831    Customer  \n",
      "4            -122.265896     3167  Subscriber  \n",
      "(Delayed('int-6fe150cb-c54d-42f1-974e-bd5692e96ae9'), 13)\n",
      "<class 'dask.dataframe.core.DataFrame'>\n",
      "Columns: 13 entries, duration_sec to user_type\n",
      "dtypes: object(5), float64(4), int64(4)None\n"
     ]
    }
   ],
   "source": [
    "print(df.head())\n",
    "print(df.shape)\n",
    "print(df.info())"
   ]
  }
 ],
 "metadata": {
  "kernelspec": {
   "display_name": "Python 3",
   "language": "python",
   "name": "python3"
  },
  "language_info": {
   "codemirror_mode": {
    "name": "ipython",
    "version": 3
   },
   "file_extension": ".py",
   "mimetype": "text/x-python",
   "name": "python",
   "nbconvert_exporter": "python",
   "pygments_lexer": "ipython3",
   "version": "3.8.1"
  }
 },
 "nbformat": 4,
 "nbformat_minor": 4
}
