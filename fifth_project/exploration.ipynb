{
 "cells": [
  {
   "cell_type": "markdown",
   "metadata": {},
   "source": [
    "# Bay Wheels's trip Dataset Exploration\n",
    "## by Chrysanthi Polyzoni\n",
    "\n",
    "> We will be exploring data teken from [Bay Wheels Bike share service](https://www.lyft.com/bikes/bay-wheels/system-data). Bay Wheels offers affordable, accessible, and fun transportation option for everyone. [Bay Area](https://it.wikipedia.org/wiki/San_Francisco_Bay_Area) residents who qualify for CalFresh, SFMTA Lifeline Pass, or PG&E CARE utility discount are eligible to join Bike Share for All program for 5 USD for the first year — now accepting prepaid cards!\n",
    "\n",
    "The Data\n",
    "Each trip is anonymized and includes:\n",
    "\n",
    "* Trip Duration (seconds)\n",
    "* Start Time and Date\n",
    "* End Time and Date\n",
    "* Start Station ID\n",
    "* Start Station Name\n",
    "* Start Station Latitude\n",
    "* Start Station Longitude\n",
    "* End Station ID\n",
    "* End Station Name\n",
    "* End Station Latitude\n",
    "* End Station Longitude\n",
    "* Bike ID\n",
    "* User Type (Subscriber or Customer – “Subscriber” = Member or “Customer” = Casual\n",
    "\n",
    "This data is provided according to the [Bay Wheels License Agreement](https://baywheels-assets.s3.amazonaws.com/data-license-agreement.html)."
   ]
  },
  {
   "cell_type": "markdown",
   "metadata": {},
   "source": [
    "<a id='top'></a>\n",
    "## Preliminary Wrangling\n",
    "\n",
    "- [Gathering the Data](#aquire)\n",
    "- [Assessing](#assess)\n",
    "- [Cleaning](#clean)\n",
    "- [Exploratory Data Analysis](#analyze)"
   ]
  },
  {
   "cell_type": "markdown",
   "metadata": {},
   "source": [
    "<a id='aquire'></a>\n",
    "## Gathering the Data for the greater San Fransisco Bay Area:\n",
    "The Data for one month of a year is saved in a zipped 'csv' File on the [Website of the Company](https://s3.amazonaws.com/baywheels-data/index.html) . As an example, the File '201801-fordgobike-tripdata.csv.zip' contains all the rides that occured in January 2018.\n",
    "After programmatically downloading and unzipping all available months of the year 2018,\n",
    "We will load and concatenate all <i>CSV</i> Files in a Dataframe where we will be conducting our analysis on."
   ]
  },
  {
   "cell_type": "code",
   "execution_count": 1,
   "metadata": {},
   "outputs": [],
   "source": [
    "# import all packages and set plots to be embedded inline\n",
    "import numpy as np\n",
    "import pandas as pd\n",
    "import matplotlib.pyplot as plt\n",
    "import seaborn as sb\n",
    "\n",
    "%matplotlib inline"
   ]
  },
  {
   "cell_type": "markdown",
   "metadata": {},
   "source": [
    "> Load in your dataset and describe its properties through the questions below.\n",
    "Try and motivate your exploration goals through this section."
   ]
  },
  {
   "cell_type": "markdown",
   "metadata": {},
   "source": [
    "Downloading all Files programmatically:¶"
   ]
  },
  {
   "cell_type": "code",
   "execution_count": 73,
   "metadata": {},
   "outputs": [
    {
     "data": {
      "text/plain": [
       "True"
      ]
     },
     "execution_count": 73,
     "metadata": {},
     "output_type": "execute_result"
    }
   ],
   "source": [
    "iter_wheels in requests.get(base_url).text"
   ]
  },
  {
   "cell_type": "code",
   "execution_count": 97,
   "metadata": {
    "scrolled": true
   },
   "outputs": [
    {
     "name": "stdout",
     "output_type": "stream",
     "text": [
      "['201904-baywheels-tripdata.csv.zip', '201904-baywheels-tripdata.csv.zip', '201904-baywheels-tripdata.csv.zip', '201904-baywheels-tripdata.csv.zip', '201904-baywheels-tripdata.csv.zip', '201904-baywheels-tripdata.csv.zip', '201904-baywheels-tripdata.csv.zip', '201904-baywheels-tripdata.csv.zip', '201904-baywheels-tripdata.csv.zip', '201904-baywheels-tripdata.csv.zip', '201904-baywheels-tripdata.csv.zip', '201904-baywheels-tripdata.csv.zip']\n"
     ]
    }
   ],
   "source": [
    "import requests\n",
    "import os\n",
    "\n",
    "csv_downloaded = False # Set to True to prevent downloading Process from occuring \\\n",
    "                      #every time we re-run the notebook\n",
    "filename_ford = '2019xx-fordgobike-tripdata.csv.zip'\n",
    "filename_wheels = '2019xx-baywheels-tripdata.csv.zip'\n",
    "base_url = 'https://s3.amazonaws.com/baywheels-data/'\n",
    "\n",
    "datafolder = './data' # keeping all csv files in a 'data' directory, under the current directory\n",
    "if not os.path.exists(datafolder):\n",
    "    os.makedirs(datafolder)\n",
    "    print('make {}'.format(datafolder))\n",
    "\n",
    "for i in range(1, 13):\n",
    "    if csv_downloaded:\n",
    "        break\n",
    "    iter_ford = str(filename_ford).replace(\"xx\", \"{:02d}\".format(i))\n",
    "    iter_wheels = str(filename_wheels).replace(\"xx\", \"{:02d}\".format(i))\n",
    "    url_ford = base_url + iter_ford\n",
    "    url_wheels = base_url + iter_wheels\n",
    "    #print(url_ford)\n",
    "    #print(url_wheels)\n",
    "    local_ford = os.path.join(datafolder, iter_ford)\n",
    "    local_wheels = os.path.join(datafolder, iter_wheels)\n",
    "    \n",
    "    # download the zip file locally\n",
    "    if not (os.path.exists(local_wheels) or os.path.exists(local_wheels)):\n",
    "        neg_response = []\n",
    "        for _ in range(1,13):\n",
    "            \n",
    "            try:\n",
    "                response = requests.get(url_wheels)           \n",
    "            except:\n",
    "                response = requests.get(url_ford)\n",
    "            finally:\n",
    "                neg_responce = neg_response.append(url_wheels[-len(iter_wheels):])\n",
    "\n",
    "                        \n",
    "print(neg_response)                   \n",
    "                        \n",
    "                        \n",
    "                        \n",
    "#if iter_wheels in requests.get(base_url).text:\n",
    "#os.listdir(datafolder)"
   ]
  },
  {
   "cell_type": "code",
   "execution_count": 90,
   "metadata": {},
   "outputs": [
    {
     "data": {
      "text/plain": [
       "'201912-baywheels-tripdata.csv.zip'"
      ]
     },
     "execution_count": 90,
     "metadata": {},
     "output_type": "execute_result"
    }
   ],
   "source": [
    "url_wheels[-len(iter_wheels):]"
   ]
  },
  {
   "cell_type": "code",
   "execution_count": 71,
   "metadata": {},
   "outputs": [
    {
     "name": "stdout",
     "output_type": "stream",
     "text": [
      "<?xml version=\"1.0\" encoding=\"UTF-8\"?>\n",
      "<ListBucketResult xmlns=\"http://s3.amazonaws.com/doc/2006-03-01/\"><Name>baywheels-data</Name><Prefix></Prefix><Marker></Marker><MaxKeys>1000</MaxKeys><IsTruncated>false</IsTruncated><Contents><Key>2017-fordgobike-tripdata.csv.zip</Key><LastModified>2020-01-10T15:29:49.000Z</LastModified><ETag>&quot;3e6f40e77dc54fbcca79a534cdec3c3c&quot;</ETag><Size>15149769</Size><StorageClass>STANDARD</StorageClass></Contents><Contents><Key>201801-fordgobike-tripdata.csv.zip</Key><LastModified>2020-01-10T15:29:39.000Z</LastModified><ETag>&quot;59cea251476353ef848fb5e18c3c8cd0&quot;</ETag><Size>2890294</Size><StorageClass>STANDARD</StorageClass></Contents><Contents><Key>201802-fordgobike-tripdata.csv.zip</Key><LastModified>2020-01-10T15:29:39.000Z</LastModified><ETag>&quot;c91c375884bb6665bc9132ea0392dca5&quot;</ETag><Size>3281072</Size><StorageClass>STANDARD</StorageClass></Contents><Contents><Key>201803-fordgobike-tripdata.csv.zip</Key><LastModified>2020-01-10T15:29:39.000Z</LastModified><ETag>&quot;13ac4e089836496eb2ec147ead57c2c5&quot;</ETag><Size>3456153</Size><StorageClass>STANDARD</StorageClass></Contents><Contents><Key>201804-fordgobike-tripdata.csv.zip</Key><LastModified>2020-01-10T15:29:40.000Z</LastModified><ETag>&quot;f0f5dcd4e8ea097843d628698ec98648&quot;</ETag><Size>4084253</Size><StorageClass>STANDARD</StorageClass></Contents><Contents><Key>201805-fordgobike-tripdata.csv.zip</Key><LastModified>2020-01-10T15:29:43.000Z</LastModified><ETag>&quot;2e613b51e3189e58a338b140e6bcf3b2&quot;</ETag><Size>5547414</Size><StorageClass>STANDARD</StorageClass></Contents><Contents><Key>201806-fordgobike-tripdata.csv.zip</Key><LastModified>2020-01-10T15:29:44.000Z</LastModified><ETag>&quot;5a6030dd6948c2844e5f084fa3fde21d&quot;</ETag><Size>6100044</Size><StorageClass>STANDARD</StorageClass></Contents><Contents><Key>201807-fordgobike-tripdata.csv.zip</Key><LastModified>2020-01-10T15:29:42.000Z</LastModified><ETag>&quot;c43838d199d8137ec80ed53b304c46a0&quot;</ETag><Size>6233724</Size><StorageClass>STANDARD</StorageClass></Contents><Contents><Key>201808-fordgobike-tripdata.csv.zip</Key><LastModified>2020-01-10T15:29:43.000Z</LastModified><ETag>&quot;0b8b05c21b478a08827841956369f763&quot;</ETag><Size>6070869</Size><StorageClass>STANDARD</StorageClass></Contents><Contents><Key>201809-fordgobike-tripdata.csv.zip</Key><LastModified>2020-01-10T15:29:45.000Z</LastModified><ETag>&quot;39db37622684dbe22949a1606be49cbe&quot;</ETag><Size>5861931</Size><StorageClass>STANDARD</StorageClass></Contents><Contents><Key>201810-fordgobike-tripdata.csv.zip</Key><LastModified>2020-01-10T15:29:47.000Z</LastModified><ETag>&quot;b36d7a130f58c5662c008747af6a680f&quot;</ETag><Size>6364191</Size><StorageClass>STANDARD</StorageClass></Contents><Contents><Key>201811-fordgobike-tripdata.csv.zip</Key><LastModified>2020-01-10T15:29:46.000Z</LastModified><ETag>&quot;d5a59a186bf86f868c9ba84d2e9d667c&quot;</ETag><Size>4272457</Size><StorageClass>STANDARD</StorageClass></Contents><Contents><Key>201812-fordgobike-tripdata.csv.zip</Key><LastModified>2020-01-10T15:29:48.000Z</LastModified><ETag>&quot;3c3a28b7a7488503c402279e95956858&quot;</ETag><Size>4216001</Size><StorageClass>STANDARD</StorageClass></Contents><Contents><Key>201901-fordgobike-tripdata.csv.zip</Key><LastModified>2020-01-10T15:29:49.000Z</LastModified><ETag>&quot;e8fe9cfa8bbb5ebcbf7c0de62738e190&quot;</ETag><Size>6169344</Size><StorageClass>STANDARD</StorageClass></Contents><Contents><Key>201902-fordgobike-tripdata.csv.zip</Key><LastModified>2020-01-10T15:29:49.000Z</LastModified><ETag>&quot;88c3f82a432afa1ed805efff40a5a55e&quot;</ETag><Size>5922456</Size><StorageClass>STANDARD</StorageClass></Contents><Contents><Key>201903-fordgobike-tripdata.csv.zip</Key><LastModified>2020-01-10T15:29:50.000Z</LastModified><ETag>&quot;ba66d28856058ce9fffbd3d7222c4ddc&quot;</ETag><Size>8337267</Size><StorageClass>STANDARD</StorageClass></Contents><Contents><Key>201904-fordgobike-tripdata.csv.zip</Key><LastModified>2020-01-10T15:29:51.000Z</LastModified><ETag>&quot;f1454ad9abeddf39d72b058a042ea271&quot;</ETag><Size>7788295</Size><StorageClass>STANDARD</StorageClass></Contents><Contents><Key>201905-baywheels-tripdata.csv.zip</Key><LastModified>2020-01-10T15:29:51.000Z</LastModified><ETag>&quot;88d0aabf01766887da1a3cdb74474bd8&quot;</ETag><Size>5974936</Size><StorageClass>STANDARD</StorageClass></Contents><Contents><Key>201906-baywheels-tripdata.csv.zip</Key><LastModified>2020-01-10T15:29:51.000Z</LastModified><ETag>&quot;31925a27f486197e640fd1e7b1b1a697&quot;</ETag><Size>6221585</Size><StorageClass>STANDARD</StorageClass></Contents><Contents><Key>201907-baywheels-tripdata.csv.zip</Key><LastModified>2020-01-10T15:29:52.000Z</LastModified><ETag>&quot;ad62ac9e4426673d06617def32dfd120&quot;</ETag><Size>8321347</Size><StorageClass>STANDARD</StorageClass></Contents><Contents><Key>201908-baywheels-tripdata.csv.zip</Key><LastModified>2020-01-10T15:29:52.000Z</LastModified><ETag>&quot;7b3540b4658d7793e358fc4782cdcc1d&quot;</ETag><Size>6945599</Size><StorageClass>STANDARD</StorageClass></Contents><Contents><Key>201909-baywheels-tripdata.csv.zip</Key><LastModified>2020-01-10T15:29:53.000Z</LastModified><ETag>&quot;3f59a22c88b4ddfccc40e0aab20ca267&quot;</ETag><Size>7326910</Size><StorageClass>STANDARD</StorageClass></Contents><Contents><Key>201910-baywheels-tripdata.csv.zip</Key><LastModified>2020-01-10T15:29:53.000Z</LastModified><ETag>&quot;9d757caca6142320635e35083172b5be&quot;</ETag><Size>8094656</Size><StorageClass>STANDARD</StorageClass></Contents><Contents><Key>201911-baywheels-tripdata.csv.zip</Key><LastModified>2020-01-10T15:29:53.000Z</LastModified><ETag>&quot;bf69e117ea9c66e5370b643d57438a9f&quot;</ETag><Size>6303846</Size><StorageClass>STANDARD</StorageClass></Contents><Contents><Key>201912-baywheels-tripdata.csv.zip</Key><LastModified>2020-03-24T19:59:31.000Z</LastModified><ETag>&quot;b96efe57bfe83c0c7fda1969197c8018&quot;</ETag><Size>5026810</Size><StorageClass>STANDARD</StorageClass></Contents><Contents><Key>202001-baywheels-tripdata.csv.zip</Key><LastModified>2020-03-24T19:59:31.000Z</LastModified><ETag>&quot;14eeeaa570ed635a9bf47bb0fca4d1fe&quot;</ETag><Size>9934176</Size><StorageClass>STANDARD</StorageClass></Contents><Contents><Key>202002-baywheels-tripdata.csv.zip</Key><LastModified>2020-03-24T19:59:33.000Z</LastModified><ETag>&quot;b26ffb2f9d0d968d8d36528ff6db5e34&quot;</ETag><Size>14551210</Size><StorageClass>STANDARD</StorageClass></Contents><Contents><Key>index.html</Key><LastModified>2019-06-07T20:52:29.000Z</LastModified><ETag>&quot;0a0a71d28229db9a3ddd27b9c9ca1f10&quot;</ETag><Size>6430</Size><StorageClass>STANDARD</StorageClass></Contents></ListBucketResult>\n"
     ]
    },
    {
     "data": {
      "text/plain": [
       "True"
      ]
     },
     "execution_count": 71,
     "metadata": {},
     "output_type": "execute_result"
    }
   ],
   "source": [
    "r = requests.get(base_url)\n",
    "print(r.text)\n",
    "iter_wheels in r.text"
   ]
  },
  {
   "cell_type": "code",
   "execution_count": 77,
   "metadata": {
    "scrolled": true
   },
   "outputs": [
    {
     "name": "stdout",
     "output_type": "stream",
     "text": [
      "make ./data\n",
      "https://s3.amazonaws.com/baywheels-data/201901-fordgobike-tripdata.csv.zip\n",
      "https://s3.amazonaws.com/baywheels-data/201901-baywheels-tripdata.csv.zip\n",
      "https://s3.amazonaws.com/baywheels-data/201902-fordgobike-tripdata.csv.zip\n",
      "https://s3.amazonaws.com/baywheels-data/201902-baywheels-tripdata.csv.zip\n",
      "https://s3.amazonaws.com/baywheels-data/201903-fordgobike-tripdata.csv.zip\n",
      "https://s3.amazonaws.com/baywheels-data/201903-baywheels-tripdata.csv.zip\n",
      "https://s3.amazonaws.com/baywheels-data/201904-fordgobike-tripdata.csv.zip\n",
      "https://s3.amazonaws.com/baywheels-data/201904-baywheels-tripdata.csv.zip\n",
      "https://s3.amazonaws.com/baywheels-data/201905-fordgobike-tripdata.csv.zip\n",
      "https://s3.amazonaws.com/baywheels-data/201905-baywheels-tripdata.csv.zip\n",
      "<Response [200]>\n",
      "200\n",
      "./data\\201905-baywheels-tripdata.csv.zip --> unzipping file\n",
      "./data\\201905-baywheels-tripdata.csv.zip--> removing file\n",
      "https://s3.amazonaws.com/baywheels-data/201906-fordgobike-tripdata.csv.zip\n",
      "https://s3.amazonaws.com/baywheels-data/201906-baywheels-tripdata.csv.zip\n",
      "<Response [200]>\n",
      "200\n",
      "./data\\201906-baywheels-tripdata.csv.zip --> unzipping file\n",
      "./data\\201906-baywheels-tripdata.csv.zip--> removing file\n",
      "https://s3.amazonaws.com/baywheels-data/201907-fordgobike-tripdata.csv.zip\n",
      "https://s3.amazonaws.com/baywheels-data/201907-baywheels-tripdata.csv.zip\n",
      "<Response [200]>\n",
      "200\n",
      "./data\\201907-baywheels-tripdata.csv.zip --> unzipping file\n",
      "./data\\201907-baywheels-tripdata.csv.zip--> removing file\n",
      "https://s3.amazonaws.com/baywheels-data/201908-fordgobike-tripdata.csv.zip\n",
      "https://s3.amazonaws.com/baywheels-data/201908-baywheels-tripdata.csv.zip\n",
      "<Response [200]>\n",
      "200\n",
      "./data\\201908-baywheels-tripdata.csv.zip --> unzipping file\n",
      "./data\\201908-baywheels-tripdata.csv.zip--> removing file\n",
      "https://s3.amazonaws.com/baywheels-data/201909-fordgobike-tripdata.csv.zip\n",
      "https://s3.amazonaws.com/baywheels-data/201909-baywheels-tripdata.csv.zip\n",
      "<Response [200]>\n",
      "200\n",
      "./data\\201909-baywheels-tripdata.csv.zip --> unzipping file\n",
      "./data\\201909-baywheels-tripdata.csv.zip--> removing file\n",
      "https://s3.amazonaws.com/baywheels-data/201910-fordgobike-tripdata.csv.zip\n",
      "https://s3.amazonaws.com/baywheels-data/201910-baywheels-tripdata.csv.zip\n",
      "<Response [200]>\n",
      "200\n",
      "./data\\201910-baywheels-tripdata.csv.zip --> unzipping file\n",
      "./data\\201910-baywheels-tripdata.csv.zip--> removing file\n",
      "https://s3.amazonaws.com/baywheels-data/201911-fordgobike-tripdata.csv.zip\n",
      "https://s3.amazonaws.com/baywheels-data/201911-baywheels-tripdata.csv.zip\n",
      "<Response [200]>\n",
      "200\n",
      "./data\\201911-baywheels-tripdata.csv.zip --> unzipping file\n",
      "./data\\201911-baywheels-tripdata.csv.zip--> removing file\n",
      "https://s3.amazonaws.com/baywheels-data/201912-fordgobike-tripdata.csv.zip\n",
      "https://s3.amazonaws.com/baywheels-data/201912-baywheels-tripdata.csv.zip\n",
      "<Response [200]>\n",
      "200\n",
      "./data\\201912-baywheels-tripdata.csv.zip --> unzipping file\n",
      "./data\\201912-baywheels-tripdata.csv.zip--> removing file\n"
     ]
    },
    {
     "data": {
      "text/plain": [
       "['201905-baywheels-tripdata.csv',\n",
       " '201905-baywheels-tripdata.csv.zip',\n",
       " '201906-baywheels-tripdata.csv',\n",
       " '201906-baywheels-tripdata.csv.zip',\n",
       " '201907-baywheels-tripdata.csv',\n",
       " '201907-baywheels-tripdata.csv.zip',\n",
       " '201908-baywheels-tripdata.csv',\n",
       " '201908-baywheels-tripdata.csv.zip',\n",
       " '201909-baywheels-tripdata.csv',\n",
       " '201909-baywheels-tripdata.csv.zip',\n",
       " '201910-baywheels-tripdata.csv',\n",
       " '201910-baywheels-tripdata.csv.zip',\n",
       " '201911-baywheels-tripdata.csv',\n",
       " '201911-baywheels-tripdata.csv.zip',\n",
       " '201912-baywheels-tripdata.csv',\n",
       " '201912-baywheels-tripdata.csv.zip',\n",
       " '__MACOSX']"
      ]
     },
     "execution_count": 77,
     "metadata": {},
     "output_type": "execute_result"
    }
   ],
   "source": [
    "import requests\n",
    "import os\n",
    "\n",
    "csv_downloaded = False # Set to True to prevent downloading Process from occuring \\\n",
    "                      #every time we re-run the notebook\n",
    "filename_ford = '2019xx-fordgobike-tripdata.csv.zip'\n",
    "filename_wheels = '2019xx-baywheels-tripdata.csv.zip'\n",
    "base_url = 'https://s3.amazonaws.com/baywheels-data/'\n",
    "\n",
    "datafolder = './data' # keeping all csv files in a 'data' directory, under the current directory\n",
    "if not os.path.exists(datafolder):\n",
    "    os.makedirs(datafolder)\n",
    "    print('make {}'.format(datafolder))\n",
    "\n",
    "for i in range(1, 13):\n",
    "    if csv_downloaded:\n",
    "        break\n",
    "    iter_ford = str(filename_ford).replace(\"xx\", \"{:02d}\".format(i))\n",
    "    iter_wheels = str(filename_wheels).replace(\"xx\", \"{:02d}\".format(i))\n",
    "    url_ford = base_url + iter_ford\n",
    "    url_wheels = base_url + iter_wheels\n",
    "    print(url_ford)\n",
    "    print(url_wheels)\n",
    "    local_ford = os.path.join(datafolder, iter_ford)\n",
    "    local_wheels = os.path.join(datafolder, iter_wheels)\n",
    "    \n",
    "    # download the zip file locally\n",
    "    if not (os.path.exists(local_wheels) or os.path.exists(local_wheels)):\n",
    "        if iter_wheels in requests.get(base_url).text:\n",
    "            try:\n",
    "                response = requests.get(url_wheels)\n",
    "                print(response)\n",
    "                print(response.status_code)\n",
    "                with open(local_wheels, mode='wb') as file:\n",
    "                    file.write(response.content)\n",
    "                    # unzip file to the previously created 'data' directory\n",
    "                    with zipfile.ZipFile(local_wheels, 'r') as myzip:\n",
    "                        myzip.extractall(path = datafolder)\n",
    "                        print(\"{} --> unzipping file\".format(local_wheels))\n",
    "                        print(\"{}--> removing file\".format(local_wheels))\n",
    "            except:\n",
    "                response = requests.get(url_ford)\n",
    "                print(response)\n",
    "                print(response.status_code)\n",
    "                \n",
    "                with open(local_ford, mode='wb') as file:\n",
    "                    file.write(response.content)\n",
    "                    # unzip file to the previously created 'data' directory\n",
    "                    with zipfile.ZipFile(local_ford, 'r') as myzip:\n",
    "                        myzip.extractall(path = datafolder)\n",
    "                        print(\"{} --> unzipping file\".format(local_ford))\n",
    "                        print(\"{}--> removing file\".format(local_ford))\n",
    "os.listdir(datafolder)"
   ]
  },
  {
   "cell_type": "code",
   "execution_count": 25,
   "metadata": {},
   "outputs": [
    {
     "name": "stdout",
     "output_type": "stream",
     "text": [
      "34\n"
     ]
    }
   ],
   "source": [
    "filename = '2019xx-fordgobike-tripdata.csv.zip'\n",
    "print(len(filename))\n",
    "201905-baywheels-tripdata.csv\n",
    "201912-baywheels-tripdata.csv.zip"
   ]
  },
  {
   "cell_type": "code",
   "execution_count": 40,
   "metadata": {},
   "outputs": [
    {
     "name": "stdout",
     "output_type": "stream",
     "text": [
      "https://s3.amazonaws.com/baywheels-data/201901-fordgobike-tripdata.csv.zip https://s3.amazonaws.com/baywheels-data/201901-baywheels-tripdata.csv.zip\n",
      "./data\\https://s3.amazonaws.com/baywheels-data/201901-fordgobike-tripdata.csv.zip or ./data\\https://s3.amazonaws.com/baywheels-data/201901-baywheels-tripdata.csv.zip does not exist. --> download it\n",
      "200\n",
      "Response status code for 201912-fordgobike-tripdata.csv.zip is 200\n",
      "./data\\201912-fordgobike-tripdata.csv.zip --> unzipping file\n",
      "./data\\201912-fordgobike-tripdata.csv.zip--> removing file\n",
      "https://s3.amazonaws.com/baywheels-data/201902-fordgobike-tripdata.csv.zip https://s3.amazonaws.com/baywheels-data/201902-baywheels-tripdata.csv.zip\n",
      "./data\\https://s3.amazonaws.com/baywheels-data/201902-fordgobike-tripdata.csv.zip or ./data\\https://s3.amazonaws.com/baywheels-data/201902-baywheels-tripdata.csv.zip does not exist. --> download it\n",
      "200\n",
      "Response status code for 201912-fordgobike-tripdata.csv.zip is 200\n",
      "./data\\201912-fordgobike-tripdata.csv.zip --> unzipping file\n",
      "./data\\201912-fordgobike-tripdata.csv.zip--> removing file\n",
      "https://s3.amazonaws.com/baywheels-data/201903-fordgobike-tripdata.csv.zip https://s3.amazonaws.com/baywheels-data/201903-baywheels-tripdata.csv.zip\n",
      "./data\\https://s3.amazonaws.com/baywheels-data/201903-fordgobike-tripdata.csv.zip or ./data\\https://s3.amazonaws.com/baywheels-data/201903-baywheels-tripdata.csv.zip does not exist. --> download it\n",
      "200\n",
      "Response status code for 201912-fordgobike-tripdata.csv.zip is 200\n",
      "./data\\201912-fordgobike-tripdata.csv.zip --> unzipping file\n",
      "./data\\201912-fordgobike-tripdata.csv.zip--> removing file\n",
      "https://s3.amazonaws.com/baywheels-data/201904-fordgobike-tripdata.csv.zip https://s3.amazonaws.com/baywheels-data/201904-baywheels-tripdata.csv.zip\n",
      "./data\\https://s3.amazonaws.com/baywheels-data/201904-fordgobike-tripdata.csv.zip or ./data\\https://s3.amazonaws.com/baywheels-data/201904-baywheels-tripdata.csv.zip does not exist. --> download it\n",
      "200\n",
      "Response status code for 201912-fordgobike-tripdata.csv.zip is 200\n",
      "./data\\201912-fordgobike-tripdata.csv.zip --> unzipping file\n",
      "./data\\201912-fordgobike-tripdata.csv.zip--> removing file\n",
      "https://s3.amazonaws.com/baywheels-data/201905-fordgobike-tripdata.csv.zip https://s3.amazonaws.com/baywheels-data/201905-baywheels-tripdata.csv.zip\n",
      "./data\\https://s3.amazonaws.com/baywheels-data/201905-fordgobike-tripdata.csv.zip or ./data\\https://s3.amazonaws.com/baywheels-data/201905-baywheels-tripdata.csv.zip does not exist. --> download it\n",
      "404\n",
      "Response status code for 201912-fordgobike-tripdata.csv.zip is 404\n",
      "https://s3.amazonaws.com/baywheels-data/201906-fordgobike-tripdata.csv.zip https://s3.amazonaws.com/baywheels-data/201906-baywheels-tripdata.csv.zip\n",
      "./data\\https://s3.amazonaws.com/baywheels-data/201906-fordgobike-tripdata.csv.zip or ./data\\https://s3.amazonaws.com/baywheels-data/201906-baywheels-tripdata.csv.zip does not exist. --> download it\n",
      "404\n",
      "Response status code for 201912-fordgobike-tripdata.csv.zip is 404\n",
      "https://s3.amazonaws.com/baywheels-data/201907-fordgobike-tripdata.csv.zip https://s3.amazonaws.com/baywheels-data/201907-baywheels-tripdata.csv.zip\n",
      "./data\\https://s3.amazonaws.com/baywheels-data/201907-fordgobike-tripdata.csv.zip or ./data\\https://s3.amazonaws.com/baywheels-data/201907-baywheels-tripdata.csv.zip does not exist. --> download it\n",
      "404\n",
      "Response status code for 201912-fordgobike-tripdata.csv.zip is 404\n",
      "https://s3.amazonaws.com/baywheels-data/201908-fordgobike-tripdata.csv.zip https://s3.amazonaws.com/baywheels-data/201908-baywheels-tripdata.csv.zip\n",
      "./data\\https://s3.amazonaws.com/baywheels-data/201908-fordgobike-tripdata.csv.zip or ./data\\https://s3.amazonaws.com/baywheels-data/201908-baywheels-tripdata.csv.zip does not exist. --> download it\n",
      "404\n",
      "Response status code for 201912-fordgobike-tripdata.csv.zip is 404\n",
      "https://s3.amazonaws.com/baywheels-data/201909-fordgobike-tripdata.csv.zip https://s3.amazonaws.com/baywheels-data/201909-baywheels-tripdata.csv.zip\n",
      "./data\\https://s3.amazonaws.com/baywheels-data/201909-fordgobike-tripdata.csv.zip or ./data\\https://s3.amazonaws.com/baywheels-data/201909-baywheels-tripdata.csv.zip does not exist. --> download it\n",
      "404\n",
      "Response status code for 201912-fordgobike-tripdata.csv.zip is 404\n",
      "https://s3.amazonaws.com/baywheels-data/201910-fordgobike-tripdata.csv.zip https://s3.amazonaws.com/baywheels-data/201910-baywheels-tripdata.csv.zip\n",
      "./data\\https://s3.amazonaws.com/baywheels-data/201910-fordgobike-tripdata.csv.zip or ./data\\https://s3.amazonaws.com/baywheels-data/201910-baywheels-tripdata.csv.zip does not exist. --> download it\n",
      "404\n",
      "Response status code for 201912-fordgobike-tripdata.csv.zip is 404\n",
      "https://s3.amazonaws.com/baywheels-data/201911-fordgobike-tripdata.csv.zip https://s3.amazonaws.com/baywheels-data/201911-baywheels-tripdata.csv.zip\n",
      "./data\\https://s3.amazonaws.com/baywheels-data/201911-fordgobike-tripdata.csv.zip or ./data\\https://s3.amazonaws.com/baywheels-data/201911-baywheels-tripdata.csv.zip does not exist. --> download it\n",
      "404\n",
      "Response status code for 201912-fordgobike-tripdata.csv.zip is 404\n",
      "https://s3.amazonaws.com/baywheels-data/201912-fordgobike-tripdata.csv.zip https://s3.amazonaws.com/baywheels-data/201912-baywheels-tripdata.csv.zip\n",
      "./data\\https://s3.amazonaws.com/baywheels-data/201912-fordgobike-tripdata.csv.zip or ./data\\https://s3.amazonaws.com/baywheels-data/201912-baywheels-tripdata.csv.zip does not exist. --> download it\n",
      "404\n",
      "Response status code for 201912-fordgobike-tripdata.csv.zip is 404\n"
     ]
    },
    {
     "data": {
      "text/plain": [
       "['201901-baywheels-tripdata.csv.zip',\n",
       " '201901-fordgobike-tripdata.csv',\n",
       " '201902-baywheels-tripdata.csv.zip',\n",
       " '201902-fordgobike-tripdata.csv',\n",
       " '201903-baywheels-tripdata.csv.zip',\n",
       " '201903-fordgobike-tripdata.csv',\n",
       " '201904-baywheels-tripdata.csv.zip',\n",
       " '201904-fordgobike-tripdata.csv',\n",
       " '201905-baywheels-tripdata.csv',\n",
       " '201906-baywheels-tripdata.csv',\n",
       " '201907-baywheels-tripdata.csv',\n",
       " '201908-baywheels-tripdata.csv',\n",
       " '201909-baywheels-tripdata.csv',\n",
       " '201910-baywheels-tripdata.csv',\n",
       " '201911-baywheels-tripdata.csv',\n",
       " '201912-baywheels-tripdata.csv',\n",
       " '__MACOSX']"
      ]
     },
     "execution_count": 40,
     "metadata": {},
     "output_type": "execute_result"
    }
   ],
   "source": [
    "import requests\n",
    "import os\n",
    "import zipfile\n",
    "\n",
    "csv_downloaded = False # Set to True to prevent downloading Process from occuring \\\n",
    "                      #every time we re-run the notebook\n",
    "filename_ford = '2019xx-fordgobike-tripdata.csv.zip'\n",
    "filename_wheels = '2019xx-baywheels-tripdata.csv.zip'\n",
    "base_url = 'https://s3.amazonaws.com/baywheels-data/'\n",
    "\n",
    "datafolder = './data' # keeping all csv files in a 'data' directory, under the current directory\n",
    "if not os.path.exists(datafolder):\n",
    "    os.makedirs(datafolder)\n",
    "    print('make {}'.format(datafolder))\n",
    "\n",
    "for i in range(1, 13):\n",
    "    if csv_downloaded:\n",
    "        break\n",
    "    iter_ford = str(filename_ford).replace(\"xx\", \"{:02d}\".format(i))\n",
    "    iter_wheels = str(filename_wheels).replace(\"xx\", \"{:02d}\".format(i))\n",
    "    url_ford = base_url + iter_ford\n",
    "    url_wheels = base_url + iter_wheels\n",
    "    print(url_ford, url_wheels)\n",
    "    local_ford = os.path.join(datafolder, url_ford)\n",
    "    local_wheels = os.path.join(datafolder, url_wheels)\n",
    "    if not os.path.exists(local_ford) or os.path.exists(local_wheels):\n",
    "        print(\"{} or {} does not exist. --> download it\".format(local_ford, local_wheels))\n",
    "        # download the zip file locally\n",
    "        try:\n",
    "            response = requests.get(url_ford)\n",
    "            print(response.status_code)\n",
    "        except:\n",
    "            response = requests.get(url_wheels)\n",
    "        print(\"Response status code for {} is {}\".format(iteratefilename, response.status_code))\n",
    "        if (response.status_code == 200):\n",
    "            with open(localfile, mode='wb') as file:\n",
    "                file.write(response.content)\n",
    "                # unzip file to the previously created 'data' directory\n",
    "                with zipfile.ZipFile(localfile, 'r') as myzip:\n",
    "                    myzip.extractall(path=datafolder)\n",
    "                    print(\"{} --> unzipping file\".format(localfile))\n",
    "            #remove the zip file\n",
    "            os.remove(localfile)\n",
    "            print(\"{}--> removing file\".format(localfile))\n",
    "            \n",
    "os.listdir(datafolder)"
   ]
  },
  {
   "cell_type": "code",
   "execution_count": null,
   "metadata": {},
   "outputs": [],
   "source": [
    "./data\\201806-fordgobike-tripdata.csv.zip\n",
    "./data\\201905-fordgobike-tripdata.csv.zip\n",
    "./data\\201910-fordgobike-tripdata.csv.zip\n",
    "./data\\2019xx-fordgobike-tripdata.csv.zip"
   ]
  },
  {
   "cell_type": "markdown",
   "metadata": {},
   "source": [
    "### What is the structure of your dataset?\n",
    "\n",
    "> Your answer here!\n",
    "\n",
    "### What is/are the main feature(s) of interest in your dataset?\n",
    "\n",
    "> Your answer here!\n",
    "\n",
    "### What features in the dataset do you think will help support your investigation into your feature(s) of interest?\n",
    "\n",
    "> Your answer here!"
   ]
  },
  {
   "cell_type": "markdown",
   "metadata": {},
   "source": [
    "## Univariate Exploration\n",
    "\n",
    "> In this section, investigate distributions of individual variables. If\n",
    "you see unusual points or outliers, take a deeper look to clean things up\n",
    "and prepare yourself to look at relationships between variables."
   ]
  },
  {
   "cell_type": "code",
   "execution_count": null,
   "metadata": {},
   "outputs": [],
   "source": []
  },
  {
   "cell_type": "markdown",
   "metadata": {},
   "source": [
    "> Make sure that, after every plot or related series of plots, that you\n",
    "include a Markdown cell with comments about what you observed, and what\n",
    "you plan on investigating next."
   ]
  },
  {
   "cell_type": "code",
   "execution_count": null,
   "metadata": {},
   "outputs": [],
   "source": []
  },
  {
   "cell_type": "markdown",
   "metadata": {},
   "source": [
    "### Discuss the distribution(s) of your variable(s) of interest. Were there any unusual points? Did you need to perform any transformations?\n",
    "\n",
    "> Your answer here!\n",
    "\n",
    "### Of the features you investigated, were there any unusual distributions? Did you perform any operations on the data to tidy, adjust, or change the form of the data? If so, why did you do this?\n",
    "\n",
    "> Your answer here!"
   ]
  },
  {
   "cell_type": "markdown",
   "metadata": {},
   "source": [
    "## Bivariate Exploration\n",
    "\n",
    "> In this section, investigate relationships between pairs of variables in your\n",
    "data. Make sure the variables that you cover here have been introduced in some\n",
    "fashion in the previous section (univariate exploration)."
   ]
  },
  {
   "cell_type": "code",
   "execution_count": null,
   "metadata": {},
   "outputs": [],
   "source": []
  },
  {
   "cell_type": "markdown",
   "metadata": {},
   "source": [
    "### Talk about some of the relationships you observed in this part of the investigation. How did the feature(s) of interest vary with other features in the dataset?\n",
    "\n",
    "> Your answer here!\n",
    "\n",
    "### Did you observe any interesting relationships between the other features (not the main feature(s) of interest)?\n",
    "\n",
    "> Your answer here!"
   ]
  },
  {
   "cell_type": "markdown",
   "metadata": {},
   "source": [
    "## Multivariate Exploration\n",
    "\n",
    "> Create plots of three or more variables to investigate your data even\n",
    "further. Make sure that your investigations are justified, and follow from\n",
    "your work in the previous sections."
   ]
  },
  {
   "cell_type": "code",
   "execution_count": null,
   "metadata": {},
   "outputs": [],
   "source": []
  },
  {
   "cell_type": "markdown",
   "metadata": {},
   "source": [
    "### Talk about some of the relationships you observed in this part of the investigation. Were there features that strengthened each other in terms of looking at your feature(s) of interest?\n",
    "\n",
    "> Your answer here!\n",
    "\n",
    "### Were there any interesting or surprising interactions between features?\n",
    "\n",
    "> Your answer here!"
   ]
  },
  {
   "cell_type": "markdown",
   "metadata": {},
   "source": [
    "> At the end of your report, make sure that you export the notebook as an\n",
    "html file from the `File > Download as... > HTML` menu. Make sure you keep\n",
    "track of where the exported file goes, so you can put it in the same folder\n",
    "as this notebook for project submission. Also, make sure you remove all of\n",
    "the quote-formatted guide notes like this one before you finish your report!"
   ]
  },
  {
   "cell_type": "code",
   "execution_count": null,
   "metadata": {},
   "outputs": [],
   "source": []
  }
 ],
 "metadata": {
  "kernelspec": {
   "display_name": "Python 3",
   "language": "python",
   "name": "python3"
  },
  "language_info": {
   "codemirror_mode": {
    "name": "ipython",
    "version": 3
   },
   "file_extension": ".py",
   "mimetype": "text/x-python",
   "name": "python",
   "nbconvert_exporter": "python",
   "pygments_lexer": "ipython3",
   "version": "3.8.1"
  }
 },
 "nbformat": 4,
 "nbformat_minor": 2
}
