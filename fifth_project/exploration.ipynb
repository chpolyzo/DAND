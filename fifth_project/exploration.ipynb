{
 "cells": [
  {
   "cell_type": "markdown",
   "metadata": {},
   "source": [
    "# Bay Wheels's trip Dataset Exploration\n",
    "## by Chrysanthi Polyzoni\n",
    "\n",
    "> We will be exploring data teken from [Bay Wheels Bike share service](https://www.lyft.com/bikes/bay-wheels/system-data). Bay Wheels offers affordable, accessible, and fun transportation option for everyone. [Bay Area](https://it.wikipedia.org/wiki/San_Francisco_Bay_Area) residents who qualify for CalFresh, SFMTA Lifeline Pass, or PG&E CARE utility discount are eligible to join Bike Share for All program for 5 USD for the first year — now accepting prepaid cards!\n",
    "\n",
    "The Data\n",
    "Each trip is anonymized and includes:\n",
    "\n",
    "* Trip Duration (seconds)\n",
    "* Start Time and Date\n",
    "* End Time and Date\n",
    "* Start Station ID\n",
    "* Start Station Name\n",
    "* Start Station Latitude\n",
    "* Start Station Longitude\n",
    "* End Station ID\n",
    "* End Station Name\n",
    "* End Station Latitude\n",
    "* End Station Longitude\n",
    "* Bike ID\n",
    "* User Type (Subscriber or Customer – “Subscriber” = Member or “Customer” = Casual\n",
    "\n",
    "This data is provided according to the [Bay Wheels License Agreement](https://baywheels-assets.s3.amazonaws.com/data-license-agreement.html)."
   ]
  },
  {
   "cell_type": "markdown",
   "metadata": {},
   "source": [
    "<a id='top'></a>\n",
    "## Preliminary Wrangling\n",
    "\n",
    "- [Gathering the Data](#aquire)\n",
    "- [Assessing](#assess)\n",
    "- [Cleaning](#clean)\n",
    "- [Exploratory Data Analysis](#analyze)"
   ]
  },
  {
   "cell_type": "markdown",
   "metadata": {},
   "source": [
    "<a id='aquire'></a>\n",
    "### Gathering Data for the greater San Fransisco Bay Area:\n",
    "The Data for one month of a year is saved in a zipped 'csv' File on the [Website of the Company](https://s3.amazonaws.com/baywheels-data/index.html) . As an example, the File '201801-fordgobike-tripdata.csv.zip' contains all the rides that occured in January 2018.\n",
    "After programmatically downloading and unzipping all available months of the year 2018,\n",
    "We will load and concatenate all <i>CSV</i> Files in a Dataframe where we will be conducting our analysis on."
   ]
  },
  {
   "cell_type": "code",
   "execution_count": 1,
   "metadata": {},
   "outputs": [],
   "source": [
    "# import all packages and set plots to be embedded inline\n",
    "import numpy as np\n",
    "import pandas as pd\n",
    "import matplotlib.pyplot as plt\n",
    "import seaborn as sb\n",
    "\n",
    "%matplotlib inline"
   ]
  },
  {
   "cell_type": "markdown",
   "metadata": {},
   "source": [
    "> Load in your dataset and describe its properties through the questions below.\n",
    "Try and motivate your exploration goals through this section."
   ]
  },
  {
   "cell_type": "markdown",
   "metadata": {},
   "source": [
    "Downloading all necessary Files for the year 2019 programmatically:¶"
   ]
  },
  {
   "cell_type": "code",
   "execution_count": 2,
   "metadata": {
    "scrolled": false
   },
   "outputs": [
    {
     "data": {
      "text/plain": [
       "['201901-fordgobike-tripdata.csv',\n",
       " '201902-fordgobike-tripdata.csv',\n",
       " '201903-fordgobike-tripdata.csv',\n",
       " '201904-fordgobike-tripdata.csv',\n",
       " '201905-baywheels-tripdata.csv',\n",
       " '201906-baywheels-tripdata.csv',\n",
       " '201907-baywheels-tripdata.csv',\n",
       " '201908-baywheels-tripdata.csv',\n",
       " '201909-baywheels-tripdata.csv',\n",
       " '201910-baywheels-tripdata.csv',\n",
       " '201911-baywheels-tripdata.csv',\n",
       " '201912-baywheels-tripdata.csv',\n",
       " '__MACOSX']"
      ]
     },
     "execution_count": 2,
     "metadata": {},
     "output_type": "execute_result"
    }
   ],
   "source": [
    "import requests\n",
    "import os\n",
    "import zipfile\n",
    "\n",
    "csv_downloaded = False # Set to True to prevent downloading Process from occuring \\\n",
    "                      #every time we re-run the notebook\n",
    "filename_ford = '2019xx-fordgobike-tripdata.csv.zip'\n",
    "filename_wheels = '2019xx-baywheels-tripdata.csv.zip'\n",
    "base_url = 'https://s3.amazonaws.com/baywheels-data/'\n",
    "\n",
    "datafolder = './data' # keeping all csv files in a 'data' directory, under the current directory\n",
    "if not os.path.exists(datafolder):\n",
    "    os.makedirs(datafolder)\n",
    "    print('make {}'.format(datafolder))\n",
    "\n",
    "for i in range(5, 13):\n",
    "    if csv_downloaded:\n",
    "        break\n",
    "    \n",
    "    iter_wheels = str(filename_wheels).replace(\"xx\", \"{:02d}\".format(i))\n",
    "    url = base_url + iter_wheels\n",
    "    local_file = os.path.join(datafolder, iter_wheels)\n",
    "    \n",
    "    # download the zip file locally\n",
    "    if not os.path.exists(local_file[:-4]):\n",
    "        print(\"\\n{} does not exist. --> download it\".format(local_file))\n",
    "        try:\n",
    "            response = requests.get(url)\n",
    "            with open(local_file, mode='wb') as file:\n",
    "                file.write(response.content)\n",
    "                    # unzip file to the previously created 'data' directory\n",
    "                with zipfile.ZipFile(local_file, 'r') as myzip:\n",
    "                    myzip.extractall(path = datafolder)\n",
    "                    print(\"{} --> unzipping file\".format(local_file))\n",
    "            os.remove(local_file)\n",
    "            print(\"{}--> removing initial zip file\".format(local_file))\n",
    "        except OSError as err:\n",
    "            print(\"OS error: {0}\".format(err))\n",
    "            \n",
    "for i in range(1, 5):\n",
    "    if csv_downloaded:\n",
    "        break\n",
    "    iter_ford = str(filename_ford).replace(\"xx\", \"{:02d}\".format(i))\n",
    "    url = base_url + iter_ford\n",
    "    local_file = os.path.join(datafolder, iter_ford)\n",
    "\n",
    "            \n",
    "    if not os.path.exists(local_file[:-4]):\n",
    "        print(\"\\n{} does not exist. --> download it\".format(local_file))\n",
    "        try:\n",
    "            response = requests.get(url)\n",
    "            with open(local_file, mode='wb') as file:\n",
    "                file.write(response.content)\n",
    "                # unzip file to the previously created 'data' directory\n",
    "                with zipfile.ZipFile(local_file, 'r') as myzip:\n",
    "                    myzip.extractall(path = datafolder)\n",
    "                    print(\"{} --> unzipping file\".format(local_file))\n",
    "            os.remove(local_file)\n",
    "            print(\"{}--> removing initial zip file\".format(local_file))\n",
    "        except OSError as err:\n",
    "            print(\"OS error: {0}\".format(err))\n",
    "\n",
    "os.listdir(datafolder)"
   ]
  },
  {
   "cell_type": "markdown",
   "metadata": {},
   "source": [
    "Read csv Files and create a list of Pandas dataframes:"
   ]
  },
  {
   "cell_type": "code",
   "execution_count": 55,
   "metadata": {},
   "outputs": [
    {
     "name": "stdout",
     "output_type": "stream",
     "text": [
      "\n",
      "Saving 201901-fordgobike-tripdata.csv into Pandas Data Frame with original dimensions (192082, 14)\n",
      "Updated shape after dropping non consistent features in all DataFrames is (192082, 13)\n",
      "\n",
      "Saving 201902-fordgobike-tripdata.csv into Pandas Data Frame with original dimensions (183412, 14)\n",
      "Updated shape after dropping non consistent features in all DataFrames is (183412, 13)\n",
      "\n",
      "Saving 201903-fordgobike-tripdata.csv into Pandas Data Frame with original dimensions (256299, 14)\n",
      "Updated shape after dropping non consistent features in all DataFrames is (256299, 13)\n",
      "\n",
      "Saving 201904-fordgobike-tripdata.csv into Pandas Data Frame with original dimensions (239111, 14)\n",
      "Updated shape after dropping non consistent features in all DataFrames is (239111, 13)\n",
      "\n",
      "Saving 201905-baywheels-tripdata.csv into Pandas Data Frame with original dimensions (182163, 14)\n",
      "Updated shape after dropping non consistent features in all DataFrames is (182163, 13)\n",
      "\n",
      "Saving 201906-baywheels-tripdata.csv into Pandas Data Frame with original dimensions (191772, 15)\n",
      "Updated shape after dropping non consistent features in all DataFrames is (191772, 13)\n",
      "\n",
      "Saving 201907-baywheels-tripdata.csv into Pandas Data Frame with original dimensions (258102, 15)\n",
      "Updated shape after dropping non consistent features in all DataFrames is (258102, 13)\n",
      "\n",
      "Saving 201908-baywheels-tripdata.csv into Pandas Data Frame with original dimensions (210563, 14)\n",
      "Updated shape after dropping non consistent features in all DataFrames is (210563, 13)\n",
      "\n",
      "Saving 201909-baywheels-tripdata.csv into Pandas Data Frame with original dimensions (217986, 14)\n",
      "Updated shape after dropping non consistent features in all DataFrames is (217986, 13)\n",
      "\n",
      "Saving 201910-baywheels-tripdata.csv into Pandas Data Frame with original dimensions (239895, 14)\n",
      "Updated shape after dropping non consistent features in all DataFrames is (239895, 13)\n",
      "\n",
      "Saving 201911-baywheels-tripdata.csv into Pandas Data Frame with original dimensions (185496, 15)\n",
      "Updated shape after dropping non consistent features in all DataFrames is (185496, 13)\n",
      "\n",
      "Saving 201912-baywheels-tripdata.csv into Pandas Data Frame with original dimensions (150102, 14)\n",
      "Updated shape after dropping non consistent features in all DataFrames is (150102, 13)\n",
      "\n",
      "Number of dfs read:  12\n",
      "Number of rows read:  2506983\n",
      "Wall time: 51.8 s\n"
     ]
    }
   ],
   "source": [
    "%%time\n",
    "\n",
    "df_list = [] # list of dataframes to read the csv files in.\n",
    "x= 0\n",
    "\n",
    "for file in os.listdir(datafolder):\n",
    "    if file.endswith('.csv'):\n",
    "        \n",
    "        col_list = ['duration_sec', 'start_time', 'end_time', 'start_station_id', \n",
    "                    'start_station_name', 'start_station_latitude', 'start_station_longitude',\n",
    "                    'end_station_id', 'end_station_name', 'end_station_latitude', 'end_station_longitude',\n",
    "                    'bike_id', 'user_type']\n",
    "    \n",
    "        \n",
    "        types = {'duration_sec': np.int32, 'start_time': 'string', 'end_time': 'string', 'start_station_id': 'string',\n",
    "                 'start_station_name': 'string', 'start_station_latitude' : np.float64, 'start_station_longitude': np.float64,\n",
    "                 'end_station_id': 'string', 'end_station_name':'string', 'end_station_latitude':np.float64,\n",
    "                 'end_station_longitude':np.float64, 'bike_id':'string', 'user_type':'category'}\n",
    "        \n",
    "        df_temp = pd.read_csv('./data/' + file, dtype = types, na_values = np.nan, low_memory=False)\n",
    "        \n",
    "        print('\\nSaving {} into Pandas Data Frame with original dimensions {}'.format(file, df_temp.shape))\n",
    "        df_features = list(df_temp.columns)\n",
    "        #print(df_features)\n",
    "        for col in df_temp.columns:\n",
    "            if col not in col_list:\n",
    "                df_temp.drop(col, axis=1, inplace = True)\n",
    "        print('Updated shape after dropping non consistent features in all DataFrames is {}'.format(df_temp.shape))\n",
    "        df_list.append(df_temp)\n",
    "        x += df_temp.shape[0]\n",
    "\n",
    "print('\\nNumber of dfs read: ', len(df_list))\n",
    "print('Number of rows read: ', x)"
   ]
  },
  {
   "cell_type": "markdown",
   "metadata": {},
   "source": [
    "Concatenate the dataframes contained in the list in a single Dataframe:"
   ]
  },
  {
   "cell_type": "code",
   "execution_count": 139,
   "metadata": {},
   "outputs": [
    {
     "name": "stdout",
     "output_type": "stream",
     "text": [
      "My master DataFrame consists of 2506983 rows and 13 columns.\n"
     ]
    }
   ],
   "source": [
    "# concatenate the dataframes contained in the list in a single Dataframe <df>:\n",
    "df = pd.concat([df_each for df_each in df_list])\n",
    "print('My master DataFrame consists of {} rows and {} columns.'.format(df.shape[0], df.shape[1]))\n",
    "df.reset_index(drop=True, inplace=True) # generate a continuous index for all records"
   ]
  },
  {
   "cell_type": "code",
   "execution_count": 5,
   "metadata": {},
   "outputs": [],
   "source": [
    "#parse dates\n",
    "df['start_time'] = pd.to_datetime(df.start_time)\n",
    "df['end_time'] = pd.to_datetime(df.end_time)"
   ]
  },
  {
   "cell_type": "markdown",
   "metadata": {},
   "source": [
    "### What is the structure of your dataset?\n",
    "\n",
    "> My dataset has 2 506 983 reccords (in other words attributes or lines) and 13 columns\n",
    "\n",
    "### What is/are the main feature(s) of interest in your dataset?\n",
    "\n",
    "> * Trip Duration (seconds) `duration_sec`\n",
    "* Start Time and Date `start_time`\n",
    "* End Time and Date `end_time`\n",
    "* Start Station ID `start_station_id`\n",
    "* Start Station Name `start_station_name`\n",
    "* Start Station Latitude `start_station_latitude`\n",
    "* Start Station Longitude `start_station_longitude`\n",
    "* End Station ID `end_station_id`\n",
    "* End Station Name `end_station_name`\n",
    "* End Station Latitude `end_station_latitude`\n",
    "* End Station Longitude `end_station_longitude`\n",
    "* Bike ID `bike_id`\n",
    "* User Type (Subscriber or Customer – “Subscriber” = Member or “Customer” = Casual `user_type`\n",
    "\n",
    "\n",
    "### What features in the dataset do you think will help support your investigation into your feature(s) of interest?\n",
    "\n",
    "> I really do not feel like doing any kind of geo analysis so I will not be using coordinates. Here below features I will be using\n",
    "* Trip Duration (seconds) `duration_sec`\n",
    "* Start Time and Date `start_time`\n",
    "* End Time and Date `end_time`\n",
    "* Start Station ID `start_station_id`\n",
    "* Start Station Name `start_station_name`\n",
    "* End Station ID `end_station_id`\n",
    "* End Station Name `end_station_name`\n",
    "* Bike ID `bike_id`\n",
    "* User Type (Subscriber or Customer – “Subscriber” = Member or “Customer” = Casual `user_type`"
   ]
  },
  {
   "cell_type": "markdown",
   "metadata": {},
   "source": [
    "[Back to Top](#top)"
   ]
  },
  {
   "cell_type": "markdown",
   "metadata": {},
   "source": [
    "<a id='assess'></a>\n",
    "### Assessing Data for the greater San Fransisco Bay Area:"
   ]
  },
  {
   "cell_type": "markdown",
   "metadata": {},
   "source": [
    "#### First Glance at the Dataframe using info(), describe(), head(), tail()"
   ]
  },
  {
   "cell_type": "code",
   "execution_count": 6,
   "metadata": {},
   "outputs": [
    {
     "data": {
      "text/html": [
       "<div>\n",
       "<style scoped>\n",
       "    .dataframe tbody tr th:only-of-type {\n",
       "        vertical-align: middle;\n",
       "    }\n",
       "\n",
       "    .dataframe tbody tr th {\n",
       "        vertical-align: top;\n",
       "    }\n",
       "\n",
       "    .dataframe thead th {\n",
       "        text-align: right;\n",
       "    }\n",
       "</style>\n",
       "<table border=\"1\" class=\"dataframe\">\n",
       "  <thead>\n",
       "    <tr style=\"text-align: right;\">\n",
       "      <th></th>\n",
       "      <th>duration_sec</th>\n",
       "      <th>start_time</th>\n",
       "      <th>end_time</th>\n",
       "      <th>start_station_id</th>\n",
       "      <th>start_station_name</th>\n",
       "      <th>start_station_latitude</th>\n",
       "      <th>start_station_longitude</th>\n",
       "      <th>end_station_id</th>\n",
       "      <th>end_station_name</th>\n",
       "      <th>end_station_latitude</th>\n",
       "      <th>end_station_longitude</th>\n",
       "      <th>bike_id</th>\n",
       "      <th>user_type</th>\n",
       "    </tr>\n",
       "  </thead>\n",
       "  <tbody>\n",
       "    <tr>\n",
       "      <th>0</th>\n",
       "      <td>80825</td>\n",
       "      <td>2019-01-31 17:57:44.613</td>\n",
       "      <td>2019-02-01 16:24:49.864</td>\n",
       "      <td>229</td>\n",
       "      <td>Foothill Blvd at 42nd Ave</td>\n",
       "      <td>37.775745</td>\n",
       "      <td>-122.213037</td>\n",
       "      <td>196</td>\n",
       "      <td>Grand Ave at Perkins St</td>\n",
       "      <td>37.808894</td>\n",
       "      <td>-122.256460</td>\n",
       "      <td>4861</td>\n",
       "      <td>Subscriber</td>\n",
       "    </tr>\n",
       "    <tr>\n",
       "      <th>1</th>\n",
       "      <td>65900</td>\n",
       "      <td>2019-01-31 20:58:33.886</td>\n",
       "      <td>2019-02-01 15:16:54.173</td>\n",
       "      <td>4</td>\n",
       "      <td>Cyril Magnin St at Ellis St</td>\n",
       "      <td>37.785881</td>\n",
       "      <td>-122.408915</td>\n",
       "      <td>134</td>\n",
       "      <td>Valencia St at 24th St</td>\n",
       "      <td>37.752428</td>\n",
       "      <td>-122.420628</td>\n",
       "      <td>5506</td>\n",
       "      <td>Subscriber</td>\n",
       "    </tr>\n",
       "    <tr>\n",
       "      <th>2</th>\n",
       "      <td>62633</td>\n",
       "      <td>2019-01-31 18:06:52.924</td>\n",
       "      <td>2019-02-01 11:30:46.530</td>\n",
       "      <td>245</td>\n",
       "      <td>Downtown Berkeley BART</td>\n",
       "      <td>37.870139</td>\n",
       "      <td>-122.268422</td>\n",
       "      <td>157</td>\n",
       "      <td>65th St at Hollis St</td>\n",
       "      <td>37.846784</td>\n",
       "      <td>-122.291376</td>\n",
       "      <td>2717</td>\n",
       "      <td>Customer</td>\n",
       "    </tr>\n",
       "    <tr>\n",
       "      <th>3</th>\n",
       "      <td>44680</td>\n",
       "      <td>2019-01-31 19:46:09.719</td>\n",
       "      <td>2019-02-01 08:10:50.318</td>\n",
       "      <td>85</td>\n",
       "      <td>Church St at Duboce Ave</td>\n",
       "      <td>37.770083</td>\n",
       "      <td>-122.429156</td>\n",
       "      <td>53</td>\n",
       "      <td>Grove St at Divisadero</td>\n",
       "      <td>37.775946</td>\n",
       "      <td>-122.437777</td>\n",
       "      <td>4557</td>\n",
       "      <td>Customer</td>\n",
       "    </tr>\n",
       "    <tr>\n",
       "      <th>4</th>\n",
       "      <td>60709</td>\n",
       "      <td>2019-01-31 14:19:01.541</td>\n",
       "      <td>2019-02-01 07:10:51.065</td>\n",
       "      <td>16</td>\n",
       "      <td>Steuart St at Market St</td>\n",
       "      <td>37.794130</td>\n",
       "      <td>-122.394430</td>\n",
       "      <td>28</td>\n",
       "      <td>The Embarcadero at Bryant St</td>\n",
       "      <td>37.787168</td>\n",
       "      <td>-122.388098</td>\n",
       "      <td>2100</td>\n",
       "      <td>Customer</td>\n",
       "    </tr>\n",
       "  </tbody>\n",
       "</table>\n",
       "</div>"
      ],
      "text/plain": [
       "   duration_sec              start_time                end_time  \\\n",
       "0         80825 2019-01-31 17:57:44.613 2019-02-01 16:24:49.864   \n",
       "1         65900 2019-01-31 20:58:33.886 2019-02-01 15:16:54.173   \n",
       "2         62633 2019-01-31 18:06:52.924 2019-02-01 11:30:46.530   \n",
       "3         44680 2019-01-31 19:46:09.719 2019-02-01 08:10:50.318   \n",
       "4         60709 2019-01-31 14:19:01.541 2019-02-01 07:10:51.065   \n",
       "\n",
       "  start_station_id           start_station_name  start_station_latitude  \\\n",
       "0              229    Foothill Blvd at 42nd Ave               37.775745   \n",
       "1                4  Cyril Magnin St at Ellis St               37.785881   \n",
       "2              245       Downtown Berkeley BART               37.870139   \n",
       "3               85      Church St at Duboce Ave               37.770083   \n",
       "4               16      Steuart St at Market St               37.794130   \n",
       "\n",
       "   start_station_longitude end_station_id              end_station_name  \\\n",
       "0              -122.213037            196       Grand Ave at Perkins St   \n",
       "1              -122.408915            134        Valencia St at 24th St   \n",
       "2              -122.268422            157          65th St at Hollis St   \n",
       "3              -122.429156             53        Grove St at Divisadero   \n",
       "4              -122.394430             28  The Embarcadero at Bryant St   \n",
       "\n",
       "   end_station_latitude  end_station_longitude bike_id   user_type  \n",
       "0             37.808894            -122.256460    4861  Subscriber  \n",
       "1             37.752428            -122.420628    5506  Subscriber  \n",
       "2             37.846784            -122.291376    2717    Customer  \n",
       "3             37.775946            -122.437777    4557    Customer  \n",
       "4             37.787168            -122.388098    2100    Customer  "
      ]
     },
     "execution_count": 6,
     "metadata": {},
     "output_type": "execute_result"
    }
   ],
   "source": [
    "df.head()"
   ]
  },
  {
   "cell_type": "code",
   "execution_count": 7,
   "metadata": {},
   "outputs": [
    {
     "data": {
      "text/html": [
       "<div>\n",
       "<style scoped>\n",
       "    .dataframe tbody tr th:only-of-type {\n",
       "        vertical-align: middle;\n",
       "    }\n",
       "\n",
       "    .dataframe tbody tr th {\n",
       "        vertical-align: top;\n",
       "    }\n",
       "\n",
       "    .dataframe thead th {\n",
       "        text-align: right;\n",
       "    }\n",
       "</style>\n",
       "<table border=\"1\" class=\"dataframe\">\n",
       "  <thead>\n",
       "    <tr style=\"text-align: right;\">\n",
       "      <th></th>\n",
       "      <th>duration_sec</th>\n",
       "      <th>start_time</th>\n",
       "      <th>end_time</th>\n",
       "      <th>start_station_id</th>\n",
       "      <th>start_station_name</th>\n",
       "      <th>start_station_latitude</th>\n",
       "      <th>start_station_longitude</th>\n",
       "      <th>end_station_id</th>\n",
       "      <th>end_station_name</th>\n",
       "      <th>end_station_latitude</th>\n",
       "      <th>end_station_longitude</th>\n",
       "      <th>bike_id</th>\n",
       "      <th>user_type</th>\n",
       "    </tr>\n",
       "  </thead>\n",
       "  <tbody>\n",
       "    <tr>\n",
       "      <th>2506978</th>\n",
       "      <td>731</td>\n",
       "      <td>2019-12-28 18:37:29</td>\n",
       "      <td>2019-12-28 18:49:40</td>\n",
       "      <td>&lt;NA&gt;</td>\n",
       "      <td>&lt;NA&gt;</td>\n",
       "      <td>37.809731</td>\n",
       "      <td>-122.409855</td>\n",
       "      <td>&lt;NA&gt;</td>\n",
       "      <td>&lt;NA&gt;</td>\n",
       "      <td>37.807573</td>\n",
       "      <td>-122.421681</td>\n",
       "      <td>719651</td>\n",
       "      <td>Subscriber</td>\n",
       "    </tr>\n",
       "    <tr>\n",
       "      <th>2506979</th>\n",
       "      <td>748</td>\n",
       "      <td>2019-12-28 18:37:24</td>\n",
       "      <td>2019-12-28 18:49:53</td>\n",
       "      <td>&lt;NA&gt;</td>\n",
       "      <td>&lt;NA&gt;</td>\n",
       "      <td>37.809768</td>\n",
       "      <td>-122.409797</td>\n",
       "      <td>&lt;NA&gt;</td>\n",
       "      <td>&lt;NA&gt;</td>\n",
       "      <td>37.807558</td>\n",
       "      <td>-122.421638</td>\n",
       "      <td>655411</td>\n",
       "      <td>Subscriber</td>\n",
       "    </tr>\n",
       "    <tr>\n",
       "      <th>2506980</th>\n",
       "      <td>1044</td>\n",
       "      <td>2019-12-26 14:25:37</td>\n",
       "      <td>2019-12-26 14:43:02</td>\n",
       "      <td>&lt;NA&gt;</td>\n",
       "      <td>&lt;NA&gt;</td>\n",
       "      <td>37.810183</td>\n",
       "      <td>-122.410271</td>\n",
       "      <td>&lt;NA&gt;</td>\n",
       "      <td>&lt;NA&gt;</td>\n",
       "      <td>37.807225</td>\n",
       "      <td>-122.408850</td>\n",
       "      <td>936881</td>\n",
       "      <td>Subscriber</td>\n",
       "    </tr>\n",
       "    <tr>\n",
       "      <th>2506981</th>\n",
       "      <td>326</td>\n",
       "      <td>2019-12-30 20:35:43</td>\n",
       "      <td>2019-12-30 20:41:09</td>\n",
       "      <td>&lt;NA&gt;</td>\n",
       "      <td>&lt;NA&gt;</td>\n",
       "      <td>37.810471</td>\n",
       "      <td>-122.417386</td>\n",
       "      <td>&lt;NA&gt;</td>\n",
       "      <td>&lt;NA&gt;</td>\n",
       "      <td>37.803143</td>\n",
       "      <td>-122.414373</td>\n",
       "      <td>397539</td>\n",
       "      <td>Subscriber</td>\n",
       "    </tr>\n",
       "    <tr>\n",
       "      <th>2506982</th>\n",
       "      <td>4023</td>\n",
       "      <td>2019-12-31 19:26:48</td>\n",
       "      <td>2019-12-31 20:33:52</td>\n",
       "      <td>&lt;NA&gt;</td>\n",
       "      <td>&lt;NA&gt;</td>\n",
       "      <td>37.811042</td>\n",
       "      <td>-122.418149</td>\n",
       "      <td>&lt;NA&gt;</td>\n",
       "      <td>&lt;NA&gt;</td>\n",
       "      <td>37.810970</td>\n",
       "      <td>-122.418054</td>\n",
       "      <td>662304</td>\n",
       "      <td>Subscriber</td>\n",
       "    </tr>\n",
       "  </tbody>\n",
       "</table>\n",
       "</div>"
      ],
      "text/plain": [
       "         duration_sec          start_time            end_time  \\\n",
       "2506978           731 2019-12-28 18:37:29 2019-12-28 18:49:40   \n",
       "2506979           748 2019-12-28 18:37:24 2019-12-28 18:49:53   \n",
       "2506980          1044 2019-12-26 14:25:37 2019-12-26 14:43:02   \n",
       "2506981           326 2019-12-30 20:35:43 2019-12-30 20:41:09   \n",
       "2506982          4023 2019-12-31 19:26:48 2019-12-31 20:33:52   \n",
       "\n",
       "        start_station_id start_station_name  start_station_latitude  \\\n",
       "2506978             <NA>               <NA>               37.809731   \n",
       "2506979             <NA>               <NA>               37.809768   \n",
       "2506980             <NA>               <NA>               37.810183   \n",
       "2506981             <NA>               <NA>               37.810471   \n",
       "2506982             <NA>               <NA>               37.811042   \n",
       "\n",
       "         start_station_longitude end_station_id end_station_name  \\\n",
       "2506978              -122.409855           <NA>             <NA>   \n",
       "2506979              -122.409797           <NA>             <NA>   \n",
       "2506980              -122.410271           <NA>             <NA>   \n",
       "2506981              -122.417386           <NA>             <NA>   \n",
       "2506982              -122.418149           <NA>             <NA>   \n",
       "\n",
       "         end_station_latitude  end_station_longitude bike_id   user_type  \n",
       "2506978             37.807573            -122.421681  719651  Subscriber  \n",
       "2506979             37.807558            -122.421638  655411  Subscriber  \n",
       "2506980             37.807225            -122.408850  936881  Subscriber  \n",
       "2506981             37.803143            -122.414373  397539  Subscriber  \n",
       "2506982             37.810970            -122.418054  662304  Subscriber  "
      ]
     },
     "execution_count": 7,
     "metadata": {},
     "output_type": "execute_result"
    }
   ],
   "source": [
    "df.tail()"
   ]
  },
  {
   "cell_type": "code",
   "execution_count": 8,
   "metadata": {},
   "outputs": [
    {
     "name": "stdout",
     "output_type": "stream",
     "text": [
      "<class 'pandas.core.frame.DataFrame'>\n",
      "RangeIndex: 2506983 entries, 0 to 2506982\n",
      "Data columns (total 13 columns):\n",
      " #   Column                   Dtype         \n",
      "---  ------                   -----         \n",
      " 0   duration_sec             int32         \n",
      " 1   start_time               datetime64[ns]\n",
      " 2   end_time                 datetime64[ns]\n",
      " 3   start_station_id         string        \n",
      " 4   start_station_name       string        \n",
      " 5   start_station_latitude   float64       \n",
      " 6   start_station_longitude  float64       \n",
      " 7   end_station_id           string        \n",
      " 8   end_station_name         string        \n",
      " 9   end_station_latitude     float64       \n",
      " 10  end_station_longitude    float64       \n",
      " 11  bike_id                  string        \n",
      " 12  user_type                category      \n",
      "dtypes: category(1), datetime64[ns](2), float64(4), int32(1), string(5)\n",
      "memory usage: 222.3 MB\n",
      "None\n"
     ]
    },
    {
     "data": {
      "text/html": [
       "<div>\n",
       "<style scoped>\n",
       "    .dataframe tbody tr th:only-of-type {\n",
       "        vertical-align: middle;\n",
       "    }\n",
       "\n",
       "    .dataframe tbody tr th {\n",
       "        vertical-align: top;\n",
       "    }\n",
       "\n",
       "    .dataframe thead th {\n",
       "        text-align: right;\n",
       "    }\n",
       "</style>\n",
       "<table border=\"1\" class=\"dataframe\">\n",
       "  <thead>\n",
       "    <tr style=\"text-align: right;\">\n",
       "      <th></th>\n",
       "      <th>duration_sec</th>\n",
       "      <th>start_station_latitude</th>\n",
       "      <th>start_station_longitude</th>\n",
       "      <th>end_station_latitude</th>\n",
       "      <th>end_station_longitude</th>\n",
       "    </tr>\n",
       "  </thead>\n",
       "  <tbody>\n",
       "    <tr>\n",
       "      <th>count</th>\n",
       "      <td>2.506983e+06</td>\n",
       "      <td>2.506983e+06</td>\n",
       "      <td>2.506983e+06</td>\n",
       "      <td>2.506983e+06</td>\n",
       "      <td>2.506983e+06</td>\n",
       "    </tr>\n",
       "    <tr>\n",
       "      <th>mean</th>\n",
       "      <td>8.076483e+02</td>\n",
       "      <td>3.776506e+01</td>\n",
       "      <td>-1.223499e+02</td>\n",
       "      <td>3.776422e+01</td>\n",
       "      <td>-1.223459e+02</td>\n",
       "    </tr>\n",
       "    <tr>\n",
       "      <th>std</th>\n",
       "      <td>1.974714e+03</td>\n",
       "      <td>1.363698e-01</td>\n",
       "      <td>3.089648e-01</td>\n",
       "      <td>2.392885e-01</td>\n",
       "      <td>7.080417e-01</td>\n",
       "    </tr>\n",
       "    <tr>\n",
       "      <th>min</th>\n",
       "      <td>6.000000e+01</td>\n",
       "      <td>0.000000e+00</td>\n",
       "      <td>-1.225143e+02</td>\n",
       "      <td>0.000000e+00</td>\n",
       "      <td>-1.225143e+02</td>\n",
       "    </tr>\n",
       "    <tr>\n",
       "      <th>25%</th>\n",
       "      <td>3.590000e+02</td>\n",
       "      <td>3.776931e+01</td>\n",
       "      <td>-1.224130e+02</td>\n",
       "      <td>3.777003e+01</td>\n",
       "      <td>-1.224117e+02</td>\n",
       "    </tr>\n",
       "    <tr>\n",
       "      <th>50%</th>\n",
       "      <td>5.710000e+02</td>\n",
       "      <td>3.778053e+01</td>\n",
       "      <td>-1.223983e+02</td>\n",
       "      <td>3.778076e+01</td>\n",
       "      <td>-1.223981e+02</td>\n",
       "    </tr>\n",
       "    <tr>\n",
       "      <th>75%</th>\n",
       "      <td>8.870000e+02</td>\n",
       "      <td>3.779539e+01</td>\n",
       "      <td>-1.222914e+02</td>\n",
       "      <td>3.779587e+01</td>\n",
       "      <td>-1.222934e+02</td>\n",
       "    </tr>\n",
       "    <tr>\n",
       "      <th>max</th>\n",
       "      <td>9.121100e+05</td>\n",
       "      <td>4.551000e+01</td>\n",
       "      <td>0.000000e+00</td>\n",
       "      <td>4.551000e+01</td>\n",
       "      <td>0.000000e+00</td>\n",
       "    </tr>\n",
       "  </tbody>\n",
       "</table>\n",
       "</div>"
      ],
      "text/plain": [
       "       duration_sec  start_station_latitude  start_station_longitude  \\\n",
       "count  2.506983e+06            2.506983e+06             2.506983e+06   \n",
       "mean   8.076483e+02            3.776506e+01            -1.223499e+02   \n",
       "std    1.974714e+03            1.363698e-01             3.089648e-01   \n",
       "min    6.000000e+01            0.000000e+00            -1.225143e+02   \n",
       "25%    3.590000e+02            3.776931e+01            -1.224130e+02   \n",
       "50%    5.710000e+02            3.778053e+01            -1.223983e+02   \n",
       "75%    8.870000e+02            3.779539e+01            -1.222914e+02   \n",
       "max    9.121100e+05            4.551000e+01             0.000000e+00   \n",
       "\n",
       "       end_station_latitude  end_station_longitude  \n",
       "count          2.506983e+06           2.506983e+06  \n",
       "mean           3.776422e+01          -1.223459e+02  \n",
       "std            2.392885e-01           7.080417e-01  \n",
       "min            0.000000e+00          -1.225143e+02  \n",
       "25%            3.777003e+01          -1.224117e+02  \n",
       "50%            3.778076e+01          -1.223981e+02  \n",
       "75%            3.779587e+01          -1.222934e+02  \n",
       "max            4.551000e+01           0.000000e+00  "
      ]
     },
     "execution_count": 8,
     "metadata": {},
     "output_type": "execute_result"
    }
   ],
   "source": [
    "print(df.info())\n",
    "df.describe()"
   ]
  },
  {
   "cell_type": "markdown",
   "metadata": {},
   "source": [
    "#### Explore missing Values"
   ]
  },
  {
   "cell_type": "code",
   "execution_count": 9,
   "metadata": {},
   "outputs": [
    {
     "data": {
      "text/plain": [
       "duration_sec                   0\n",
       "start_time                     0\n",
       "end_time                       0\n",
       "start_station_id           80734\n",
       "start_station_name         80133\n",
       "start_station_latitude         0\n",
       "start_station_longitude        0\n",
       "end_station_id             82902\n",
       "end_station_name           82350\n",
       "end_station_latitude           0\n",
       "end_station_longitude          0\n",
       "bike_id                        0\n",
       "user_type                      0\n",
       "dtype: int64"
      ]
     },
     "execution_count": 9,
     "metadata": {},
     "output_type": "execute_result"
    }
   ],
   "source": [
    "df.isnull().sum()"
   ]
  },
  {
   "cell_type": "markdown",
   "metadata": {},
   "source": [
    "- Quality Issue #1: Missing values in 'start_station_id' Column\n",
    "- Quality Issue #2: Missing values in 'start_station_name' Column\n",
    "- Quality Issue #3: Missing values in 'end_station_id ' Column\n",
    "- Quality Issue #4: Missing values in 'end_station_id ' Column"
   ]
  },
  {
   "cell_type": "markdown",
   "metadata": {},
   "source": [
    "Inspect the rows with missing values for the station_id and/or station name"
   ]
  },
  {
   "cell_type": "code",
   "execution_count": 10,
   "metadata": {},
   "outputs": [
    {
     "name": "stdout",
     "output_type": "stream",
     "text": [
      "<class 'pandas.core.frame.DataFrame'>\n",
      "Int64Index: 82902 entries, 2023 to 2506982\n",
      "Data columns (total 13 columns):\n",
      " #   Column                   Non-Null Count  Dtype         \n",
      "---  ------                   --------------  -----         \n",
      " 0   duration_sec             82902 non-null  int32         \n",
      " 1   start_time               82902 non-null  datetime64[ns]\n",
      " 2   end_time                 82902 non-null  datetime64[ns]\n",
      " 3   start_station_id         18990 non-null  string        \n",
      " 4   start_station_name       19264 non-null  string        \n",
      " 5   start_station_latitude   82902 non-null  float64       \n",
      " 6   start_station_longitude  82902 non-null  float64       \n",
      " 7   end_station_id           0 non-null      string        \n",
      " 8   end_station_name         552 non-null    string        \n",
      " 9   end_station_latitude     82902 non-null  float64       \n",
      " 10  end_station_longitude    82902 non-null  float64       \n",
      " 11  bike_id                  82902 non-null  string        \n",
      " 12  user_type                82902 non-null  category      \n",
      "dtypes: category(1), datetime64[ns](2), float64(4), int32(1), string(5)\n",
      "memory usage: 8.0 MB\n"
     ]
    }
   ],
   "source": [
    "end_nostation = df.loc[df.end_station_id.isnull() | df\\\n",
    "                               .end_station_name.isnull()]\n",
    "end_nostation.info()"
   ]
  },
  {
   "cell_type": "code",
   "execution_count": 11,
   "metadata": {},
   "outputs": [
    {
     "data": {
      "text/html": [
       "<div>\n",
       "<style scoped>\n",
       "    .dataframe tbody tr th:only-of-type {\n",
       "        vertical-align: middle;\n",
       "    }\n",
       "\n",
       "    .dataframe tbody tr th {\n",
       "        vertical-align: top;\n",
       "    }\n",
       "\n",
       "    .dataframe thead th {\n",
       "        text-align: right;\n",
       "    }\n",
       "</style>\n",
       "<table border=\"1\" class=\"dataframe\">\n",
       "  <thead>\n",
       "    <tr style=\"text-align: right;\">\n",
       "      <th></th>\n",
       "      <th>count</th>\n",
       "      <th>mean</th>\n",
       "      <th>std</th>\n",
       "      <th>min</th>\n",
       "      <th>25%</th>\n",
       "      <th>50%</th>\n",
       "      <th>75%</th>\n",
       "      <th>max</th>\n",
       "    </tr>\n",
       "    <tr>\n",
       "      <th>end_time</th>\n",
       "      <th></th>\n",
       "      <th></th>\n",
       "      <th></th>\n",
       "      <th></th>\n",
       "      <th></th>\n",
       "      <th></th>\n",
       "      <th></th>\n",
       "      <th></th>\n",
       "    </tr>\n",
       "  </thead>\n",
       "  <tbody>\n",
       "    <tr>\n",
       "      <th>1</th>\n",
       "      <td>256.0</td>\n",
       "      <td>1527.371094</td>\n",
       "      <td>4340.221033</td>\n",
       "      <td>63.0</td>\n",
       "      <td>399.75</td>\n",
       "      <td>670.5</td>\n",
       "      <td>1207.50</td>\n",
       "      <td>52897.0</td>\n",
       "    </tr>\n",
       "    <tr>\n",
       "      <th>2</th>\n",
       "      <td>197.0</td>\n",
       "      <td>890.152284</td>\n",
       "      <td>947.517539</td>\n",
       "      <td>66.0</td>\n",
       "      <td>341.00</td>\n",
       "      <td>660.0</td>\n",
       "      <td>999.00</td>\n",
       "      <td>8209.0</td>\n",
       "    </tr>\n",
       "    <tr>\n",
       "      <th>3</th>\n",
       "      <td>221.0</td>\n",
       "      <td>1224.316742</td>\n",
       "      <td>2840.181689</td>\n",
       "      <td>74.0</td>\n",
       "      <td>370.00</td>\n",
       "      <td>695.0</td>\n",
       "      <td>1052.00</td>\n",
       "      <td>34005.0</td>\n",
       "    </tr>\n",
       "    <tr>\n",
       "      <th>4</th>\n",
       "      <td>64.0</td>\n",
       "      <td>1634.734375</td>\n",
       "      <td>2513.386890</td>\n",
       "      <td>94.0</td>\n",
       "      <td>547.75</td>\n",
       "      <td>1033.0</td>\n",
       "      <td>1514.50</td>\n",
       "      <td>13460.0</td>\n",
       "    </tr>\n",
       "    <tr>\n",
       "      <th>5</th>\n",
       "      <td>15.0</td>\n",
       "      <td>915.933333</td>\n",
       "      <td>392.292068</td>\n",
       "      <td>484.0</td>\n",
       "      <td>600.00</td>\n",
       "      <td>846.0</td>\n",
       "      <td>1148.50</td>\n",
       "      <td>1927.0</td>\n",
       "    </tr>\n",
       "    <tr>\n",
       "      <th>6</th>\n",
       "      <td>2262.0</td>\n",
       "      <td>856.406720</td>\n",
       "      <td>1033.681385</td>\n",
       "      <td>60.0</td>\n",
       "      <td>346.00</td>\n",
       "      <td>570.0</td>\n",
       "      <td>986.25</td>\n",
       "      <td>16516.0</td>\n",
       "    </tr>\n",
       "    <tr>\n",
       "      <th>7</th>\n",
       "      <td>57576.0</td>\n",
       "      <td>914.364735</td>\n",
       "      <td>1345.663985</td>\n",
       "      <td>60.0</td>\n",
       "      <td>399.00</td>\n",
       "      <td>641.0</td>\n",
       "      <td>1043.00</td>\n",
       "      <td>61869.0</td>\n",
       "    </tr>\n",
       "    <tr>\n",
       "      <th>11</th>\n",
       "      <td>971.0</td>\n",
       "      <td>1334.411946</td>\n",
       "      <td>2165.359206</td>\n",
       "      <td>60.0</td>\n",
       "      <td>237.50</td>\n",
       "      <td>478.0</td>\n",
       "      <td>1263.50</td>\n",
       "      <td>19798.0</td>\n",
       "    </tr>\n",
       "    <tr>\n",
       "      <th>12</th>\n",
       "      <td>21340.0</td>\n",
       "      <td>831.898922</td>\n",
       "      <td>6338.601802</td>\n",
       "      <td>60.0</td>\n",
       "      <td>316.00</td>\n",
       "      <td>538.5</td>\n",
       "      <td>923.00</td>\n",
       "      <td>912110.0</td>\n",
       "    </tr>\n",
       "  </tbody>\n",
       "</table>\n",
       "</div>"
      ],
      "text/plain": [
       "            count         mean          std    min     25%     50%      75%  \\\n",
       "end_time                                                                      \n",
       "1           256.0  1527.371094  4340.221033   63.0  399.75   670.5  1207.50   \n",
       "2           197.0   890.152284   947.517539   66.0  341.00   660.0   999.00   \n",
       "3           221.0  1224.316742  2840.181689   74.0  370.00   695.0  1052.00   \n",
       "4            64.0  1634.734375  2513.386890   94.0  547.75  1033.0  1514.50   \n",
       "5            15.0   915.933333   392.292068  484.0  600.00   846.0  1148.50   \n",
       "6          2262.0   856.406720  1033.681385   60.0  346.00   570.0   986.25   \n",
       "7         57576.0   914.364735  1345.663985   60.0  399.00   641.0  1043.00   \n",
       "11          971.0  1334.411946  2165.359206   60.0  237.50   478.0  1263.50   \n",
       "12        21340.0   831.898922  6338.601802   60.0  316.00   538.5   923.00   \n",
       "\n",
       "               max  \n",
       "end_time            \n",
       "1          52897.0  \n",
       "2           8209.0  \n",
       "3          34005.0  \n",
       "4          13460.0  \n",
       "5           1927.0  \n",
       "6          16516.0  \n",
       "7          61869.0  \n",
       "11         19798.0  \n",
       "12        912110.0  "
      ]
     },
     "execution_count": 11,
     "metadata": {},
     "output_type": "execute_result"
    }
   ],
   "source": [
    "end_nostation.groupby(end_nostation['end_time'].dt.month).describe().duration_sec"
   ]
  },
  {
   "cell_type": "code",
   "execution_count": 12,
   "metadata": {},
   "outputs": [
    {
     "name": "stdout",
     "output_type": "stream",
     "text": [
      "<class 'pandas.core.frame.DataFrame'>\n",
      "Int64Index: 80734 entries, 2023 to 2506982\n",
      "Data columns (total 13 columns):\n",
      " #   Column                   Non-Null Count  Dtype         \n",
      "---  ------                   --------------  -----         \n",
      " 0   duration_sec             80734 non-null  int32         \n",
      " 1   start_time               80734 non-null  datetime64[ns]\n",
      " 2   end_time                 80734 non-null  datetime64[ns]\n",
      " 3   start_station_id         0 non-null      string        \n",
      " 4   start_station_name       601 non-null    string        \n",
      " 5   start_station_latitude   80734 non-null  float64       \n",
      " 6   start_station_longitude  80734 non-null  float64       \n",
      " 7   end_station_id           16822 non-null  string        \n",
      " 8   end_station_name         17069 non-null  string        \n",
      " 9   end_station_latitude     80734 non-null  float64       \n",
      " 10  end_station_longitude    80734 non-null  float64       \n",
      " 11  bike_id                  80734 non-null  string        \n",
      " 12  user_type                80734 non-null  category      \n",
      "dtypes: category(1), datetime64[ns](2), float64(4), int32(1), string(5)\n",
      "memory usage: 7.8 MB\n"
     ]
    }
   ],
   "source": [
    "start_nostation = df.loc[df.start_station_id.isnull() | df\\\n",
    "                               .start_station_name.isnull()]\n",
    "start_nostation.info()"
   ]
  },
  {
   "cell_type": "code",
   "execution_count": 13,
   "metadata": {},
   "outputs": [
    {
     "data": {
      "text/html": [
       "<div>\n",
       "<style scoped>\n",
       "    .dataframe tbody tr th:only-of-type {\n",
       "        vertical-align: middle;\n",
       "    }\n",
       "\n",
       "    .dataframe tbody tr th {\n",
       "        vertical-align: top;\n",
       "    }\n",
       "\n",
       "    .dataframe thead th {\n",
       "        text-align: right;\n",
       "    }\n",
       "</style>\n",
       "<table border=\"1\" class=\"dataframe\">\n",
       "  <thead>\n",
       "    <tr style=\"text-align: right;\">\n",
       "      <th></th>\n",
       "      <th>count</th>\n",
       "      <th>mean</th>\n",
       "      <th>std</th>\n",
       "      <th>min</th>\n",
       "      <th>25%</th>\n",
       "      <th>50%</th>\n",
       "      <th>75%</th>\n",
       "      <th>max</th>\n",
       "    </tr>\n",
       "    <tr>\n",
       "      <th>start_time</th>\n",
       "      <th></th>\n",
       "      <th></th>\n",
       "      <th></th>\n",
       "      <th></th>\n",
       "      <th></th>\n",
       "      <th></th>\n",
       "      <th></th>\n",
       "      <th></th>\n",
       "    </tr>\n",
       "  </thead>\n",
       "  <tbody>\n",
       "    <tr>\n",
       "      <th>1</th>\n",
       "      <td>248.0</td>\n",
       "      <td>1287.653226</td>\n",
       "      <td>2917.716973</td>\n",
       "      <td>63.0</td>\n",
       "      <td>391.25</td>\n",
       "      <td>662.0</td>\n",
       "      <td>1180.75</td>\n",
       "      <td>30016.0</td>\n",
       "    </tr>\n",
       "    <tr>\n",
       "      <th>2</th>\n",
       "      <td>197.0</td>\n",
       "      <td>890.152284</td>\n",
       "      <td>947.517539</td>\n",
       "      <td>66.0</td>\n",
       "      <td>341.00</td>\n",
       "      <td>660.0</td>\n",
       "      <td>999.00</td>\n",
       "      <td>8209.0</td>\n",
       "    </tr>\n",
       "    <tr>\n",
       "      <th>3</th>\n",
       "      <td>221.0</td>\n",
       "      <td>1224.316742</td>\n",
       "      <td>2840.181689</td>\n",
       "      <td>74.0</td>\n",
       "      <td>370.00</td>\n",
       "      <td>695.0</td>\n",
       "      <td>1052.00</td>\n",
       "      <td>34005.0</td>\n",
       "    </tr>\n",
       "    <tr>\n",
       "      <th>4</th>\n",
       "      <td>64.0</td>\n",
       "      <td>1634.734375</td>\n",
       "      <td>2513.386890</td>\n",
       "      <td>94.0</td>\n",
       "      <td>547.75</td>\n",
       "      <td>1033.0</td>\n",
       "      <td>1514.50</td>\n",
       "      <td>13460.0</td>\n",
       "    </tr>\n",
       "    <tr>\n",
       "      <th>5</th>\n",
       "      <td>15.0</td>\n",
       "      <td>915.933333</td>\n",
       "      <td>392.292068</td>\n",
       "      <td>484.0</td>\n",
       "      <td>600.00</td>\n",
       "      <td>846.0</td>\n",
       "      <td>1148.50</td>\n",
       "      <td>1927.0</td>\n",
       "    </tr>\n",
       "    <tr>\n",
       "      <th>6</th>\n",
       "      <td>2160.0</td>\n",
       "      <td>816.013426</td>\n",
       "      <td>883.208832</td>\n",
       "      <td>60.0</td>\n",
       "      <td>335.75</td>\n",
       "      <td>559.0</td>\n",
       "      <td>967.50</td>\n",
       "      <td>12907.0</td>\n",
       "    </tr>\n",
       "    <tr>\n",
       "      <th>7</th>\n",
       "      <td>55887.0</td>\n",
       "      <td>895.760714</td>\n",
       "      <td>1247.187489</td>\n",
       "      <td>60.0</td>\n",
       "      <td>403.00</td>\n",
       "      <td>644.0</td>\n",
       "      <td>1039.00</td>\n",
       "      <td>61869.0</td>\n",
       "    </tr>\n",
       "    <tr>\n",
       "      <th>11</th>\n",
       "      <td>923.0</td>\n",
       "      <td>1381.891658</td>\n",
       "      <td>2250.431952</td>\n",
       "      <td>60.0</td>\n",
       "      <td>242.00</td>\n",
       "      <td>472.0</td>\n",
       "      <td>1294.50</td>\n",
       "      <td>19798.0</td>\n",
       "    </tr>\n",
       "    <tr>\n",
       "      <th>12</th>\n",
       "      <td>21019.0</td>\n",
       "      <td>835.618583</td>\n",
       "      <td>6404.964898</td>\n",
       "      <td>60.0</td>\n",
       "      <td>319.00</td>\n",
       "      <td>545.0</td>\n",
       "      <td>927.00</td>\n",
       "      <td>912110.0</td>\n",
       "    </tr>\n",
       "  </tbody>\n",
       "</table>\n",
       "</div>"
      ],
      "text/plain": [
       "              count         mean          std    min     25%     50%      75%  \\\n",
       "start_time                                                                      \n",
       "1             248.0  1287.653226  2917.716973   63.0  391.25   662.0  1180.75   \n",
       "2             197.0   890.152284   947.517539   66.0  341.00   660.0   999.00   \n",
       "3             221.0  1224.316742  2840.181689   74.0  370.00   695.0  1052.00   \n",
       "4              64.0  1634.734375  2513.386890   94.0  547.75  1033.0  1514.50   \n",
       "5              15.0   915.933333   392.292068  484.0  600.00   846.0  1148.50   \n",
       "6            2160.0   816.013426   883.208832   60.0  335.75   559.0   967.50   \n",
       "7           55887.0   895.760714  1247.187489   60.0  403.00   644.0  1039.00   \n",
       "11            923.0  1381.891658  2250.431952   60.0  242.00   472.0  1294.50   \n",
       "12          21019.0   835.618583  6404.964898   60.0  319.00   545.0   927.00   \n",
       "\n",
       "                 max  \n",
       "start_time            \n",
       "1            30016.0  \n",
       "2             8209.0  \n",
       "3            34005.0  \n",
       "4            13460.0  \n",
       "5             1927.0  \n",
       "6            12907.0  \n",
       "7            61869.0  \n",
       "11           19798.0  \n",
       "12          912110.0  "
      ]
     },
     "execution_count": 13,
     "metadata": {},
     "output_type": "execute_result"
    }
   ],
   "source": [
    "start_nostation.groupby(start_nostation['start_time'].dt.month).describe().duration_sec"
   ]
  },
  {
   "cell_type": "code",
   "execution_count": 14,
   "metadata": {},
   "outputs": [
    {
     "data": {
      "image/png": "[encoded data removed]",
      "text/plain": [
       "<Figure size 1440x576 with 1 Axes>"
      ]
     },
     "metadata": {
      "needs_background": "light"
     },
     "output_type": "display_data"
    }
   ],
   "source": [
    "import seaborn as sns\n",
    "start = list((start_nostation.groupby(start_nostation['start_time'].dt.month).describe().duration_sec)['count'])\n",
    "stop = list((end_nostation.groupby(end_nostation['end_time'].dt.month).describe().duration_sec)['count'])\n",
    "months = ['January', 'February', 'March', 'April', 'May', 'June', 'July', 'November', 'Dicember']\n",
    "\n",
    "x = np.arange(len(months))  # the label locations\n",
    "width = 0.40  # the width of the bars\n",
    "\n",
    "\n",
    "fig, ax = plt.subplots(figsize=(20,8))\n",
    "\n",
    "rects1 = ax.bar(x - width/2, start, width, label='Start')\n",
    "rects2 = ax.bar(x + width/2, stop, width, label='Stop')\n",
    "\n",
    "# Add some text for labels, title and custom x-axis tick labels, etc.\n",
    "ax.set_ylabel('Time in seconds')\n",
    "ax.set_title('Start and Stop Duration of Rides for missing Stations')\n",
    "ax.set_xticks(x)\n",
    "ax.set_xticklabels(months)\n",
    "ax.legend()\n",
    "\n",
    "def autolabel(rects):\n",
    "    \"\"\"Attach a text label above each bar in *rects*, displaying its height.\"\"\"\n",
    "    for rect in rects:\n",
    "        height = rect.get_height()\n",
    "        ax.annotate('{}'.format(height),\n",
    "                    xy=(rect.get_x() + rect.get_width() / 2, height),\n",
    "                    xytext=(0, 3),  # 3 points vertical offset\n",
    "                    textcoords=\"offset points\",\n",
    "                    ha='center', va='bottom')\n",
    "autolabel(rects1)\n",
    "autolabel(rects2)"
   ]
  },
  {
   "cell_type": "code",
   "execution_count": 15,
   "metadata": {},
   "outputs": [
    {
     "data": {
      "image/png": "[encoded data removed]",
      "text/plain": [
       "<Figure size 1080x360 with 1 Axes>"
      ]
     },
     "metadata": {
      "needs_background": "light"
     },
     "output_type": "display_data"
    }
   ],
   "source": [
    "start_nostation.groupby(start_nostation['start_time'].dt.month).count().plot(kind = 'bar', figsize=(15, 5));"
   ]
  },
  {
   "cell_type": "code",
   "execution_count": 16,
   "metadata": {},
   "outputs": [
    {
     "data": {
      "image/png": "[encoded data removed]",
      "text/plain": [
       "<Figure size 1080x360 with 1 Axes>"
      ]
     },
     "metadata": {
      "needs_background": "light"
     },
     "output_type": "display_data"
    }
   ],
   "source": [
    "start_nostation.groupby(start_nostation['start_time'].dt.day).count().plot(kind = 'bar', figsize=(15, 5));"
   ]
  },
  {
   "cell_type": "code",
   "execution_count": 17,
   "metadata": {},
   "outputs": [
    {
     "data": {
      "image/png": "[encoded data removed]",
      "text/plain": [
       "<Figure size 1080x360 with 1 Axes>"
      ]
     },
     "metadata": {
      "needs_background": "light"
     },
     "output_type": "display_data"
    }
   ],
   "source": [
    "end_nostation.groupby(end_nostation['end_time'].dt.month).count().plot(kind = 'bar', figsize=(15, 5));"
   ]
  },
  {
   "cell_type": "code",
   "execution_count": 18,
   "metadata": {},
   "outputs": [
    {
     "data": {
      "image/png": "[encoded data removed]",
      "text/plain": [
       "<Figure size 1080x360 with 1 Axes>"
      ]
     },
     "metadata": {
      "needs_background": "light"
     },
     "output_type": "display_data"
    }
   ],
   "source": [
    "end_nostation.groupby(end_nostation['end_time'].dt.day).count().plot(kind = 'bar', figsize=(15, 5));"
   ]
  },
  {
   "cell_type": "code",
   "execution_count": 19,
   "metadata": {},
   "outputs": [
    {
     "data": {
      "text/plain": [
       "0"
      ]
     },
     "execution_count": 19,
     "metadata": {},
     "output_type": "execute_result"
    }
   ],
   "source": [
    "df.duplicated().sum()"
   ]
  },
  {
   "cell_type": "code",
   "execution_count": 20,
   "metadata": {},
   "outputs": [
    {
     "data": {
      "text/plain": [
       "11070"
      ]
     },
     "execution_count": 20,
     "metadata": {},
     "output_type": "execute_result"
    }
   ],
   "source": [
    "df.bike_id.nunique()"
   ]
  },
  {
   "cell_type": "markdown",
   "metadata": {},
   "source": [
    "#### Conclusion while assessing the Dataset:\n",
    "We found some quality issues related to missing values and wrong data types. There are otherwise no tidiness Issues and no duplicate Entries.\n",
    "\n",
    "It looks like in June and September a lot of missing values occured. It looks like a technical problem might have occured. However such data can retrieved by geospatial information we happen to posess."
   ]
  },
  {
   "cell_type": "markdown",
   "metadata": {},
   "source": [
    "[Back To Top](#top)"
   ]
  },
  {
   "cell_type": "markdown",
   "metadata": {},
   "source": [
    "<a id='clean'></a>\n",
    "### Cleaning Data for the greater San Fransisco Bay Area:\n",
    "\n",
    "- Quality Issue #1: Missing values for 'start_station_id' and 'end_station_id'\n",
    "- Quality Issue #2: Missing values for 'start_station_name' and 'end_station_name'\n",
    "- Data Types have been updated while reading .csv files using the types dictionary. We have later changed datetype that also helped us in the assessing part.  "
   ]
  },
  {
   "cell_type": "markdown",
   "metadata": {},
   "source": [
    "#### Quality Issue #1: Missing values for 'start_station_id' and 'end_station_id'"
   ]
  },
  {
   "cell_type": "markdown",
   "metadata": {},
   "source": [
    "#### Define:\n",
    "- Datatype of 'start_station_id'and 'end_station_id' to a string has been already changed during reading the .csv file\n",
    "- set the value 'None' instead of the 'Na' value in the Columns 'start_station_id' and 'end_station_id'"
   ]
  },
  {
   "cell_type": "markdown",
   "metadata": {},
   "source": [
    "#### Code:"
   ]
  },
  {
   "cell_type": "code",
   "execution_count": 140,
   "metadata": {},
   "outputs": [],
   "source": [
    "# Write a function to set 'Not a station' instead of 'nan'\n",
    "def format_station_id(x):\n",
    "    if pd.isna(x):\n",
    "        x = 'None'\n",
    "    return x"
   ]
  },
  {
   "cell_type": "code",
   "execution_count": 141,
   "metadata": {},
   "outputs": [
    {
     "name": "stdout",
     "output_type": "stream",
     "text": [
      "object object\n"
     ]
    }
   ],
   "source": [
    "# convert the type of the columns values to string objects and format the values as an ID or 'None'\n",
    "df['start_station_id'] = df['start_station_id'].map(format_station_id)\n",
    "df['end_station_id'] = df['end_station_id'].map(format_station_id)\n",
    "\n",
    "print(df.start_station_id.dtype, df.end_station_id.dtype)"
   ]
  },
  {
   "cell_type": "markdown",
   "metadata": {},
   "source": [
    "#### Test:"
   ]
  },
  {
   "cell_type": "code",
   "execution_count": 144,
   "metadata": {},
   "outputs": [
    {
     "data": {
      "text/plain": [
       "0    229\n",
       "1      4\n",
       "2    245\n",
       "3     85\n",
       "4     16\n",
       "Name: start_station_id, dtype: object"
      ]
     },
     "execution_count": 144,
     "metadata": {},
     "output_type": "execute_result"
    }
   ],
   "source": [
    "df.start_station_id.head()"
   ]
  },
  {
   "cell_type": "code",
   "execution_count": 148,
   "metadata": {},
   "outputs": [
    {
     "data": {
      "text/plain": [
       "(80734, 13)"
      ]
     },
     "execution_count": 148,
     "metadata": {},
     "output_type": "execute_result"
    }
   ],
   "source": [
    "start_nans = df.query('start_station_id == \"None\"')\n",
    "start_nans.shape"
   ]
  },
  {
   "cell_type": "code",
   "execution_count": 149,
   "metadata": {},
   "outputs": [
    {
     "data": {
      "text/plain": [
       "(82902, 13)"
      ]
     },
     "execution_count": 149,
     "metadata": {},
     "output_type": "execute_result"
    }
   ],
   "source": [
    "end_nans = df.query('end_station_id == \"None\"')\n",
    "end_nans.shape"
   ]
  },
  {
   "cell_type": "markdown",
   "metadata": {},
   "source": [
    "#### Quality Issue #2: Missing values for 'start_station_name' and 'end_station_name'"
   ]
  },
  {
   "cell_type": "markdown",
   "metadata": {},
   "source": [
    "#### Define:\n",
    "- set the value 'None' instead of 'NaN' values in the columns 'start_station_name' and 'end_station_name'"
   ]
  },
  {
   "cell_type": "markdown",
   "metadata": {},
   "source": [
    "#### Code:"
   ]
  },
  {
   "cell_type": "code",
   "execution_count": 150,
   "metadata": {},
   "outputs": [],
   "source": [
    "df['start_station_name'].fillna('None', inplace=True)\n",
    "df['end_station_name'].fillna('None', inplace=True)"
   ]
  },
  {
   "cell_type": "markdown",
   "metadata": {},
   "source": [
    "#### Test:"
   ]
  },
  {
   "cell_type": "code",
   "execution_count": 152,
   "metadata": {},
   "outputs": [
    {
     "data": {
      "text/html": [
       "<div>\n",
       "<style scoped>\n",
       "    .dataframe tbody tr th:only-of-type {\n",
       "        vertical-align: middle;\n",
       "    }\n",
       "\n",
       "    .dataframe tbody tr th {\n",
       "        vertical-align: top;\n",
       "    }\n",
       "\n",
       "    .dataframe thead th {\n",
       "        text-align: right;\n",
       "    }\n",
       "</style>\n",
       "<table border=\"1\" class=\"dataframe\">\n",
       "  <thead>\n",
       "    <tr style=\"text-align: right;\">\n",
       "      <th></th>\n",
       "      <th>duration_sec</th>\n",
       "      <th>start_time</th>\n",
       "      <th>end_time</th>\n",
       "      <th>start_station_id</th>\n",
       "      <th>start_station_name</th>\n",
       "      <th>start_station_latitude</th>\n",
       "      <th>start_station_longitude</th>\n",
       "      <th>end_station_id</th>\n",
       "      <th>end_station_name</th>\n",
       "      <th>end_station_latitude</th>\n",
       "      <th>end_station_longitude</th>\n",
       "      <th>bike_id</th>\n",
       "      <th>user_type</th>\n",
       "    </tr>\n",
       "  </thead>\n",
       "  <tbody>\n",
       "    <tr>\n",
       "      <th>2023</th>\n",
       "      <td>746</td>\n",
       "      <td>2019-01-31 18:21:27.0020</td>\n",
       "      <td>2019-01-31 18:33:53.0870</td>\n",
       "      <td>None</td>\n",
       "      <td>None</td>\n",
       "      <td>37.40</td>\n",
       "      <td>-121.92</td>\n",
       "      <td>None</td>\n",
       "      <td>None</td>\n",
       "      <td>37.41</td>\n",
       "      <td>-121.94</td>\n",
       "      <td>4244</td>\n",
       "      <td>Subscriber</td>\n",
       "    </tr>\n",
       "    <tr>\n",
       "      <th>2533</th>\n",
       "      <td>278</td>\n",
       "      <td>2019-01-31 18:00:28.2040</td>\n",
       "      <td>2019-01-31 18:05:07.0900</td>\n",
       "      <td>None</td>\n",
       "      <td>None</td>\n",
       "      <td>37.40</td>\n",
       "      <td>-121.94</td>\n",
       "      <td>None</td>\n",
       "      <td>None</td>\n",
       "      <td>37.40</td>\n",
       "      <td>-121.94</td>\n",
       "      <td>4249</td>\n",
       "      <td>Subscriber</td>\n",
       "    </tr>\n",
       "    <tr>\n",
       "      <th>3089</th>\n",
       "      <td>830</td>\n",
       "      <td>2019-01-31 17:23:59.3410</td>\n",
       "      <td>2019-01-31 17:37:50.0250</td>\n",
       "      <td>None</td>\n",
       "      <td>None</td>\n",
       "      <td>37.39</td>\n",
       "      <td>-121.93</td>\n",
       "      <td>None</td>\n",
       "      <td>None</td>\n",
       "      <td>37.40</td>\n",
       "      <td>-121.93</td>\n",
       "      <td>4208</td>\n",
       "      <td>Subscriber</td>\n",
       "    </tr>\n",
       "    <tr>\n",
       "      <th>5264</th>\n",
       "      <td>562</td>\n",
       "      <td>2019-01-31 13:29:18.5250</td>\n",
       "      <td>2019-01-31 13:38:41.0210</td>\n",
       "      <td>None</td>\n",
       "      <td>None</td>\n",
       "      <td>37.40</td>\n",
       "      <td>-121.93</td>\n",
       "      <td>None</td>\n",
       "      <td>None</td>\n",
       "      <td>37.39</td>\n",
       "      <td>-121.93</td>\n",
       "      <td>4208</td>\n",
       "      <td>Subscriber</td>\n",
       "    </tr>\n",
       "    <tr>\n",
       "      <th>5833</th>\n",
       "      <td>1676</td>\n",
       "      <td>2019-01-31 11:36:57.0450</td>\n",
       "      <td>2019-01-31 12:04:53.5010</td>\n",
       "      <td>None</td>\n",
       "      <td>None</td>\n",
       "      <td>37.40</td>\n",
       "      <td>-121.94</td>\n",
       "      <td>None</td>\n",
       "      <td>None</td>\n",
       "      <td>37.40</td>\n",
       "      <td>-121.94</td>\n",
       "      <td>4251</td>\n",
       "      <td>Customer</td>\n",
       "    </tr>\n",
       "  </tbody>\n",
       "</table>\n",
       "</div>"
      ],
      "text/plain": [
       "      duration_sec                start_time                  end_time  \\\n",
       "2023           746  2019-01-31 18:21:27.0020  2019-01-31 18:33:53.0870   \n",
       "2533           278  2019-01-31 18:00:28.2040  2019-01-31 18:05:07.0900   \n",
       "3089           830  2019-01-31 17:23:59.3410  2019-01-31 17:37:50.0250   \n",
       "5264           562  2019-01-31 13:29:18.5250  2019-01-31 13:38:41.0210   \n",
       "5833          1676  2019-01-31 11:36:57.0450  2019-01-31 12:04:53.5010   \n",
       "\n",
       "     start_station_id start_station_name  start_station_latitude  \\\n",
       "2023             None               None                   37.40   \n",
       "2533             None               None                   37.40   \n",
       "3089             None               None                   37.39   \n",
       "5264             None               None                   37.40   \n",
       "5833             None               None                   37.40   \n",
       "\n",
       "      start_station_longitude end_station_id end_station_name  \\\n",
       "2023                  -121.92           None             None   \n",
       "2533                  -121.94           None             None   \n",
       "3089                  -121.93           None             None   \n",
       "5264                  -121.93           None             None   \n",
       "5833                  -121.94           None             None   \n",
       "\n",
       "      end_station_latitude  end_station_longitude bike_id   user_type  \n",
       "2023                 37.41                -121.94    4244  Subscriber  \n",
       "2533                 37.40                -121.94    4249  Subscriber  \n",
       "3089                 37.40                -121.93    4208  Subscriber  \n",
       "5264                 37.39                -121.93    4208  Subscriber  \n",
       "5833                 37.40                -121.94    4251    Customer  "
      ]
     },
     "execution_count": 152,
     "metadata": {},
     "output_type": "execute_result"
    }
   ],
   "source": [
    "df.query('start_station_name == \"None\"').head()"
   ]
  },
  {
   "cell_type": "markdown",
   "metadata": {},
   "source": [
    "#### We will sort the Dataframe in an ascending, chronological Order, from January to December 2019"
   ]
  },
  {
   "cell_type": "code",
   "execution_count": 153,
   "metadata": {},
   "outputs": [
    {
     "name": "stdout",
     "output_type": "stream",
     "text": [
      "Wall time: 0 ns\n"
     ]
    },
    {
     "data": {
      "text/html": [
       "<div>\n",
       "<style scoped>\n",
       "    .dataframe tbody tr th:only-of-type {\n",
       "        vertical-align: middle;\n",
       "    }\n",
       "\n",
       "    .dataframe tbody tr th {\n",
       "        vertical-align: top;\n",
       "    }\n",
       "\n",
       "    .dataframe thead th {\n",
       "        text-align: right;\n",
       "    }\n",
       "</style>\n",
       "<table border=\"1\" class=\"dataframe\">\n",
       "  <thead>\n",
       "    <tr style=\"text-align: right;\">\n",
       "      <th></th>\n",
       "      <th>duration_sec</th>\n",
       "      <th>start_time</th>\n",
       "      <th>end_time</th>\n",
       "      <th>start_station_id</th>\n",
       "      <th>start_station_name</th>\n",
       "      <th>start_station_latitude</th>\n",
       "      <th>start_station_longitude</th>\n",
       "      <th>end_station_id</th>\n",
       "      <th>end_station_name</th>\n",
       "      <th>end_station_latitude</th>\n",
       "      <th>end_station_longitude</th>\n",
       "      <th>bike_id</th>\n",
       "      <th>user_type</th>\n",
       "    </tr>\n",
       "  </thead>\n",
       "  <tbody>\n",
       "    <tr>\n",
       "      <th>0</th>\n",
       "      <td>226</td>\n",
       "      <td>2019-01-01 00:07:10.5760</td>\n",
       "      <td>2019-01-01 00:10:57.1960</td>\n",
       "      <td>245</td>\n",
       "      <td>Downtown Berkeley BART</td>\n",
       "      <td>37.870139</td>\n",
       "      <td>-122.268422</td>\n",
       "      <td>247</td>\n",
       "      <td>Fulton St at Bancroft Way</td>\n",
       "      <td>37.867789</td>\n",
       "      <td>-122.265896</td>\n",
       "      <td>5117</td>\n",
       "      <td>Customer</td>\n",
       "    </tr>\n",
       "    <tr>\n",
       "      <th>1</th>\n",
       "      <td>1767</td>\n",
       "      <td>2019-01-01 00:08:39.6590</td>\n",
       "      <td>2019-01-01 00:38:06.8480</td>\n",
       "      <td>16</td>\n",
       "      <td>Steuart St at Market St</td>\n",
       "      <td>37.794130</td>\n",
       "      <td>-122.394430</td>\n",
       "      <td>115</td>\n",
       "      <td>Jackson Playground</td>\n",
       "      <td>37.765026</td>\n",
       "      <td>-122.398773</td>\n",
       "      <td>1705</td>\n",
       "      <td>Customer</td>\n",
       "    </tr>\n",
       "    <tr>\n",
       "      <th>2</th>\n",
       "      <td>182</td>\n",
       "      <td>2019-01-01 00:09:56.2110</td>\n",
       "      <td>2019-01-01 00:12:58.7480</td>\n",
       "      <td>269</td>\n",
       "      <td>Telegraph Ave at Carleton St</td>\n",
       "      <td>37.862320</td>\n",
       "      <td>-122.258801</td>\n",
       "      <td>240</td>\n",
       "      <td>Haste St at Telegraph Ave</td>\n",
       "      <td>37.866043</td>\n",
       "      <td>-122.258804</td>\n",
       "      <td>4621</td>\n",
       "      <td>Subscriber</td>\n",
       "    </tr>\n",
       "    <tr>\n",
       "      <th>3</th>\n",
       "      <td>565</td>\n",
       "      <td>2019-01-01 00:11:03.4410</td>\n",
       "      <td>2019-01-01 00:20:29.2680</td>\n",
       "      <td>269</td>\n",
       "      <td>Telegraph Ave at Carleton St</td>\n",
       "      <td>37.862320</td>\n",
       "      <td>-122.258801</td>\n",
       "      <td>243</td>\n",
       "      <td>Bancroft Way at College Ave</td>\n",
       "      <td>37.869360</td>\n",
       "      <td>-122.254337</td>\n",
       "      <td>4783</td>\n",
       "      <td>Subscriber</td>\n",
       "    </tr>\n",
       "    <tr>\n",
       "      <th>4</th>\n",
       "      <td>710</td>\n",
       "      <td>2019-01-01 00:14:48.3980</td>\n",
       "      <td>2019-01-01 00:26:38.4210</td>\n",
       "      <td>163</td>\n",
       "      <td>Lake Merritt BART Station</td>\n",
       "      <td>37.797320</td>\n",
       "      <td>-122.265320</td>\n",
       "      <td>159</td>\n",
       "      <td>24th St at Market St</td>\n",
       "      <td>37.816060</td>\n",
       "      <td>-122.278244</td>\n",
       "      <td>4892</td>\n",
       "      <td>Customer</td>\n",
       "    </tr>\n",
       "  </tbody>\n",
       "</table>\n",
       "</div>"
      ],
      "text/plain": [
       "   duration_sec                start_time                  end_time  \\\n",
       "0           226  2019-01-01 00:07:10.5760  2019-01-01 00:10:57.1960   \n",
       "1          1767  2019-01-01 00:08:39.6590  2019-01-01 00:38:06.8480   \n",
       "2           182  2019-01-01 00:09:56.2110  2019-01-01 00:12:58.7480   \n",
       "3           565  2019-01-01 00:11:03.4410  2019-01-01 00:20:29.2680   \n",
       "4           710  2019-01-01 00:14:48.3980  2019-01-01 00:26:38.4210   \n",
       "\n",
       "  start_station_id            start_station_name  start_station_latitude  \\\n",
       "0              245        Downtown Berkeley BART               37.870139   \n",
       "1               16       Steuart St at Market St               37.794130   \n",
       "2              269  Telegraph Ave at Carleton St               37.862320   \n",
       "3              269  Telegraph Ave at Carleton St               37.862320   \n",
       "4              163     Lake Merritt BART Station               37.797320   \n",
       "\n",
       "   start_station_longitude end_station_id             end_station_name  \\\n",
       "0              -122.268422            247    Fulton St at Bancroft Way   \n",
       "1              -122.394430            115           Jackson Playground   \n",
       "2              -122.258801            240    Haste St at Telegraph Ave   \n",
       "3              -122.258801            243  Bancroft Way at College Ave   \n",
       "4              -122.265320            159         24th St at Market St   \n",
       "\n",
       "   end_station_latitude  end_station_longitude bike_id   user_type  \n",
       "0             37.867789            -122.265896    5117    Customer  \n",
       "1             37.765026            -122.398773    1705    Customer  \n",
       "2             37.866043            -122.258804    4621  Subscriber  \n",
       "3             37.869360            -122.254337    4783  Subscriber  \n",
       "4             37.816060            -122.278244    4892    Customer  "
      ]
     },
     "execution_count": 153,
     "metadata": {},
     "output_type": "execute_result"
    }
   ],
   "source": [
    "%time\n",
    "df = df.sort_values('start_time')\n",
    "df.reset_index(drop=True, inplace=True)\n",
    "df.head()"
   ]
  },
  {
   "cell_type": "markdown",
   "metadata": {},
   "source": [
    "[Back to Top](#top)"
   ]
  },
  {
   "cell_type": "markdown",
   "metadata": {},
   "source": [
    "<a id='analyze'></a>\n",
    "## Exploratory Data Analysis"
   ]
  },
  {
   "cell_type": "markdown",
   "metadata": {},
   "source": [
    "## Univariate Exploration\n",
    "\n",
    "> In this section, investigate distributions of individual variables. If\n",
    "you see unusual points or outliers, take a deeper look to clean things up\n",
    "and prepare yourself to look at relationships between variables."
   ]
  },
  {
   "cell_type": "code",
   "execution_count": 154,
   "metadata": {},
   "outputs": [],
   "source": [
    "# Make a working copy of the Dataframe to analyse\n",
    "df_rides = df.copy()"
   ]
  },
  {
   "cell_type": "code",
   "execution_count": 155,
   "metadata": {},
   "outputs": [
    {
     "name": "stdout",
     "output_type": "stream",
     "text": [
      "(2506983, 13)\n"
     ]
    }
   ],
   "source": [
    "df_rides.head()\n",
    "print(df_rides.shape)"
   ]
  },
  {
   "cell_type": "markdown",
   "metadata": {},
   "source": [
    "> Make sure that, after every plot or related series of plots, that you\n",
    "include a Markdown cell with comments about what you observed, and what\n",
    "you plan on investigating next."
   ]
  },
  {
   "cell_type": "markdown",
   "metadata": {},
   "source": [
    "#### Investigation on the Duration of the Rides"
   ]
  },
  {
   "cell_type": "code",
   "execution_count": 156,
   "metadata": {},
   "outputs": [
    {
     "data": {
      "text/plain": [
       "count    2.506983e+06\n",
       "mean     8.076483e+02\n",
       "std      1.974714e+03\n",
       "min      6.000000e+01\n",
       "25%      3.590000e+02\n",
       "50%      5.710000e+02\n",
       "75%      8.870000e+02\n",
       "max      9.121100e+05\n",
       "Name: duration_sec, dtype: float64"
      ]
     },
     "execution_count": 156,
     "metadata": {},
     "output_type": "execute_result"
    }
   ],
   "source": [
    "df_rides.duration_sec.describe()"
   ]
  },
  {
   "cell_type": "code",
   "execution_count": 175,
   "metadata": {},
   "outputs": [
    {
     "data": {
      "image/png": "[encoded data removed]",
      "text/plain": [
       "<Figure size 432x288 with 1 Axes>"
      ]
     },
     "metadata": {
      "needs_background": "light"
     },
     "output_type": "display_data"
    }
   ],
   "source": [
    "# plot a Histogram of the distribution\n",
    "plt.hist(df_rides.duration_sec, bins= 20);\n",
    "plt.xlabel('Duration in seconds');\n",
    "plt.ylabel('Absolute Frequency');\n",
    "plt.title('Distribution of the Bike rides duration');"
   ]
  },
  {
   "cell_type": "code",
   "execution_count": 176,
   "metadata": {},
   "outputs": [
    {
     "data": {
      "text/plain": [
       "count    2.506983e+06\n",
       "mean     1.296946e+01\n",
       "std      3.291311e+01\n",
       "min      1.000000e+00\n",
       "25%      5.000000e+00\n",
       "50%      9.000000e+00\n",
       "75%      1.400000e+01\n",
       "max      1.520100e+04\n",
       "Name: duration_min, dtype: float64"
      ]
     },
     "execution_count": 176,
     "metadata": {},
     "output_type": "execute_result"
    }
   ],
   "source": [
    "# Change the Duration unit to number of minutes (as an integer)\n",
    "df_rides['duration_min'] = df_rides['duration_sec']//60\n",
    "df_rides.duration_min.describe()"
   ]
  },
  {
   "cell_type": "code",
   "execution_count": 177,
   "metadata": {},
   "outputs": [
    {
     "data": {
      "text/plain": [
       "<matplotlib.axes._subplots.AxesSubplot at 0x12245573c10>"
      ]
     },
     "execution_count": 177,
     "metadata": {},
     "output_type": "execute_result"
    },
    {
     "data": {
      "image/png": "[encoded data removed]",
      "text/plain": [
       "<Figure size 432x288 with 1 Axes>"
      ]
     },
     "metadata": {
      "needs_background": "light"
     },
     "output_type": "display_data"
    }
   ],
   "source": [
    "df_rides.duration_min.describe().plot(kind = 'box')"
   ]
  },
  {
   "cell_type": "code",
   "execution_count": 179,
   "metadata": {},
   "outputs": [
    {
     "data": {
      "image/png": "[encoded data removed]",
      "text/plain": [
       "<Figure size 576x360 with 1 Axes>"
      ]
     },
     "metadata": {
      "needs_background": "light"
     },
     "output_type": "display_data"
    }
   ],
   "source": [
    "fig = plt.figure(figsize=[8,5])\n",
    "plt.hist(df_rides.duration_min, bins=20);\n",
    "plt.xlabel('Duration (in mins)');\n",
    "plt.ylabel('Number of Rides');\n",
    "plt.title(\"Distribution of the duration of the rides\");"
   ]
  },
  {
   "cell_type": "code",
   "execution_count": 180,
   "metadata": {},
   "outputs": [
    {
     "name": "stdout",
     "output_type": "stream",
     "text": [
      "58.67219681984282\n"
     ]
    }
   ],
   "source": [
    "total_number_of_rides = df_rides.shape[0]\n",
    "df_minus10 = df_rides[df_rides.duration_min <11]\n",
    "minus_10_in_percent = df_minus10.shape[0]/total_number_of_rides*100\n",
    "print(minus_10_in_percent)"
   ]
  },
  {
   "cell_type": "code",
   "execution_count": 184,
   "metadata": {},
   "outputs": [
    {
     "name": "stdout",
     "output_type": "stream",
     "text": [
      "99.4262825076995\n"
     ]
    },
    {
     "data": {
      "image/png": "[encoded data removed]",
      "text/plain": [
       "<Figure size 576x360 with 1 Axes>"
      ]
     },
     "metadata": {
      "needs_background": "light"
     },
     "output_type": "display_data"
    }
   ],
   "source": [
    "df_minus_100 = df_rides[df_rides.duration_min <101]\n",
    "fig = plt.figure(figsize=[8,5])\n",
    "plt.hist(df_minus_100.duration_min, bins=20);\n",
    "plt.xlim(0, 30);\n",
    "plt.xticks(np.arange(0,30, 2));\n",
    "\n",
    "minus_100_in_percent = df_minus_100.shape[0]/total_number_of_rides*100\n",
    "print(minus_100_in_percent)"
   ]
  },
  {
   "cell_type": "code",
   "execution_count": 182,
   "metadata": {},
   "outputs": [
    {
     "data": {
      "text/plain": [
       "(5552, 14)"
      ]
     },
     "execution_count": 182,
     "metadata": {},
     "output_type": "execute_result"
    }
   ],
   "source": [
    "df_over200 = df_rides[df_rides.duration_min >=200]\n",
    "df_over200.shape"
   ]
  },
  {
   "cell_type": "code",
   "execution_count": 183,
   "metadata": {},
   "outputs": [
    {
     "data": {
      "text/html": [
       "<div>\n",
       "<style scoped>\n",
       "    .dataframe tbody tr th:only-of-type {\n",
       "        vertical-align: middle;\n",
       "    }\n",
       "\n",
       "    .dataframe tbody tr th {\n",
       "        vertical-align: top;\n",
       "    }\n",
       "\n",
       "    .dataframe thead th {\n",
       "        text-align: right;\n",
       "    }\n",
       "</style>\n",
       "<table border=\"1\" class=\"dataframe\">\n",
       "  <thead>\n",
       "    <tr style=\"text-align: right;\">\n",
       "      <th></th>\n",
       "      <th>duration_sec</th>\n",
       "      <th>start_station_latitude</th>\n",
       "      <th>start_station_longitude</th>\n",
       "      <th>end_station_latitude</th>\n",
       "      <th>end_station_longitude</th>\n",
       "      <th>duration_min</th>\n",
       "    </tr>\n",
       "  </thead>\n",
       "  <tbody>\n",
       "    <tr>\n",
       "      <th>count</th>\n",
       "      <td>5552.000000</td>\n",
       "      <td>5552.000000</td>\n",
       "      <td>5552.000000</td>\n",
       "      <td>5552.000000</td>\n",
       "      <td>5552.000000</td>\n",
       "      <td>5552.000000</td>\n",
       "    </tr>\n",
       "    <tr>\n",
       "      <th>mean</th>\n",
       "      <td>31836.211095</td>\n",
       "      <td>37.770541</td>\n",
       "      <td>-122.361099</td>\n",
       "      <td>37.532329</td>\n",
       "      <td>-121.589660</td>\n",
       "      <td>530.114733</td>\n",
       "    </tr>\n",
       "    <tr>\n",
       "      <th>std</th>\n",
       "      <td>23522.321324</td>\n",
       "      <td>0.096871</td>\n",
       "      <td>0.116175</td>\n",
       "      <td>2.991279</td>\n",
       "      <td>9.686118</td>\n",
       "      <td>392.035821</td>\n",
       "    </tr>\n",
       "    <tr>\n",
       "      <th>min</th>\n",
       "      <td>12000.000000</td>\n",
       "      <td>37.306863</td>\n",
       "      <td>-122.479000</td>\n",
       "      <td>0.000000</td>\n",
       "      <td>-122.508199</td>\n",
       "      <td>200.000000</td>\n",
       "    </tr>\n",
       "    <tr>\n",
       "      <th>25%</th>\n",
       "      <td>15153.750000</td>\n",
       "      <td>37.771917</td>\n",
       "      <td>-122.417385</td>\n",
       "      <td>37.771431</td>\n",
       "      <td>-122.418892</td>\n",
       "      <td>252.000000</td>\n",
       "    </tr>\n",
       "    <tr>\n",
       "      <th>50%</th>\n",
       "      <td>22962.500000</td>\n",
       "      <td>37.783899</td>\n",
       "      <td>-122.402570</td>\n",
       "      <td>37.783899</td>\n",
       "      <td>-122.400876</td>\n",
       "      <td>382.000000</td>\n",
       "    </tr>\n",
       "    <tr>\n",
       "      <th>75%</th>\n",
       "      <td>45213.000000</td>\n",
       "      <td>37.798014</td>\n",
       "      <td>-122.388098</td>\n",
       "      <td>37.800214</td>\n",
       "      <td>-122.387921</td>\n",
       "      <td>753.250000</td>\n",
       "    </tr>\n",
       "    <tr>\n",
       "      <th>max</th>\n",
       "      <td>912110.000000</td>\n",
       "      <td>37.880222</td>\n",
       "      <td>-121.858797</td>\n",
       "      <td>37.880222</td>\n",
       "      <td>0.000000</td>\n",
       "      <td>15201.000000</td>\n",
       "    </tr>\n",
       "  </tbody>\n",
       "</table>\n",
       "</div>"
      ],
      "text/plain": [
       "        duration_sec  start_station_latitude  start_station_longitude  \\\n",
       "count    5552.000000             5552.000000              5552.000000   \n",
       "mean    31836.211095               37.770541              -122.361099   \n",
       "std     23522.321324                0.096871                 0.116175   \n",
       "min     12000.000000               37.306863              -122.479000   \n",
       "25%     15153.750000               37.771917              -122.417385   \n",
       "50%     22962.500000               37.783899              -122.402570   \n",
       "75%     45213.000000               37.798014              -122.388098   \n",
       "max    912110.000000               37.880222              -121.858797   \n",
       "\n",
       "       end_station_latitude  end_station_longitude  duration_min  \n",
       "count           5552.000000            5552.000000   5552.000000  \n",
       "mean              37.532329            -121.589660    530.114733  \n",
       "std                2.991279               9.686118    392.035821  \n",
       "min                0.000000            -122.508199    200.000000  \n",
       "25%               37.771431            -122.418892    252.000000  \n",
       "50%               37.783899            -122.400876    382.000000  \n",
       "75%               37.800214            -122.387921    753.250000  \n",
       "max               37.880222               0.000000  15201.000000  "
      ]
     },
     "execution_count": 183,
     "metadata": {},
     "output_type": "execute_result"
    }
   ],
   "source": [
    "df_over200.describe()"
   ]
  },
  {
   "cell_type": "code",
   "execution_count": 185,
   "metadata": {},
   "outputs": [
    {
     "data": {
      "image/png": "[encoded data removed]",
      "text/plain": [
       "<Figure size 432x288 with 1 Axes>"
      ]
     },
     "metadata": {
      "needs_background": "light"
     },
     "output_type": "display_data"
    }
   ],
   "source": [
    "df_over200.duration_min.hist();"
   ]
  },
  {
   "cell_type": "code",
   "execution_count": 186,
   "metadata": {},
   "outputs": [
    {
     "data": {
      "text/html": [
       "<div>\n",
       "<style scoped>\n",
       "    .dataframe tbody tr th:only-of-type {\n",
       "        vertical-align: middle;\n",
       "    }\n",
       "\n",
       "    .dataframe tbody tr th {\n",
       "        vertical-align: top;\n",
       "    }\n",
       "\n",
       "    .dataframe thead th {\n",
       "        text-align: right;\n",
       "    }\n",
       "</style>\n",
       "<table border=\"1\" class=\"dataframe\">\n",
       "  <thead>\n",
       "    <tr style=\"text-align: right;\">\n",
       "      <th></th>\n",
       "      <th>duration_sec</th>\n",
       "      <th>start_station_latitude</th>\n",
       "      <th>start_station_longitude</th>\n",
       "      <th>end_station_latitude</th>\n",
       "      <th>end_station_longitude</th>\n",
       "      <th>duration_min</th>\n",
       "    </tr>\n",
       "  </thead>\n",
       "  <tbody>\n",
       "    <tr>\n",
       "      <th>count</th>\n",
       "      <td>357.000000</td>\n",
       "      <td>357.000000</td>\n",
       "      <td>357.000000</td>\n",
       "      <td>357.000000</td>\n",
       "      <td>357.000000</td>\n",
       "      <td>357.000000</td>\n",
       "    </tr>\n",
       "    <tr>\n",
       "      <th>mean</th>\n",
       "      <td>80911.887955</td>\n",
       "      <td>37.765707</td>\n",
       "      <td>-122.348660</td>\n",
       "      <td>36.917676</td>\n",
       "      <td>-119.605440</td>\n",
       "      <td>1348.030812</td>\n",
       "    </tr>\n",
       "    <tr>\n",
       "      <th>std</th>\n",
       "      <td>44296.666210</td>\n",
       "      <td>0.106687</td>\n",
       "      <td>0.126765</td>\n",
       "      <td>5.598255</td>\n",
       "      <td>18.134387</td>\n",
       "      <td>738.262431</td>\n",
       "    </tr>\n",
       "    <tr>\n",
       "      <th>min</th>\n",
       "      <td>72001.000000</td>\n",
       "      <td>37.306863</td>\n",
       "      <td>-122.465007</td>\n",
       "      <td>0.000000</td>\n",
       "      <td>-122.458806</td>\n",
       "      <td>1200.000000</td>\n",
       "    </tr>\n",
       "    <tr>\n",
       "      <th>25%</th>\n",
       "      <td>75505.000000</td>\n",
       "      <td>37.769188</td>\n",
       "      <td>-122.417385</td>\n",
       "      <td>37.766349</td>\n",
       "      <td>-122.419622</td>\n",
       "      <td>1258.000000</td>\n",
       "    </tr>\n",
       "    <tr>\n",
       "      <th>50%</th>\n",
       "      <td>77937.000000</td>\n",
       "      <td>37.780955</td>\n",
       "      <td>-122.400876</td>\n",
       "      <td>37.776754</td>\n",
       "      <td>-122.398113</td>\n",
       "      <td>1298.000000</td>\n",
       "    </tr>\n",
       "    <tr>\n",
       "      <th>75%</th>\n",
       "      <td>82166.000000</td>\n",
       "      <td>37.800214</td>\n",
       "      <td>-122.279352</td>\n",
       "      <td>37.797320</td>\n",
       "      <td>-122.271756</td>\n",
       "      <td>1369.000000</td>\n",
       "    </tr>\n",
       "    <tr>\n",
       "      <th>max</th>\n",
       "      <td>912110.000000</td>\n",
       "      <td>37.875112</td>\n",
       "      <td>-121.876613</td>\n",
       "      <td>37.873676</td>\n",
       "      <td>0.000000</td>\n",
       "      <td>15201.000000</td>\n",
       "    </tr>\n",
       "  </tbody>\n",
       "</table>\n",
       "</div>"
      ],
      "text/plain": [
       "        duration_sec  start_station_latitude  start_station_longitude  \\\n",
       "count     357.000000              357.000000               357.000000   \n",
       "mean    80911.887955               37.765707              -122.348660   \n",
       "std     44296.666210                0.106687                 0.126765   \n",
       "min     72001.000000               37.306863              -122.465007   \n",
       "25%     75505.000000               37.769188              -122.417385   \n",
       "50%     77937.000000               37.780955              -122.400876   \n",
       "75%     82166.000000               37.800214              -122.279352   \n",
       "max    912110.000000               37.875112              -121.876613   \n",
       "\n",
       "       end_station_latitude  end_station_longitude  duration_min  \n",
       "count            357.000000             357.000000    357.000000  \n",
       "mean              36.917676            -119.605440   1348.030812  \n",
       "std                5.598255              18.134387    738.262431  \n",
       "min                0.000000            -122.458806   1200.000000  \n",
       "25%               37.766349            -122.419622   1258.000000  \n",
       "50%               37.776754            -122.398113   1298.000000  \n",
       "75%               37.797320            -122.271756   1369.000000  \n",
       "max               37.873676               0.000000  15201.000000  "
      ]
     },
     "execution_count": 186,
     "metadata": {},
     "output_type": "execute_result"
    }
   ],
   "source": [
    "df_over20hours = df_over200[df_over200.duration_min >= 1200]\n",
    "df_over20hours.describe()"
   ]
  },
  {
   "cell_type": "code",
   "execution_count": 187,
   "metadata": {},
   "outputs": [
    {
     "data": {
      "text/html": [
       "<div>\n",
       "<style scoped>\n",
       "    .dataframe tbody tr th:only-of-type {\n",
       "        vertical-align: middle;\n",
       "    }\n",
       "\n",
       "    .dataframe tbody tr th {\n",
       "        vertical-align: top;\n",
       "    }\n",
       "\n",
       "    .dataframe thead th {\n",
       "        text-align: right;\n",
       "    }\n",
       "</style>\n",
       "<table border=\"1\" class=\"dataframe\">\n",
       "  <thead>\n",
       "    <tr style=\"text-align: right;\">\n",
       "      <th></th>\n",
       "      <th>duration_sec</th>\n",
       "      <th>start_time</th>\n",
       "      <th>end_time</th>\n",
       "      <th>start_station_id</th>\n",
       "      <th>start_station_name</th>\n",
       "      <th>start_station_latitude</th>\n",
       "      <th>start_station_longitude</th>\n",
       "      <th>end_station_id</th>\n",
       "      <th>end_station_name</th>\n",
       "      <th>end_station_latitude</th>\n",
       "      <th>end_station_longitude</th>\n",
       "      <th>bike_id</th>\n",
       "      <th>user_type</th>\n",
       "      <th>duration_min</th>\n",
       "    </tr>\n",
       "  </thead>\n",
       "  <tbody>\n",
       "    <tr>\n",
       "      <th>11744</th>\n",
       "      <td>73815</td>\n",
       "      <td>2019-01-03 15:48:15.3970</td>\n",
       "      <td>2019-01-04 12:18:30.9610</td>\n",
       "      <td>116</td>\n",
       "      <td>Mississippi St at 17th St</td>\n",
       "      <td>37.764802</td>\n",
       "      <td>-122.394771</td>\n",
       "      <td>116</td>\n",
       "      <td>Mississippi St at 17th St</td>\n",
       "      <td>37.764802</td>\n",
       "      <td>-122.394771</td>\n",
       "      <td>1905</td>\n",
       "      <td>Subscriber</td>\n",
       "      <td>1230</td>\n",
       "    </tr>\n",
       "    <tr>\n",
       "      <th>21048</th>\n",
       "      <td>77372</td>\n",
       "      <td>2019-01-04 23:54:47.1320</td>\n",
       "      <td>2019-01-05 21:24:19.8240</td>\n",
       "      <td>5</td>\n",
       "      <td>Powell St BART Station (Market St at 5th St)</td>\n",
       "      <td>37.783899</td>\n",
       "      <td>-122.408445</td>\n",
       "      <td>368</td>\n",
       "      <td>Myrtle St at Polk St</td>\n",
       "      <td>37.785434</td>\n",
       "      <td>-122.419622</td>\n",
       "      <td>5185</td>\n",
       "      <td>Subscriber</td>\n",
       "      <td>1289</td>\n",
       "    </tr>\n",
       "    <tr>\n",
       "      <th>29252</th>\n",
       "      <td>76621</td>\n",
       "      <td>2019-01-07 18:13:58.9540</td>\n",
       "      <td>2019-01-08 15:31:00.3200</td>\n",
       "      <td>11</td>\n",
       "      <td>Davis St at Jackson St</td>\n",
       "      <td>37.797280</td>\n",
       "      <td>-122.398436</td>\n",
       "      <td>93</td>\n",
       "      <td>4th St at Mission Bay Blvd S</td>\n",
       "      <td>37.770407</td>\n",
       "      <td>-122.391198</td>\n",
       "      <td>3711</td>\n",
       "      <td>Customer</td>\n",
       "      <td>1277</td>\n",
       "    </tr>\n",
       "    <tr>\n",
       "      <th>57624</th>\n",
       "      <td>72233</td>\n",
       "      <td>2019-01-11 18:15:05.6880</td>\n",
       "      <td>2019-01-12 14:18:58.9670</td>\n",
       "      <td>239</td>\n",
       "      <td>Bancroft Way at Telegraph Ave</td>\n",
       "      <td>37.868813</td>\n",
       "      <td>-122.258764</td>\n",
       "      <td>262</td>\n",
       "      <td>West St at University Ave</td>\n",
       "      <td>37.869967</td>\n",
       "      <td>-122.286533</td>\n",
       "      <td>299</td>\n",
       "      <td>Subscriber</td>\n",
       "      <td>1203</td>\n",
       "    </tr>\n",
       "    <tr>\n",
       "      <th>61475</th>\n",
       "      <td>72529</td>\n",
       "      <td>2019-01-12 16:22:42.0150</td>\n",
       "      <td>2019-01-13 12:31:31.8480</td>\n",
       "      <td>91</td>\n",
       "      <td>Berry St at King St</td>\n",
       "      <td>37.771762</td>\n",
       "      <td>-122.398438</td>\n",
       "      <td>28</td>\n",
       "      <td>The Embarcadero at Bryant St</td>\n",
       "      <td>37.787168</td>\n",
       "      <td>-122.388098</td>\n",
       "      <td>3371</td>\n",
       "      <td>Customer</td>\n",
       "      <td>1208</td>\n",
       "    </tr>\n",
       "    <tr>\n",
       "      <th>62938</th>\n",
       "      <td>72710</td>\n",
       "      <td>2019-01-13 00:30:50.0610</td>\n",
       "      <td>2019-01-13 20:42:40.6940</td>\n",
       "      <td>176</td>\n",
       "      <td>MacArthur BART Station</td>\n",
       "      <td>37.828410</td>\n",
       "      <td>-122.266315</td>\n",
       "      <td>171</td>\n",
       "      <td>Rockridge BART Station</td>\n",
       "      <td>37.844279</td>\n",
       "      <td>-122.251900</td>\n",
       "      <td>2675</td>\n",
       "      <td>Customer</td>\n",
       "      <td>1211</td>\n",
       "    </tr>\n",
       "    <tr>\n",
       "      <th>94814</th>\n",
       "      <td>72281</td>\n",
       "      <td>2019-01-18 21:36:16.5990</td>\n",
       "      <td>2019-01-19 17:40:58.0500</td>\n",
       "      <td>380</td>\n",
       "      <td>Masonic Ave at Turk St</td>\n",
       "      <td>37.779047</td>\n",
       "      <td>-122.447291</td>\n",
       "      <td>97</td>\n",
       "      <td>14th St at Mission St</td>\n",
       "      <td>37.768265</td>\n",
       "      <td>-122.420110</td>\n",
       "      <td>1967</td>\n",
       "      <td>Subscriber</td>\n",
       "      <td>1204</td>\n",
       "    </tr>\n",
       "    <tr>\n",
       "      <th>98317</th>\n",
       "      <td>82743</td>\n",
       "      <td>2019-01-19 16:13:13.7630</td>\n",
       "      <td>2019-01-20 15:12:16.8940</td>\n",
       "      <td>11</td>\n",
       "      <td>Davis St at Jackson St</td>\n",
       "      <td>37.797280</td>\n",
       "      <td>-122.398436</td>\n",
       "      <td>64</td>\n",
       "      <td>5th St at Brannan St</td>\n",
       "      <td>37.776754</td>\n",
       "      <td>-122.399018</td>\n",
       "      <td>1390</td>\n",
       "      <td>Customer</td>\n",
       "      <td>1379</td>\n",
       "    </tr>\n",
       "    <tr>\n",
       "      <th>99670</th>\n",
       "      <td>76392</td>\n",
       "      <td>2019-01-19 20:25:00.6350</td>\n",
       "      <td>2019-01-20 17:38:12.9190</td>\n",
       "      <td>6</td>\n",
       "      <td>The Embarcadero at Sansome St</td>\n",
       "      <td>37.804770</td>\n",
       "      <td>-122.403234</td>\n",
       "      <td>25</td>\n",
       "      <td>Howard St at 2nd St</td>\n",
       "      <td>37.787522</td>\n",
       "      <td>-122.397405</td>\n",
       "      <td>3589</td>\n",
       "      <td>Customer</td>\n",
       "      <td>1273</td>\n",
       "    </tr>\n",
       "    <tr>\n",
       "      <th>102291</th>\n",
       "      <td>84002</td>\n",
       "      <td>2019-01-20 18:33:15.2780</td>\n",
       "      <td>2019-01-21 17:53:17.6450</td>\n",
       "      <td>175</td>\n",
       "      <td>49th St at Telegraph Ave</td>\n",
       "      <td>37.835946</td>\n",
       "      <td>-122.262366</td>\n",
       "      <td>234</td>\n",
       "      <td>Farnam St at Fruitvale Ave</td>\n",
       "      <td>37.778058</td>\n",
       "      <td>-122.225400</td>\n",
       "      <td>4490</td>\n",
       "      <td>Customer</td>\n",
       "      <td>1400</td>\n",
       "    </tr>\n",
       "  </tbody>\n",
       "</table>\n",
       "</div>"
      ],
      "text/plain": [
       "        duration_sec                start_time                  end_time  \\\n",
       "11744          73815  2019-01-03 15:48:15.3970  2019-01-04 12:18:30.9610   \n",
       "21048          77372  2019-01-04 23:54:47.1320  2019-01-05 21:24:19.8240   \n",
       "29252          76621  2019-01-07 18:13:58.9540  2019-01-08 15:31:00.3200   \n",
       "57624          72233  2019-01-11 18:15:05.6880  2019-01-12 14:18:58.9670   \n",
       "61475          72529  2019-01-12 16:22:42.0150  2019-01-13 12:31:31.8480   \n",
       "62938          72710  2019-01-13 00:30:50.0610  2019-01-13 20:42:40.6940   \n",
       "94814          72281  2019-01-18 21:36:16.5990  2019-01-19 17:40:58.0500   \n",
       "98317          82743  2019-01-19 16:13:13.7630  2019-01-20 15:12:16.8940   \n",
       "99670          76392  2019-01-19 20:25:00.6350  2019-01-20 17:38:12.9190   \n",
       "102291         84002  2019-01-20 18:33:15.2780  2019-01-21 17:53:17.6450   \n",
       "\n",
       "       start_station_id                            start_station_name  \\\n",
       "11744               116                     Mississippi St at 17th St   \n",
       "21048                 5  Powell St BART Station (Market St at 5th St)   \n",
       "29252                11                        Davis St at Jackson St   \n",
       "57624               239                 Bancroft Way at Telegraph Ave   \n",
       "61475                91                           Berry St at King St   \n",
       "62938               176                        MacArthur BART Station   \n",
       "94814               380                        Masonic Ave at Turk St   \n",
       "98317                11                        Davis St at Jackson St   \n",
       "99670                 6                 The Embarcadero at Sansome St   \n",
       "102291              175                      49th St at Telegraph Ave   \n",
       "\n",
       "        start_station_latitude  start_station_longitude end_station_id  \\\n",
       "11744                37.764802              -122.394771            116   \n",
       "21048                37.783899              -122.408445            368   \n",
       "29252                37.797280              -122.398436             93   \n",
       "57624                37.868813              -122.258764            262   \n",
       "61475                37.771762              -122.398438             28   \n",
       "62938                37.828410              -122.266315            171   \n",
       "94814                37.779047              -122.447291             97   \n",
       "98317                37.797280              -122.398436             64   \n",
       "99670                37.804770              -122.403234             25   \n",
       "102291               37.835946              -122.262366            234   \n",
       "\n",
       "                    end_station_name  end_station_latitude  \\\n",
       "11744      Mississippi St at 17th St             37.764802   \n",
       "21048           Myrtle St at Polk St             37.785434   \n",
       "29252   4th St at Mission Bay Blvd S             37.770407   \n",
       "57624      West St at University Ave             37.869967   \n",
       "61475   The Embarcadero at Bryant St             37.787168   \n",
       "62938         Rockridge BART Station             37.844279   \n",
       "94814          14th St at Mission St             37.768265   \n",
       "98317           5th St at Brannan St             37.776754   \n",
       "99670            Howard St at 2nd St             37.787522   \n",
       "102291    Farnam St at Fruitvale Ave             37.778058   \n",
       "\n",
       "        end_station_longitude bike_id   user_type  duration_min  \n",
       "11744             -122.394771    1905  Subscriber          1230  \n",
       "21048             -122.419622    5185  Subscriber          1289  \n",
       "29252             -122.391198    3711    Customer          1277  \n",
       "57624             -122.286533     299  Subscriber          1203  \n",
       "61475             -122.388098    3371    Customer          1208  \n",
       "62938             -122.251900    2675    Customer          1211  \n",
       "94814             -122.420110    1967  Subscriber          1204  \n",
       "98317             -122.399018    1390    Customer          1379  \n",
       "99670             -122.397405    3589    Customer          1273  \n",
       "102291            -122.225400    4490    Customer          1400  "
      ]
     },
     "execution_count": 187,
     "metadata": {},
     "output_type": "execute_result"
    }
   ],
   "source": [
    "df_over20hours.head(10)"
   ]
  },
  {
   "cell_type": "code",
   "execution_count": 188,
   "metadata": {},
   "outputs": [
    {
     "data": {
      "text/plain": [
       "count    2.506983e+06\n",
       "mean     1.296946e+01\n",
       "std      3.291311e+01\n",
       "min      1.000000e+00\n",
       "25%      5.000000e+00\n",
       "50%      9.000000e+00\n",
       "75%      1.400000e+01\n",
       "max      1.520100e+04\n",
       "Name: duration_min, dtype: float64"
      ]
     },
     "execution_count": 188,
     "metadata": {},
     "output_type": "execute_result"
    }
   ],
   "source": [
    "df_rides.duration_min.describe()"
   ]
  },
  {
   "cell_type": "code",
   "execution_count": 189,
   "metadata": {},
   "outputs": [
    {
     "data": {
      "text/plain": [
       "array([0. , 0.1, 0.2, 0.3, 0.4, 0.5, 0.6, 0.7, 0.8, 0.9, 1. , 1.1, 1.2,\n",
       "       1.3, 1.4, 1.5, 1.6, 1.7, 1.8, 1.9, 2. , 2.1, 2.2, 2.3, 2.4, 2.5,\n",
       "       2.6, 2.7, 2.8, 2.9, 3. , 3.1, 3.2])"
      ]
     },
     "execution_count": 189,
     "metadata": {},
     "output_type": "execute_result"
    }
   ],
   "source": [
    "range_log = np.arange(np.log10(1), np.log10(1439)+0.1, 0.1)\n",
    "range_log"
   ]
  },
  {
   "cell_type": "code",
   "execution_count": 190,
   "metadata": {},
   "outputs": [
    {
     "data": {
      "text/plain": [
       "array([1.00000000e+00, 1.25892541e+00, 1.58489319e+00, 1.99526231e+00,\n",
       "       2.51188643e+00, 3.16227766e+00, 3.98107171e+00, 5.01187234e+00,\n",
       "       6.30957344e+00, 7.94328235e+00, 1.00000000e+01, 1.25892541e+01,\n",
       "       1.58489319e+01, 1.99526231e+01, 2.51188643e+01, 3.16227766e+01,\n",
       "       3.98107171e+01, 5.01187234e+01, 6.30957344e+01, 7.94328235e+01,\n",
       "       1.00000000e+02, 1.25892541e+02, 1.58489319e+02, 1.99526231e+02,\n",
       "       2.51188643e+02, 3.16227766e+02, 3.98107171e+02, 5.01187234e+02,\n",
       "       6.30957344e+02, 7.94328235e+02, 1.00000000e+03, 1.25892541e+03,\n",
       "       1.58489319e+03])"
      ]
     },
     "execution_count": 190,
     "metadata": {},
     "output_type": "execute_result"
    }
   ],
   "source": [
    "log_x = 10**range_log\n",
    "log_x"
   ]
  },
  {
   "cell_type": "code",
   "execution_count": 191,
   "metadata": {},
   "outputs": [
    {
     "name": "stdout",
     "output_type": "stream",
     "text": [
      "4.181872159010333 0.4181872159010333\n"
     ]
    }
   ],
   "source": [
    "log_range= np.log10(df_rides.duration_min.max())-np.log10(df_rides.duration_min.min())\n",
    "print(log_range, log_range/10)"
   ]
  },
  {
   "cell_type": "code",
   "execution_count": 193,
   "metadata": {},
   "outputs": [
    {
     "data": {
      "image/png": "[encoded data removed]",
      "text/plain": [
       "<Figure size 576x360 with 1 Axes>"
      ]
     },
     "metadata": {
      "needs_background": "light"
     },
     "output_type": "display_data"
    }
   ],
   "source": [
    "fig = plt.figure(figsize=[8,5])\n",
    "bin_edges = 10 ** np.arange(0, 3.2+.03, 0.3)\n",
    "plt.hist(df_rides['duration_min'], bins= bin_edges)\n",
    "plt.xscale('log')\n",
    "x_ticks = [1, 3, 10, 15, 30, 100, 300, 1e3, 3e3]\n",
    "str_xticks = ['{:.0f}'.format(v) for v in x_ticks]\n",
    "plt.xticks(x_ticks, str_xticks);\n",
    "plt.xlabel('Duration of the rides (in minutes) ')\n",
    "plt.ylabel('Absolute frequency');\n",
    "plt.title('Distribution of the ride\\'s durations\\n(with a log-transformation on the x-axis)');"
   ]
  },
  {
   "cell_type": "code",
   "execution_count": 196,
   "metadata": {},
   "outputs": [
    {
     "data": {
      "image/png": "[encoded data removed]",
      "text/plain": [
       "<Figure size 720x576 with 1 Axes>"
      ]
     },
     "metadata": {
      "needs_background": "light"
     },
     "output_type": "display_data"
    }
   ],
   "source": [
    "fig = plt.figure(figsize=[10,8])\n",
    "bin_edges = 10 ** np.arange(np.log10(df_rides.duration_min.min()), \\\n",
    "                            np.log10(df_rides.duration_min.max())+0.1,0.1)\n",
    "plt.hist(df_rides.duration_min, bins=bin_edges);\n",
    "plt.xscale('log');\n",
    "ticks=[1, 1.258, 2, 3, 4, 5, 10, 15, 20, 30, 100, 200, 300, 1000, 10000, 100000]\n",
    "labels=['{}'.format(v) for v in ticks]\n",
    "plt.xticks(ticks, labels);\n",
    "plt.xlabel('Duration of the rides (in minutes)');\n",
    "plt.ylabel('Absolute Frequency');"
   ]
  },
  {
   "cell_type": "code",
   "execution_count": 197,
   "metadata": {},
   "outputs": [
    {
     "data": {
      "text/plain": [
       "array([1.00000000e+00, 1.25892541e+00, 1.58489319e+00, 1.99526231e+00,\n",
       "       2.51188643e+00, 3.16227766e+00, 3.98107171e+00, 5.01187234e+00,\n",
       "       6.30957344e+00, 7.94328235e+00, 1.00000000e+01, 1.25892541e+01,\n",
       "       1.58489319e+01, 1.99526231e+01, 2.51188643e+01, 3.16227766e+01,\n",
       "       3.98107171e+01, 5.01187234e+01, 6.30957344e+01, 7.94328235e+01,\n",
       "       1.00000000e+02, 1.25892541e+02, 1.58489319e+02, 1.99526231e+02,\n",
       "       2.51188643e+02, 3.16227766e+02, 3.98107171e+02, 5.01187234e+02,\n",
       "       6.30957344e+02, 7.94328235e+02, 1.00000000e+03, 1.25892541e+03,\n",
       "       1.58489319e+03, 1.99526231e+03, 2.51188643e+03, 3.16227766e+03,\n",
       "       3.98107171e+03, 5.01187234e+03, 6.30957344e+03, 7.94328235e+03,\n",
       "       1.00000000e+04, 1.25892541e+04, 1.58489319e+04])"
      ]
     },
     "execution_count": 197,
     "metadata": {},
     "output_type": "execute_result"
    }
   ],
   "source": [
    "bin_edges"
   ]
  },
  {
   "cell_type": "code",
   "execution_count": 201,
   "metadata": {},
   "outputs": [
    {
     "data": {
      "text/plain": [
       "(0, 14)"
      ]
     },
     "execution_count": 201,
     "metadata": {},
     "output_type": "execute_result"
    }
   ],
   "source": [
    "# I want to investigate the \"holes\" in the distribution.\n",
    "df_hole = df_rides.query('duration_min>1.258 & duration_min <2')\n",
    "df_hole.shape"
   ]
  },
  {
   "cell_type": "code",
   "execution_count": 202,
   "metadata": {},
   "outputs": [
    {
     "data": {
      "text/plain": [
       "(0, 14)"
      ]
     },
     "execution_count": 202,
     "metadata": {},
     "output_type": "execute_result"
    }
   ],
   "source": [
    "df_hole2 = df_rides.query('duration_min >3.162 & duration_min <4')\n",
    "df_hole2.shape"
   ]
  },
  {
   "cell_type": "markdown",
   "metadata": {},
   "source": [
    "### Discuss the distribution(s) of your variable(s) of interest. Were there any unusual points? Did you need to perform any transformations?\n",
    "\n",
    "> Your answer here!\n",
    "\n",
    "### Of the features you investigated, were there any unusual distributions? Did you perform any operations on the data to tidy, adjust, or change the form of the data? If so, why did you do this?\n",
    "\n",
    "> Your answer here!"
   ]
  },
  {
   "cell_type": "markdown",
   "metadata": {},
   "source": [
    "## Bivariate Exploration\n",
    "\n",
    "> In this section, investigate relationships between pairs of variables in your\n",
    "data. Make sure the variables that you cover here have been introduced in some\n",
    "fashion in the previous section (univariate exploration)."
   ]
  },
  {
   "cell_type": "code",
   "execution_count": null,
   "metadata": {},
   "outputs": [],
   "source": []
  },
  {
   "cell_type": "markdown",
   "metadata": {},
   "source": [
    "### Talk about some of the relationships you observed in this part of the investigation. How did the feature(s) of interest vary with other features in the dataset?\n",
    "\n",
    "> Your answer here!\n",
    "\n",
    "### Did you observe any interesting relationships between the other features (not the main feature(s) of interest)?\n",
    "\n",
    "> Your answer here!"
   ]
  },
  {
   "cell_type": "markdown",
   "metadata": {},
   "source": [
    "## Multivariate Exploration\n",
    "\n",
    "> Create plots of three or more variables to investigate your data even\n",
    "further. Make sure that your investigations are justified, and follow from\n",
    "your work in the previous sections."
   ]
  },
  {
   "cell_type": "code",
   "execution_count": null,
   "metadata": {},
   "outputs": [],
   "source": []
  },
  {
   "cell_type": "markdown",
   "metadata": {},
   "source": [
    "### Talk about some of the relationships you observed in this part of the investigation. Were there features that strengthened each other in terms of looking at your feature(s) of interest?\n",
    "\n",
    "> Your answer here!\n",
    "\n",
    "### Were there any interesting or surprising interactions between features?\n",
    "\n",
    "> Your answer here!"
   ]
  },
  {
   "cell_type": "markdown",
   "metadata": {},
   "source": [
    "> At the end of your report, make sure that you export the notebook as an\n",
    "html file from the `File > Download as... > HTML` menu. Make sure you keep\n",
    "track of where the exported file goes, so you can put it in the same folder\n",
    "as this notebook for project submission. Also, make sure you remove all of\n",
    "the quote-formatted guide notes like this one before you finish your report!"
   ]
  },
  {
   "cell_type": "code",
   "execution_count": null,
   "metadata": {},
   "outputs": [],
   "source": []
  }
 ],
 "metadata": {
  "kernelspec": {
   "display_name": "Python 3",
   "language": "python",
   "name": "python3"
  },
  "language_info": {
   "codemirror_mode": {
    "name": "ipython",
    "version": 3
   },
   "file_extension": ".py",
   "mimetype": "text/x-python",
   "name": "python",
   "nbconvert_exporter": "python",
   "pygments_lexer": "ipython3",
   "version": "3.8.1"
  }
 },
 "nbformat": 4,
 "nbformat_minor": 2
}
