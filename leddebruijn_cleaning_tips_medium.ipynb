{
 "cells": [
  {
   "cell_type": "markdown",
   "metadata": {},
   "source": [
    "### Seven Tips To Clean Code With Python\n",
    "All examples are taken from the following article\n",
    "https://medium.com/analytics-vidhya/seven-tips-to-clean-code-with-python-24930d35927f\n",
    "\n",
    "1. [String formatting with f-strings](#string)\n",
    "2. [Platform-independent directory delimiters](#delimiters)\n",
    "3. [Variable unpacking](#unpacking)\n",
    "4. [`.get` instead of `[key]` for dictionary iterations](#dict_iter)\n",
    "5. [Loop two iterators with the zip function](#loop_two)\n",
    "6. [List comprehensions](#comp)\n",
    "7. [Multiple assignment with `*` and `**`](#multi)\n",
    "\n",
    "[Putting it all together](#together)\n"
   ]
  },
  {
   "cell_type": "markdown",
   "metadata": {},
   "source": [
    "<a id='string'></a>\n",
    "## 1. String formatting with f-strings"
   ]
  },
  {
   "cell_type": "markdown",
   "metadata": {},
   "source": [
    "Python 3.6+ update includes a new way of formatting strings: the Python formatted string literal. String formatting in Python has come a long way. Below a walkthrough. "
   ]
  },
  {
   "cell_type": "code",
   "execution_count": 30,
   "metadata": {},
   "outputs": [],
   "source": [
    "purpose = \"string formatting\"\n",
    "percent_sign = \"% operator\"\n",
    "dot_format_method = \".format() method\"\n",
    "string_literal = \"f-string\"\n",
    "quantity, revenue = 100, 25\n",
    "d = {\"costs\": 300}\n",
    "list_operations = ['slicing and other things', 'indexing', 'key references']\n",
    "limitations = [\"be empty\", \"contain comments\", \"contain backslashes\"]"
   ]
  },
  {
   "cell_type": "code",
   "execution_count": 31,
   "metadata": {},
   "outputs": [
    {
     "name": "stdout",
     "output_type": "stream",
     "text": [
      "Before we used the % operator for string formatting.\n"
     ]
    }
   ],
   "source": [
    "print(\"Before we used the %s for %s.\" % (percent_sign, purpose))"
   ]
  },
  {
   "cell_type": "code",
   "execution_count": 32,
   "metadata": {},
   "outputs": [
    {
     "name": "stdout",
     "output_type": "stream",
     "text": [
      "Since Python 2.7 we are using the .format() method for string formatting, enabling us to do fun things.\n"
     ]
    }
   ],
   "source": [
    "print(\"Since Python 2.7 we are using the {method} for {0}, enabling us {1:^8s}.\"\\\n",
    "      .format(purpose, \"to do fun things\", method=dot_format_method))"
   ]
  },
  {
   "cell_type": "code",
   "execution_count": 7,
   "metadata": {},
   "outputs": [
    {
     "name": "stdout",
     "output_type": "stream",
     "text": [
      "But now with Python 3.6 come the f-string!\n"
     ]
    }
   ],
   "source": [
    "print(f\"But now with Python 3.6 come the {string_literal}!\")"
   ]
  },
  {
   "cell_type": "code",
   "execution_count": 8,
   "metadata": {},
   "outputs": [
    {
     "name": "stdout",
     "output_type": "stream",
     "text": [
      "With f-strings we can do arithmetic expressions: price €4.0 per unit.\n"
     ]
    }
   ],
   "source": [
    "print(f\"With f-strings we can do arithmetic expressions: price €{quantity / revenue} per unit.\")"
   ]
  },
  {
   "cell_type": "code",
   "execution_count": 11,
   "metadata": {},
   "outputs": [
    {
     "name": "stdout",
     "output_type": "stream",
     "text": [
      "We can do slicing, indexing and key references:cost €3.0 per unit.\n"
     ]
    }
   ],
   "source": [
    "print(f\"We can do {list_operations[0][0:7]}, {list_operations[1]} and {list_operations[2]}:\\\n",
    "cost €{d['costs'] / quantity} per unit.\")"
   ]
  },
  {
   "cell_type": "code",
   "execution_count": 12,
   "metadata": {},
   "outputs": [
    {
     "name": "stdout",
     "output_type": "stream",
     "text": [
      "f-strings have three limitations: ('be empty', 'contain comments', 'contain backslashes').\n"
     ]
    }
   ],
   "source": [
    "print(f\"f-strings have three limitations: {*limitations,}.\")"
   ]
  },
  {
   "cell_type": "code",
   "execution_count": 13,
   "metadata": {},
   "outputs": [
    {
     "data": {
      "text/plain": [
       "['be empty', 'contain comments', 'contain backslashes']"
      ]
     },
     "execution_count": 13,
     "metadata": {},
     "output_type": "execute_result"
    }
   ],
   "source": [
    "limitations"
   ]
  },
  {
   "cell_type": "markdown",
   "metadata": {},
   "source": [
    "F-strings consider everything within { curly brackets } as an expression, and with these expressions, we can do simple arithmetic but also functions and method calls!"
   ]
  },
  {
   "cell_type": "code",
   "execution_count": 16,
   "metadata": {},
   "outputs": [
    {
     "name": "stdout",
     "output_type": "stream",
     "text": [
      "The length of |This string| is 11 characters and contains 2 tokens.\n"
     ]
    }
   ],
   "source": [
    "s = \"This string\"\n",
    "print(f\"The length of |{s}| is {len(s)} characters and contains {len(s.split())} tokens.\")"
   ]
  },
  {
   "cell_type": "markdown",
   "metadata": {},
   "source": [
    "<a id='delimiters'></a>\n",
    "## 2. Platform-independent directory delimiters"
   ]
  },
  {
   "cell_type": "markdown",
   "metadata": {},
   "source": [
    "Making your Python code as re-usable as possible should be one of your main concerns. But what if you’re working on a Unix platform and your colleague is working on Windows?"
   ]
  },
  {
   "cell_type": "markdown",
   "metadata": {},
   "source": [
    "The path delimiter on Windows is `\\`, but on my Linux or Mac system, it is `/`. Avoid dealing with these nuances by using the built-in os library:"
   ]
  },
  {
   "cell_type": "code",
   "execution_count": 17,
   "metadata": {},
   "outputs": [
    {
     "name": "stdout",
     "output_type": "stream",
     "text": [
      "main_dir\\sub_dir\\example.json\n"
     ]
    }
   ],
   "source": [
    "import os\n",
    "\n",
    "directory = os.path.join('main_dir', 'sub_dir')\n",
    "file = 'example.json'\n",
    "\n",
    "print(os.path.join(directory, file))"
   ]
  },
  {
   "cell_type": "markdown",
   "metadata": {},
   "source": [
    "<a id='unpacking'></a>\n",
    "## 3. Variable Unpacking"
   ]
  },
  {
   "cell_type": "markdown",
   "metadata": {},
   "source": [
    "Unpacking variables are probably most used for functions that return multiple variables, such as in the example below."
   ]
  },
  {
   "cell_type": "code",
   "execution_count": 18,
   "metadata": {},
   "outputs": [],
   "source": [
    "def two_strings():\n",
    "    return 'first', 'second'\n",
    "x, y = two_strings()"
   ]
  },
  {
   "cell_type": "markdown",
   "metadata": {},
   "source": [
    "But it is also useful for data types that contain multiple items. The only important notion here is that, if not otherwise defined, variable unpacking results in `tuples`."
   ]
  },
  {
   "cell_type": "code",
   "execution_count": 25,
   "metadata": {},
   "outputs": [
    {
     "data": {
      "text/plain": [
       "'Pietje Puk'"
      ]
     },
     "execution_count": 25,
     "metadata": {},
     "output_type": "execute_result"
    }
   ],
   "source": [
    "name, age, job = ['Pietje Puk', 27, 'Data Scientist']  # unpack lists & tuples\n",
    "name"
   ]
  },
  {
   "cell_type": "code",
   "execution_count": 29,
   "metadata": {},
   "outputs": [
    {
     "name": "stdout",
     "output_type": "stream",
     "text": [
      "1\n",
      "2\n",
      "3\n"
     ]
    }
   ],
   "source": [
    "a, b, c = '123'  # unpack strings\n",
    "print(a)\n",
    "print(b)\n",
    "print(c)"
   ]
  },
  {
   "cell_type": "code",
   "execution_count": 30,
   "metadata": {},
   "outputs": [
    {
     "name": "stdout",
     "output_type": "stream",
     "text": [
      "4\n",
      "9\n",
      "16\n"
     ]
    }
   ],
   "source": [
    "a, b, c = (i ** 2 for i in range(2, 5))  # unpack generator\n",
    "print(a)\n",
    "print(b)\n",
    "print(c)"
   ]
  },
  {
   "cell_type": "code",
   "execution_count": 32,
   "metadata": {},
   "outputs": [
    {
     "name": "stdout",
     "output_type": "stream",
     "text": [
      "name\n",
      "age\n",
      "profession\n"
     ]
    }
   ],
   "source": [
    "person = {'name': 'Pietje Puk', 'age': 27, 'profession': 'Data Scientist'}\n",
    "a, b, c = person   # unpacking dictionary keys\n",
    "print(a)\n",
    "print(b)\n",
    "print(c)"
   ]
  },
  {
   "cell_type": "code",
   "execution_count": 33,
   "metadata": {},
   "outputs": [
    {
     "name": "stdout",
     "output_type": "stream",
     "text": [
      "Pietje Puk\n",
      "27\n",
      "Data Scientist\n"
     ]
    }
   ],
   "source": [
    "a, b, c = person.values()   # unpacking dictionary values\n",
    "print(a)\n",
    "print(b)\n",
    "print(c)"
   ]
  },
  {
   "cell_type": "code",
   "execution_count": 34,
   "metadata": {},
   "outputs": [
    {
     "name": "stdout",
     "output_type": "stream",
     "text": [
      "('name', 'Pietje Puk')\n",
      "('age', 27)\n",
      "('profession', 'Data Scientist')\n"
     ]
    }
   ],
   "source": [
    "a, b, c = person.items()   # unpacking (key-value pairs)\n",
    "print(a)\n",
    "print(b)\n",
    "print(c)"
   ]
  },
  {
   "cell_type": "markdown",
   "metadata": {},
   "source": [
    "The _ operator is an _unnamed_ variable, essentially a variable that you’re not interested in and won’t be doing anything with, for instance in the following case:"
   ]
  },
  {
   "cell_type": "code",
   "execution_count": 35,
   "metadata": {},
   "outputs": [],
   "source": [
    "a, b, _ = 'important', 'second important', 'not important'"
   ]
  },
  {
   "cell_type": "code",
   "execution_count": 38,
   "metadata": {},
   "outputs": [
    {
     "data": {
      "text/plain": [
       "('age', 27)"
      ]
     },
     "execution_count": 38,
     "metadata": {},
     "output_type": "execute_result"
    }
   ],
   "source": [
    "person = {'name': 'Pietje Puk', 'age': 27, 'profession': 'Data Scientist'}\n",
    "_, age, _ = person.items()\n",
    "age"
   ]
  },
  {
   "cell_type": "markdown",
   "metadata": {},
   "source": [
    "## 4. `.get` instead of `[key]` for dictionary iterations\n",
    "<a id='dict_iter'></a>"
   ]
  },
  {
   "cell_type": "markdown",
   "metadata": {},
   "source": [
    "Dictionaries are great data-types for storing `values` with an attribute field known as the `key`, in so-called `key-value` pairs. When extracting key-value pairs from dictionaries, avoid running into `KeyError` exceptions with the `.get` method instead of the more traditional `[key]` method. The `.get` method provides a default value if the key is not present."
   ]
  },
  {
   "cell_type": "code",
   "execution_count": 39,
   "metadata": {},
   "outputs": [],
   "source": [
    "persons = [\n",
    "  {'first_name': 'Louis', 'last_name': 'de Bruijn', 'age': 26, 'profession': 'Data Scientist', 'company': 'Data Analytics, an Ortec Finance company'},\n",
    "  {'first_name': 'Pietje', 'last_name': 'Puk', 'age': 18, 'profession': 'student', 'university': 'University of Groningen'},\n",
    "] # note that the first dictionary contains a key 'company', but the second dictionary does not contain the key 'company'"
   ]
  },
  {
   "cell_type": "code",
   "execution_count": 41,
   "metadata": {},
   "outputs": [
    {
     "name": "stdout",
     "output_type": "stream",
     "text": [
      "Person 0's occupation is Data Scientist at Data Analytics, an Ortec Finance company.\n"
     ]
    },
    {
     "ename": "KeyError",
     "evalue": "'company'",
     "output_type": "error",
     "traceback": [
      "\u001b[1;31m---------------------------------------------------------------------------\u001b[0m",
      "\u001b[1;31mKeyError\u001b[0m                                  Traceback (most recent call last)",
      "\u001b[1;32m<ipython-input-41-12f337dbf93f>\u001b[0m in \u001b[0;36m<module>\u001b[1;34m\u001b[0m\n\u001b[0;32m      1\u001b[0m \u001b[1;32mfor\u001b[0m \u001b[0mcnt\u001b[0m\u001b[1;33m,\u001b[0m \u001b[0mperson\u001b[0m \u001b[1;32min\u001b[0m \u001b[0menumerate\u001b[0m\u001b[1;33m(\u001b[0m\u001b[0mpersons\u001b[0m\u001b[1;33m)\u001b[0m\u001b[1;33m:\u001b[0m\u001b[1;33m\u001b[0m\u001b[1;33m\u001b[0m\u001b[0m\n\u001b[1;32m----> 2\u001b[1;33m   \u001b[0mprint\u001b[0m\u001b[1;33m(\u001b[0m\u001b[1;34m\"Person {0}'s occupation is {1} at {2}.\"\u001b[0m\u001b[1;33m.\u001b[0m\u001b[0mformat\u001b[0m\u001b[1;33m(\u001b[0m\u001b[0mcnt\u001b[0m\u001b[1;33m,\u001b[0m \u001b[0mperson\u001b[0m\u001b[1;33m[\u001b[0m\u001b[1;34m'profession'\u001b[0m\u001b[1;33m]\u001b[0m\u001b[1;33m,\u001b[0m \u001b[0mperson\u001b[0m\u001b[1;33m[\u001b[0m\u001b[1;34m'company'\u001b[0m\u001b[1;33m]\u001b[0m\u001b[1;33m)\u001b[0m\u001b[1;33m)\u001b[0m\u001b[1;33m\u001b[0m\u001b[1;33m\u001b[0m\u001b[0m\n\u001b[0m",
      "\u001b[1;31mKeyError\u001b[0m: 'company'"
     ]
    }
   ],
   "source": [
    "for cnt, person in enumerate(persons):\n",
    "  print(\"Person {0}'s occupation is {1} at {2}.\".format(cnt, person['profession'], person['company']))"
   ]
  },
  {
   "cell_type": "code",
   "execution_count": 45,
   "metadata": {},
   "outputs": [
    {
     "name": "stdout",
     "output_type": "stream",
     "text": [
      "Person 0's occupation is Data Scientist at Data Analytics, an Ortec Finance company.\n",
      "Person 1's occupation is student at undefined.\n"
     ]
    }
   ],
   "source": [
    "for cnt, person in enumerate(persons):\n",
    "  print(\"Person {0}'s occupation is {1} at {2}.\"\\\n",
    "        .format(cnt, person.get('profession', 'unknown'), person.get('company', 'undefined')))"
   ]
  },
  {
   "cell_type": "markdown",
   "metadata": {},
   "source": [
    "Our program stops running because of the `KeyError` exception, but in later our program continues, using the default `'undefined'` string that is set as the second argument of the `.get` method.\n",
    "\n",
    "When you have the possibility of assigning a default value for accessing key-value pairs in a dictionary, always try to use the `.get` method to avoid your program from stopping prematurely, especially when in production."
   ]
  },
  {
   "cell_type": "markdown",
   "metadata": {},
   "source": [
    "## 5. Loop two iterators with the zip function\n",
    "<a id='loop_two'></a>"
   ]
  },
  {
   "cell_type": "markdown",
   "metadata": {},
   "source": [
    "The zip function and it can save countless (nested) loops. You can use it mostly for iterating over two data types at the same time, where you need the indexes to be equal."
   ]
  },
  {
   "cell_type": "code",
   "execution_count": 4,
   "metadata": {},
   "outputs": [
    {
     "name": "stdout",
     "output_type": "stream",
     "text": [
      "Wall time: 0 ns\n"
     ]
    },
    {
     "data": {
      "text/plain": [
       "[102.0, 102.0, 102.0, 102.0]"
      ]
     },
     "execution_count": 4,
     "metadata": {},
     "output_type": "execute_result"
    }
   ],
   "source": [
    "%time\n",
    "list1 = [102, 306, 918, 2754]\n",
    "list2 = [1, 3, 9, 27]\n",
    "\n",
    "averages = []\n",
    "for idx1, el1 in enumerate(list1):  # first for-loop\n",
    "  for idx2, el2 in enumerate(list2):  # second for-loop\n",
    "    if idx1 == idx2:  # check whether the indexes of first * second for-loop match\n",
    "      y_intercept = el1/el2\n",
    "      averages.append(y_intercept)\n",
    "averages"
   ]
  },
  {
   "cell_type": "code",
   "execution_count": 5,
   "metadata": {},
   "outputs": [
    {
     "name": "stdout",
     "output_type": "stream",
     "text": [
      "Wall time: 0 ns\n"
     ]
    },
    {
     "data": {
      "text/plain": [
       "[102.0, 102.0, 102.0, 102.0]"
      ]
     },
     "execution_count": 5,
     "metadata": {},
     "output_type": "execute_result"
    }
   ],
   "source": [
    "%time\n",
    "averages = []\n",
    "for el1, el2 in zip(list1, list2):  # loop through both list using zip\n",
    "  y_intercept = el1/el2\n",
    "  averages.append(y_intercept)\n",
    "averages"
   ]
  },
  {
   "cell_type": "markdown",
   "metadata": {},
   "source": [
    "You can do this with any data type or generator. For instance, you could create dictionaries without looping over the separate lists, as such:"
   ]
  },
  {
   "cell_type": "code",
   "execution_count": 6,
   "metadata": {},
   "outputs": [
    {
     "data": {
      "text/plain": [
       "{'a': 1, 'b': 2, 'c': 3}"
      ]
     },
     "execution_count": 6,
     "metadata": {},
     "output_type": "execute_result"
    }
   ],
   "source": [
    "keys = ['a', 'b', 'c']\n",
    "values = [1, 2, 3]\n",
    "dictionary = dict(zip(keys, values))\n",
    "dictionary"
   ]
  },
  {
   "cell_type": "markdown",
   "metadata": {},
   "source": [
    "Later on, we’ll introduce the `*args` operator, which in combination with the `zip` function is very powerful!"
   ]
  },
  {
   "cell_type": "markdown",
   "metadata": {},
   "source": [
    "## 6. List comprehensions\n",
    "<a id='comp'></a>"
   ]
  },
  {
   "cell_type": "markdown",
   "metadata": {},
   "source": [
    "List, tuple, and dictionary comprehensions are ways to code more efficiently: do the same in fewer lines of code."
   ]
  },
  {
   "cell_type": "code",
   "execution_count": 8,
   "metadata": {},
   "outputs": [
    {
     "data": {
      "text/plain": [
       "[1, 2, 3, 4, 5]"
      ]
     },
     "execution_count": 8,
     "metadata": {},
     "output_type": "execute_result"
    }
   ],
   "source": [
    "# lists and tuples: [element for element in iterator]\n",
    "elements = []\n",
    "for i in range(1, 6):\n",
    "  elements.append(i)\n",
    "elements"
   ]
  },
  {
   "cell_type": "code",
   "execution_count": 9,
   "metadata": {},
   "outputs": [
    {
     "data": {
      "text/plain": [
       "[1, 2, 3, 4, 5]"
      ]
     },
     "execution_count": 9,
     "metadata": {},
     "output_type": "execute_result"
    }
   ],
   "source": [
    "elements = [i for i in range(1, 6)]\n",
    "elements"
   ]
  },
  {
   "cell_type": "code",
   "execution_count": 10,
   "metadata": {},
   "outputs": [],
   "source": [
    "# dictionaries: {key: value for element in iterator}\n",
    "alphabet = 'abcde'"
   ]
  },
  {
   "cell_type": "code",
   "execution_count": 14,
   "metadata": {},
   "outputs": [
    {
     "data": {
      "text/plain": [
       "{1: 'a', 2: 'b', 3: 'c', 4: 'd', 5: 'e'}"
      ]
     },
     "execution_count": 14,
     "metadata": {},
     "output_type": "execute_result"
    }
   ],
   "source": [
    "dictionary = {}\n",
    "for i in range(1, 6):\n",
    "  dictionary[i] = alphabet[i - 1]\n",
    "dictionary"
   ]
  },
  {
   "cell_type": "code",
   "execution_count": 17,
   "metadata": {},
   "outputs": [
    {
     "data": {
      "text/plain": [
       "{1: 'a', 2: 'b', 3: 'c', 4: 'd', 5: 'e'}"
      ]
     },
     "execution_count": 17,
     "metadata": {},
     "output_type": "execute_result"
    }
   ],
   "source": [
    "dictionary = {i: alphabet[i - 1] for i in range(1,6)} \n",
    "dictionary"
   ]
  },
  {
   "cell_type": "markdown",
   "metadata": {},
   "source": [
    "This saves up unnecessary loops and creates a cleaner codebase."
   ]
  },
  {
   "cell_type": "markdown",
   "metadata": {},
   "source": [
    "## 7. Multiple assignment with `*` and `**`\n",
    "<a id='multi'></a>"
   ]
  },
  {
   "cell_type": "markdown",
   "metadata": {},
   "source": [
    "the `*` prefix operator was added to the multiple assignment syntax, allowing us to unpack the remaining items in an iterable."
   ]
  },
  {
   "cell_type": "code",
   "execution_count": 18,
   "metadata": {},
   "outputs": [],
   "source": [
    "first, second, *rest = [1, 2, 3, 4, 5, 6]"
   ]
  },
  {
   "cell_type": "code",
   "execution_count": 19,
   "metadata": {},
   "outputs": [
    {
     "data": {
      "text/plain": [
       "1"
      ]
     },
     "execution_count": 19,
     "metadata": {},
     "output_type": "execute_result"
    }
   ],
   "source": [
    "first"
   ]
  },
  {
   "cell_type": "code",
   "execution_count": 20,
   "metadata": {},
   "outputs": [
    {
     "data": {
      "text/plain": [
       "2"
      ]
     },
     "execution_count": 20,
     "metadata": {},
     "output_type": "execute_result"
    }
   ],
   "source": [
    "second"
   ]
  },
  {
   "cell_type": "code",
   "execution_count": 22,
   "metadata": {},
   "outputs": [
    {
     "data": {
      "text/plain": [
       "[3, 4, 5, 6]"
      ]
     },
     "execution_count": 22,
     "metadata": {},
     "output_type": "execute_result"
    }
   ],
   "source": [
    "rest"
   ]
  },
  {
   "cell_type": "markdown",
   "metadata": {},
   "source": [
    "The `**` operator does something similar, but with keyword arguments. The `**` operator allows us to take a dictionary of key-value pairs and unpack it into keyword arguments in a function call.\n"
   ]
  },
  {
   "cell_type": "code",
   "execution_count": 23,
   "metadata": {},
   "outputs": [],
   "source": [
    "persons = [\n",
    "  {'first_name': 'Louis', 'last_name': 'de Bruijn', 'age': 26, 'profession': 'Data Scientist'},\n",
    "  {'first_name': 'Pietje', 'last_name': 'Puk', 'age': 18, 'profession': 'student'},\n",
    "]"
   ]
  },
  {
   "cell_type": "code",
   "execution_count": 24,
   "metadata": {},
   "outputs": [
    {
     "name": "stdout",
     "output_type": "stream",
     "text": [
      "Person 0's occupation is Data Scientist.\n",
      "Person 1's occupation is student.\n"
     ]
    }
   ],
   "source": [
    "for cnt, person in enumerate(persons):\n",
    "  print(\"Person {0}'s occupation is {profession}.\".format(cnt, **person))"
   ]
  },
  {
   "cell_type": "markdown",
   "metadata": {},
   "source": [
    "## Putting it all together\n",
    "<a id='together'></a>"
   ]
  },
  {
   "cell_type": "markdown",
   "metadata": {},
   "source": [
    "The `zip` function, `*` and `**` operators and list comprehension are powerful on their own, but they become especially interesting when combined. Below are three examples of a combination of these operators, functions, and comprehensions."
   ]
  },
  {
   "cell_type": "code",
   "execution_count": 25,
   "metadata": {},
   "outputs": [],
   "source": [
    "# Example 1: shuffle data to ensure random class distribution in train/test split\n",
    "import random\n",
    "documents = [\"positive tweet message\", \"negative tweet message\"]\n",
    "labels = [\"pos\", \"neg\"]\n",
    "\n",
    "tuples = [(doc, label) for doc, label in zip(documents, labels)]\n",
    "random.shuffle(tuples)\n",
    "X, Y = zip(*tuples)"
   ]
  },
  {
   "cell_type": "code",
   "execution_count": 27,
   "metadata": {},
   "outputs": [
    {
     "data": {
      "text/plain": [
       "{'A': 1, 'B': 2, 'C': 3, 'D': 4}"
      ]
     },
     "execution_count": 27,
     "metadata": {},
     "output_type": "execute_result"
    }
   ],
   "source": [
    "# Example 2: merging two dictionaries\n",
    "first_dictionary = {\"A\": 1, \"B\": 2}\n",
    "second_dictionary = {\"C\": 3, \"D\": 4}\n",
    "merged_dictionary = {**first_dictionary, **second_dictionary}\n",
    "merged_dictionary"
   ]
  },
  {
   "cell_type": "code",
   "execution_count": 29,
   "metadata": {},
   "outputs": [],
   "source": [
    "# Example 3: dropping unneccesary function variables\n",
    "def return_stuff():\n",
    "  \"\"\"Example function that returns data.\"\"\"\n",
    "  return \"This\", \"is\", \"interesting\", \"This\", \"is\", \"not\"\n",
    "a, b, c, *_ = return_stuff()"
   ]
  },
  {
   "cell_type": "markdown",
   "metadata": {},
   "source": [
    "In the first example, we need to keep the documents and labels coming from two separate lists together in a tuple of `(document, label)` by their index. the `zip` function provides the perfect solution. A list comprehension that ties this all together in a single expression. Then shuffles the tuple pairs in a random fashion. We then need to unpack the list of tuples `[(first_doc, first_label), (second_doc, second_label)]`, and use the `*` operator together with `zip` for this. Variable `X` contains the documents and variable `Y` the labels, with corresponding indexes.\n",
    "\n",
    "In the second example, we’re able to merge two dictionaries in a single expression, without having to instantiate a new empty dictionary and iterate over the first and second dictionary separately.\n",
    "\n",
    "\n",
    "In the third example, we can use a function that only partly returns the information we need, while discarding the rest of the returned variables. The *_ operator applies to the rest of the items in the iterator, without having to explicitly define the number of items. This is useful when you don’t know how many items or returned variables there are!"
   ]
  }
 ],
 "metadata": {
  "kernelspec": {
   "display_name": "Python 3",
   "language": "python",
   "name": "python3"
  },
  "language_info": {
   "codemirror_mode": {
    "name": "ipython",
    "version": 3
   },
   "file_extension": ".py",
   "mimetype": "text/x-python",
   "name": "python",
   "nbconvert_exporter": "python",
   "pygments_lexer": "ipython3",
   "version": "3.8.6"
  }
 },
 "nbformat": 4,
 "nbformat_minor": 4
}
