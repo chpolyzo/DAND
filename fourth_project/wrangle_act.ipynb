{
 "cells": [
  {
   "cell_type": "markdown",
   "metadata": {},
   "source": [
    "# Data Wrangling project for DAND\n",
    "This project consists of:\n",
    "\n",
    "### `1.` Data wrangling\n",
    "- Gathering Data \n",
    "- Assessing Data \n",
    "- Cleaning Data\n",
    "\n",
    "### `2.` Storing, analyzing, and visualizing wrangled data\n",
    "\n",
    "### `3.` Reporting \n",
    "- Data wrangling efforts \n",
    "- Data analyses and visualizations"
   ]
  },
  {
   "cell_type": "code",
   "execution_count": 1,
   "metadata": {},
   "outputs": [],
   "source": [
    "# import libraries\n",
    "import pandas as pd\n",
    "import numpy as np\n",
    "import requests\n",
    "import os\n",
    "from PIL import Image\n",
    "from io import BytesIO\n",
    "import json\n",
    "import tweepy\n",
    "from tweepy import OAuthHandler\n",
    "from timeit import default_timer as timer\n",
    "import matplotlib.pyplot as plt\n",
    "%matplotlib inline"
   ]
  },
  {
   "cell_type": "markdown",
   "metadata": {},
   "source": [
    "# 1. Gathering Data\n",
    "\n",
    "`1.`The WeRateDogs Twitter archive. Our instructor David, is giving this file to us, so imagine it as a file on hand. Download this file manually by clicking the following link: twitter_archive_enhanced.csv in your classroom data\n",
    "\n",
    "`2.`The tweet image predictions, i.e., what breed of dog (or other object, animal, etc.) is present in each tweet according to a neural network. This file (image_predictions.tsv) is hosted on Udacity's servers and should be downloaded programmatically using the Requests library and the following URL: https://d17h27t6h515a5.cloudfront.net/topher/2017/August/599fd2ad_image-predictions/image-predictions.tsv\n",
    "\n",
    "`3.`Each tweet's retweet count and favorite (\"like\") count at minimum, and any additional data you find interesting. Using the tweet IDs in the WeRateDogs Twitter archive, query the Twitter API for each tweet's JSON data using Python's Tweepy library and store each tweet's entire set of JSON data in a file called tweet_json.txt file. Each tweet's JSON data should be written to its own line. Then read this .txt file line by line into a pandas DataFrame with (at minimum) tweet ID, retweet count, and favorite count. Note: do not include your Twitter API keys, secrets, and tokens in your project submission."
   ]
  },
  {
   "cell_type": "markdown",
   "metadata": {},
   "source": [
    "## This is the First Resource we are using\n",
    "\n",
    "We just read a .csv file into a dataframe as we have always been doing"
   ]
  },
  {
   "cell_type": "code",
   "execution_count": null,
   "metadata": {},
   "outputs": [],
   "source": [
    "#Gather data from the csv file from David, fo which he did not really tell us what's in there, what we are expected to see\n",
    "#He used twitter .json data from twitter downloaded using the API \n",
    "archive = pd.read_csv('twitter-archive-enhanced.csv')"
   ]
  },
  {
   "cell_type": "markdown",
   "metadata": {},
   "source": [
    "## This is the Second Resource we are using\n",
    "In this section we use requests library"
   ]
  },
  {
   "cell_type": "code",
   "execution_count": null,
   "metadata": {},
   "outputs": [],
   "source": [
    "# Create directory if it doesn't already exist that will keep the image-predictions.tsv file downloaded\n",
    "folder_name = 'image_predictions'\n",
    "if not os.path.exists(folder_name):\n",
    "    os.makedirs(folder_name)"
   ]
  },
  {
   "cell_type": "code",
   "execution_count": null,
   "metadata": {},
   "outputs": [],
   "source": [
    "#use requests to download file in the folder_name previously created\n",
    "url = 'https://d17h27t6h515a5.cloudfront.net/topher/2017/August/599fd2ad_image-predictions/image-predictions.tsv'\n",
    "\n",
    "response = requests.get(url)\n",
    "with open(os.path.join(folder_name, url.split('/')[-1]), mode='wb') as file:\n",
    "        file.write(response.content)"
   ]
  },
  {
   "cell_type": "code",
   "execution_count": null,
   "metadata": {},
   "outputs": [],
   "source": [
    "#read the tsv file into a dataframe\n",
    "image_predictions = pd.read_csv('image_predictions/image-predictions.tsv', sep='\\t')\n",
    "image_predictions.head()"
   ]
  },
  {
   "cell_type": "code",
   "execution_count": null,
   "metadata": {},
   "outputs": [],
   "source": [
    "# This is the way to download and save the file in the folder we have created namely the folder image_predictions \n",
    "# Gather data from source 2 : Download using the URL from web. We will be downloading a .tsv file \n",
    "url = 'https://d17h27t6h515a5.cloudfront.net/topher/2017/August/599fd2ad_image-predictions/image-predictions.tsv'\n",
    "response = requests.get(url)\n",
    "\n",
    "with open('image-predictions.tsv',mode='wb') as file:\n",
    "    file.write(response.content)\n",
    "\n",
    "img_pred = pd.read_csv('image-predictions.tsv',delimiter='\\t')"
   ]
  },
  {
   "cell_type": "markdown",
   "metadata": {},
   "source": [
    "Here we follow a process to download and collect all pictures from tweets "
   ]
  },
  {
   "cell_type": "code",
   "execution_count": null,
   "metadata": {},
   "outputs": [],
   "source": [
    "#create folder for twitter images downloaded\n",
    "folder_pics = 'pictures'\n",
    "\n",
    "#make directory if it doesn't already exist\n",
    "if not os.path.exists(folder_pics):\n",
    "    os.makedirs(folder_pics)"
   ]
  },
  {
   "cell_type": "code",
   "execution_count": null,
   "metadata": {},
   "outputs": [],
   "source": [
    "#download all images from urls - this takes some time\n",
    "'''\n",
    "tweet_images = []\n",
    "for index,row in image_predictions.iterrows():\n",
    "    try:\n",
    "        image = requests.get(row['jpg_url'])\n",
    "        i = Image.open(BytesIO(image.content))\n",
    "        image_file_format = row['jpg_url'].split('.')[-1]\n",
    "        i.save(folder_name_2 + '/' + str(row['tweet_id']) + '.' + image_file_format)\n",
    "    except Exception as e:\n",
    "        print(str(row['tweet_id']) + ': ' + str(e))\n",
    "        \n",
    "#675781562965868544: cannot identify image file <_io.BytesIO object at 0x000001B03CD80288>\n",
    "#837012587749474308: cannot identify image file <_io.BytesIO object at 0x000001B039579FA8>\n",
    "'''"
   ]
  },
  {
   "cell_type": "markdown",
   "metadata": {},
   "source": [
    "## This is the Third Resource we are using\n",
    "In this section we use json and tweepy libraries"
   ]
  },
  {
   "cell_type": "markdown",
   "metadata": {},
   "source": [
    "> The JSON library has two main methods:\n",
    "- `dumps`-- Takes in a Python object, and converts it to a string\n",
    "- `loads` -- Takes a JSON string, and converts it to a Python object (Source: www.dataquest.io)"
   ]
  },
  {
   "cell_type": "code",
   "execution_count": null,
   "metadata": {},
   "outputs": [],
   "source": [
    "# Query Twitter API for each tweet in the Twitter archive and save JSON in a text file\n",
    "# These are hidden to comply with Twitter's API terms and conditions\n",
    "'''\n",
    "consumer_key = 'HIDDEN'\n",
    "consumer_secret = 'HIDDEN'\n",
    "access_token = 'HIDDEN'\n",
    "access_secret = 'HIDDEN'\n",
    "\n",
    "auth = OAuthHandler(consumer_key, consumer_secret)\n",
    "auth.set_access_token(access_token, access_secret)\n",
    "\n",
    "api = tweepy.API(auth, wait_on_rate_limit=True)\n",
    "'''\n",
    "\n",
    "# NOTE TO STUDENT WITH MOBILE VERIFICATION ISSUES:\n",
    "# df_1 is a DataFrame with the twitter_archive_enhanced.csv file. You may have to\n",
    "# change line 17 to match the name of your DataFrame with twitter_archive_enhanced.csv\n",
    "# NOTE TO REVIEWER: this student had mobile verification issues so the following\n",
    "# Twitter API code was sent to this student from a Udacity instructor\n",
    "# Tweet IDs for which to gather additional data via Twitter's API\n",
    "\n",
    "# Query Twitter's API for JSON data for each tweet ID in the Twitter archive\n",
    "'''\n",
    "count = 0\n",
    "fails_dict = {}\n",
    "start = timer()\n",
    "# Save each tweet's returned JSON as a new line in a .txt file\n",
    "with open('tweet_json.txt', 'w') as outfile:\n",
    "    # This loop will likely take 20-30 minutes to run because of Twitter's rate limit\n",
    "    for tweet_id in tweet_ids:\n",
    "        count += 1\n",
    "        print(str(count) + \": \" + str(tweet_id))\n",
    "        try:\n",
    "            tweet = api.get_status(tweet_id, tweet_mode='extended')\n",
    "            print(\"Success\")\n",
    "            json.dump(tweet._json, outfile) #we use dump METHOD: takes a python object and converts it into a string\n",
    "            outfile.write('\\n')\n",
    "        except tweepy.TweepError as e:\n",
    "            print(\"Fail\")\n",
    "            fails_dict[tweet_id] = e\n",
    "            pass\n",
    "end = timer()\n",
    "print(end - start)\n",
    "print(fails_dict)\n",
    "'''"
   ]
  },
  {
   "cell_type": "markdown",
   "metadata": {},
   "source": [
    ">For students that may not have their twitter developer account activated - and this can be the case for a number of reasons -, they can complete this project by downloading the `tweet-json.txt` file they find in the classroom, provided as aditional material in the end of the section `Wrangle an Analyse Data`, `4. Twitter API`.\n",
    ">In that case it could be you encounter an error trying to read `tweet-jason.txt` file `ValueError: Extra data`. Please refer to the following link in order to better understand how this error has been handled below.\n",
    "https://stackoverflow.com/questions/21058935/python-json-loads-shows-valueerror-extra-data/51830719"
   ]
  },
  {
   "cell_type": "code",
   "execution_count": null,
   "metadata": {},
   "outputs": [],
   "source": [
    "# reading json data from file NOT yet creating a dataframe - This is done later on\n",
    "#with open('tweet-json.txt',mode='r') as read_file:\n",
    "#    json_data = json.load(read_file)\n",
    "json_data = [json.loads(line) for line in open('tweet-json.txt', 'r')] #reads json_data in a list"
   ]
  },
  {
   "cell_type": "code",
   "execution_count": null,
   "metadata": {},
   "outputs": [],
   "source": [
    "#similarly you can do the same thing in the following way\n",
    "json_data = [] \n",
    "for line in open('tweet-json.txt', 'r'): \n",
    "    tweets_json.append(json.loads(line))\n",
    "'''\n",
    "#if you were to have the luxury to manipulate directly a .json file pleaase do the following\n",
    "tweets = []\n",
    "for line in open('tweets.json', 'r'):\n",
    "    tweets.append(json.loads(line))\n",
    "'''"
   ]
  },
  {
   "cell_type": "code",
   "execution_count": null,
   "metadata": {},
   "outputs": [],
   "source": [
    "#David's code for reading the rotten tomatoes review in class\n",
    "'''\n",
    "with open(ebert_review, encoding='utf-8') as file:\n",
    "    title = file.readline()[:-1] \n",
    "    # Your code here \n",
    "    review_url = file.readline()[:-1] \n",
    "    review_txt = file.read() \n",
    "    # Append to list of dictionaries \n",
    "    df_list.append({'title': title, 'review_url': review_url, 'review_text': review_txt}) \n",
    "    df = pd.DataFrame(df_list, columns = ['title', 'review_url', 'review_text'])\n",
    "    '''"
   ]
  },
  {
   "cell_type": "markdown",
   "metadata": {},
   "source": [
    "## Some conciderations so far"
   ]
  },
  {
   "cell_type": "markdown",
   "metadata": {},
   "source": [
    ">What kind of Data Type is my json_data now? Recall Juno when talking about this https://youtu.be/4F7SC0C6tfQ"
   ]
  },
  {
   "cell_type": "code",
   "execution_count": null,
   "metadata": {},
   "outputs": [],
   "source": [
    "#Inspection json_data data type\n",
    "type(json_data)"
   ]
  },
  {
   "cell_type": "markdown",
   "metadata": {},
   "source": [
    ">JSON format encodes data structures like lists and dictionaries as strings to ensure that machines can read them easily. JSON is the primary format for sending and receiving data through APIs. Python offers great support for JSON through its json library. We can convert lists and dictionaries to JSON, and vice versa. Our ISS Pass data, for example, is a dictionary encoded as a string in JSON format.\n",
    "Source: DataQuest www.dataquest.io"
   ]
  },
  {
   "cell_type": "code",
   "execution_count": null,
   "metadata": {},
   "outputs": [],
   "source": [
    "#Let's take the first element to see what's in there\n",
    "json_data[0]"
   ]
  },
  {
   "cell_type": "code",
   "execution_count": null,
   "metadata": {},
   "outputs": [],
   "source": [
    "#Let's see some tweet texts\n",
    "print(json_data[0]['full_text']) #interesting how lists behave similarly to dictionaries\n",
    "print(json_data[1]['full_text'])\n",
    "print(json_data[2]['full_text'])\n",
    "print(json_data[3]['full_text'])\n",
    "print(json_data[4]['full_text'])"
   ]
  },
  {
   "cell_type": "code",
   "execution_count": null,
   "metadata": {},
   "outputs": [],
   "source": [
    "#Let's see some tweet id's for selected tweets\n",
    "print(json_data[0]['id']) #always check how interesting it is lists behaving similarly to dictionaries\n",
    "print(json_data[1]['id'])\n",
    "print(json_data[2]['id'])\n",
    "print(json_data[3]['id'])\n",
    "print(json_data[4]['id'])"
   ]
  },
  {
   "cell_type": "code",
   "execution_count": null,
   "metadata": {},
   "outputs": [],
   "source": [
    "#lets do the same using a for loop\n",
    "for attribute in json_data[:5]:\n",
    "    print(attribute['id'])"
   ]
  },
  {
   "cell_type": "markdown",
   "metadata": {},
   "source": [
    "> Our instructor David is asking to work with (at minimum) tweet ID, retweet count, and favorite count. Let's do that for our own good."
   ]
  },
  {
   "cell_type": "code",
   "execution_count": null,
   "metadata": {},
   "outputs": [],
   "source": [
    "#Let's see some retweet_count values for selected tweets\n",
    "print(json_data[0]['retweet_count']) #always check how interesting it is lists behaving similarly to dictionaries\n",
    "print(json_data[1]['retweet_count'])\n",
    "print(json_data[2]['retweet_count'])\n",
    "print(json_data[3]['retweet_count'])\n",
    "print(json_data[4]['retweet_count'])"
   ]
  },
  {
   "cell_type": "code",
   "execution_count": null,
   "metadata": {},
   "outputs": [],
   "source": [
    "#lets do the same using a for loop\n",
    "for attribute in json_data[:5]:\n",
    "    print(attribute['retweet_count'])"
   ]
  },
  {
   "cell_type": "code",
   "execution_count": null,
   "metadata": {},
   "outputs": [],
   "source": [
    "#Let's see some retweet_count values for selected tweets\n",
    "print(json_data[0]['favorite_count']) #always check how interesting it is lists behaving similarly to dictionaries\n",
    "print(json_data[1]['favorite_count'])\n",
    "print(json_data[2]['favorite_count'])\n",
    "print(json_data[3]['favorite_count'])\n",
    "print(json_data[4]['favorite_count'])"
   ]
  },
  {
   "cell_type": "code",
   "execution_count": null,
   "metadata": {},
   "outputs": [],
   "source": [
    "#lets do the same using a for loop\n",
    "for attribute in json_data[:5]:\n",
    "    print(attribute['favorite_count'])"
   ]
  },
  {
   "cell_type": "markdown",
   "metadata": {},
   "source": [
    "> We have to read this information into a DataFrame."
   ]
  },
  {
   "cell_type": "code",
   "execution_count": null,
   "metadata": {},
   "outputs": [],
   "source": [
    "#This is OUR archive - Check the beauty of this \n",
    "tweet_original = pd.DataFrame(json_data,columns=['id','retweet_count','favorite_count'])\n",
    "tweet_original.head()"
   ]
  },
  {
   "cell_type": "markdown",
   "metadata": {},
   "source": [
    "## Shortcut to load data"
   ]
  },
  {
   "cell_type": "code",
   "execution_count": 12,
   "metadata": {},
   "outputs": [],
   "source": [
    "#run this cell to read all our three data sources into three separate dataframes\n",
    "archive = pd.read_csv('twitter-archive-enhanced.csv')\n",
    "image_predictions = pd.read_csv('image_predictions/image-predictions.tsv', sep='\\t')\n",
    "json_data = [json.loads(line) for line in open('tweet-json.txt', 'r')] #this is a list\n",
    "tweet_original = pd.DataFrame(json_data, columns = ['id', 'retweet_count','favorite_count'])"
   ]
  },
  {
   "cell_type": "code",
   "execution_count": null,
   "metadata": {},
   "outputs": [],
   "source": [
    "### Save dataframes to csv\n",
    "#archive.to_csv('df_tweets.csv', index=False)\n",
    "#image_predictions.to_csv('df_predictions.csv', index=False)\n",
    "#tweet_original.to_csv('df_tweet_count.csv', index=False)"
   ]
  },
  {
   "cell_type": "markdown",
   "metadata": {},
   "source": [
    "# 2. Assesing Data \n",
    "\n",
    "The Assessing Part consists of looking but never touching data. You just take notes ;-)\n",
    "\n",
    "We need to assess 8 quality issues and two tidiness issues for this project.\n",
    " >We can have two types of Assessment\n",
    " `1` Visual and `2` Programatic\n",
    "\n",
    ">We indeed Assess for `Quality` that is,\n",
    "DIRTY DATA = CONTENT ISSUES\n",
    "Low quality data\n",
    "-corrupted data\n",
    "-duplicate data\n",
    "\n",
    ">and `Tidiness` that is,\n",
    "MESSY DATA = STRUCTURAL ISSUES\n",
    "Untidy data that need to be put in order as following\n",
    "- Each variable forms a columnm (each variable is a feture)\n",
    "- Each observation forms a row (each observationn is an attribute - a geometry in geodatabses)\n",
    "- Each observation unit forms a table"
   ]
  },
  {
   "cell_type": "markdown",
   "metadata": {},
   "source": [
    "These are the programmatic assessment methods in pandas that you will probably use most often:\n",
    "\n",
    "* .head (DataFrame and Series)\n",
    "* .tail (DataFrame and Series)\n",
    "* .sample (DataFrame and Series)\n",
    "* .info (DataFrame only)\n",
    "* .describe (DataFrame and Series)\n",
    "* .value_counts (Series only)\n",
    "* Various methods of indexing and selecting data (.loc and bracket notation with/without boolean indexing, also .iloc)\n",
    "\n",
    "* sort_values (Series Only)\n",
    "* df.value_counts()\n",
    "* df.groupby('...')['...'].count()\n",
    "* df.groupby('...')['...'].describe()\n",
    "\n",
    "Try them out below and keep their results in mind. Some will come in handy later in the lesson.\n",
    "\n",
    "Check out the [pandas API reference](https://pandas.pydata.org/pandas-docs/stable/api.html) for detailed usage information."
   ]
  },
  {
   "cell_type": "markdown",
   "metadata": {},
   "source": [
    "#### PART I: Execution"
   ]
  },
  {
   "cell_type": "code",
   "execution_count": 5,
   "metadata": {},
   "outputs": [
    {
     "name": "stdout",
     "output_type": "stream",
     "text": [
      "<class 'pandas.core.frame.DataFrame'>\n",
      "RangeIndex: 2356 entries, 0 to 2355\n",
      "Data columns (total 17 columns):\n",
      " #   Column                      Non-Null Count  Dtype  \n",
      "---  ------                      --------------  -----  \n",
      " 0   tweet_id                    2356 non-null   int64  \n",
      " 1   in_reply_to_status_id       78 non-null     float64\n",
      " 2   in_reply_to_user_id         78 non-null     float64\n",
      " 3   timestamp                   2356 non-null   object \n",
      " 4   source                      2356 non-null   object \n",
      " 5   text                        2356 non-null   object \n",
      " 6   retweeted_status_id         181 non-null    float64\n",
      " 7   retweeted_status_user_id    181 non-null    float64\n",
      " 8   retweeted_status_timestamp  181 non-null    object \n",
      " 9   expanded_urls               2297 non-null   object \n",
      " 10  rating_numerator            2356 non-null   int64  \n",
      " 11  rating_denominator          2356 non-null   int64  \n",
      " 12  name                        2356 non-null   object \n",
      " 13  doggo                       2356 non-null   object \n",
      " 14  floofer                     2356 non-null   object \n",
      " 15  pupper                      2356 non-null   object \n",
      " 16  puppo                       2356 non-null   object \n",
      "dtypes: float64(4), int64(3), object(10)\n",
      "memory usage: 313.0+ KB\n"
     ]
    }
   ],
   "source": [
    "# Assess David's archive variables\n",
    "archive.info()"
   ]
  },
  {
   "cell_type": "code",
   "execution_count": 6,
   "metadata": {},
   "outputs": [
    {
     "data": {
      "text/plain": [
       "dtype('O')"
      ]
     },
     "execution_count": 6,
     "metadata": {},
     "output_type": "execute_result"
    }
   ],
   "source": [
    "# 'b'       boolean\n",
    "# 'i'       (signed) integer\n",
    "# 'u'       unsigned integer\n",
    "# 'f'       floating-point\n",
    "# 'c'       complex-floating point\n",
    "# 'O'       (Python) objects\n",
    "# 'S', 'a'  (byte-)string\n",
    "# 'U'       Unicode\n",
    "# 'V'       raw data (void)\n",
    "archive.text.dtypes"
   ]
  },
  {
   "cell_type": "code",
   "execution_count": 7,
   "metadata": {},
   "outputs": [
    {
     "data": {
      "text/plain": [
       "str"
      ]
     },
     "execution_count": 7,
     "metadata": {},
     "output_type": "execute_result"
    }
   ],
   "source": [
    "# although the datatype for text appears to be object, further\n",
    "# investigation shows it's a string\n",
    "type(archive['text'][0]) #this is how we access elements in a nested ttribute of our data "
   ]
  },
  {
   "cell_type": "code",
   "execution_count": 8,
   "metadata": {},
   "outputs": [
    {
     "data": {
      "text/plain": [
       "tweet_id                      False\n",
       "in_reply_to_status_id         False\n",
       "in_reply_to_user_id           False\n",
       "timestamp                      True\n",
       "source                         True\n",
       "text                           True\n",
       "retweeted_status_id           False\n",
       "retweeted_status_user_id      False\n",
       "retweeted_status_timestamp    False\n",
       "expanded_urls                 False\n",
       "rating_numerator              False\n",
       "rating_denominator            False\n",
       "name                           True\n",
       "doggo                          True\n",
       "floofer                        True\n",
       "pupper                         True\n",
       "puppo                          True\n",
       "dtype: bool"
      ]
     },
     "execution_count": 8,
     "metadata": {},
     "output_type": "execute_result"
    }
   ],
   "source": [
    "# we have a lot of objects check which features are strings\n",
    "archive.applymap(type).eq(str).all()"
   ]
  },
  {
   "cell_type": "code",
   "execution_count": 9,
   "metadata": {},
   "outputs": [
    {
     "data": {
      "text/html": [
       "<div>\n",
       "<style scoped>\n",
       "    .dataframe tbody tr th:only-of-type {\n",
       "        vertical-align: middle;\n",
       "    }\n",
       "\n",
       "    .dataframe tbody tr th {\n",
       "        vertical-align: top;\n",
       "    }\n",
       "\n",
       "    .dataframe thead th {\n",
       "        text-align: right;\n",
       "    }\n",
       "</style>\n",
       "<table border=\"1\" class=\"dataframe\">\n",
       "  <thead>\n",
       "    <tr style=\"text-align: right;\">\n",
       "      <th></th>\n",
       "      <th>tweet_id</th>\n",
       "      <th>in_reply_to_status_id</th>\n",
       "      <th>in_reply_to_user_id</th>\n",
       "      <th>retweeted_status_id</th>\n",
       "      <th>retweeted_status_user_id</th>\n",
       "      <th>rating_numerator</th>\n",
       "      <th>rating_denominator</th>\n",
       "    </tr>\n",
       "  </thead>\n",
       "  <tbody>\n",
       "    <tr>\n",
       "      <th>count</th>\n",
       "      <td>2.356000e+03</td>\n",
       "      <td>7.800000e+01</td>\n",
       "      <td>7.800000e+01</td>\n",
       "      <td>1.810000e+02</td>\n",
       "      <td>1.810000e+02</td>\n",
       "      <td>2356.000000</td>\n",
       "      <td>2356.000000</td>\n",
       "    </tr>\n",
       "    <tr>\n",
       "      <th>mean</th>\n",
       "      <td>7.427716e+17</td>\n",
       "      <td>7.455079e+17</td>\n",
       "      <td>2.014171e+16</td>\n",
       "      <td>7.720400e+17</td>\n",
       "      <td>1.241698e+16</td>\n",
       "      <td>13.126486</td>\n",
       "      <td>10.455433</td>\n",
       "    </tr>\n",
       "    <tr>\n",
       "      <th>std</th>\n",
       "      <td>6.856705e+16</td>\n",
       "      <td>7.582492e+16</td>\n",
       "      <td>1.252797e+17</td>\n",
       "      <td>6.236928e+16</td>\n",
       "      <td>9.599254e+16</td>\n",
       "      <td>45.876648</td>\n",
       "      <td>6.745237</td>\n",
       "    </tr>\n",
       "    <tr>\n",
       "      <th>min</th>\n",
       "      <td>6.660209e+17</td>\n",
       "      <td>6.658147e+17</td>\n",
       "      <td>1.185634e+07</td>\n",
       "      <td>6.661041e+17</td>\n",
       "      <td>7.832140e+05</td>\n",
       "      <td>0.000000</td>\n",
       "      <td>0.000000</td>\n",
       "    </tr>\n",
       "    <tr>\n",
       "      <th>25%</th>\n",
       "      <td>6.783989e+17</td>\n",
       "      <td>6.757419e+17</td>\n",
       "      <td>3.086374e+08</td>\n",
       "      <td>7.186315e+17</td>\n",
       "      <td>4.196984e+09</td>\n",
       "      <td>10.000000</td>\n",
       "      <td>10.000000</td>\n",
       "    </tr>\n",
       "    <tr>\n",
       "      <th>50%</th>\n",
       "      <td>7.196279e+17</td>\n",
       "      <td>7.038708e+17</td>\n",
       "      <td>4.196984e+09</td>\n",
       "      <td>7.804657e+17</td>\n",
       "      <td>4.196984e+09</td>\n",
       "      <td>11.000000</td>\n",
       "      <td>10.000000</td>\n",
       "    </tr>\n",
       "    <tr>\n",
       "      <th>75%</th>\n",
       "      <td>7.993373e+17</td>\n",
       "      <td>8.257804e+17</td>\n",
       "      <td>4.196984e+09</td>\n",
       "      <td>8.203146e+17</td>\n",
       "      <td>4.196984e+09</td>\n",
       "      <td>12.000000</td>\n",
       "      <td>10.000000</td>\n",
       "    </tr>\n",
       "    <tr>\n",
       "      <th>max</th>\n",
       "      <td>8.924206e+17</td>\n",
       "      <td>8.862664e+17</td>\n",
       "      <td>8.405479e+17</td>\n",
       "      <td>8.874740e+17</td>\n",
       "      <td>7.874618e+17</td>\n",
       "      <td>1776.000000</td>\n",
       "      <td>170.000000</td>\n",
       "    </tr>\n",
       "  </tbody>\n",
       "</table>\n",
       "</div>"
      ],
      "text/plain": [
       "           tweet_id  in_reply_to_status_id  in_reply_to_user_id  \\\n",
       "count  2.356000e+03           7.800000e+01         7.800000e+01   \n",
       "mean   7.427716e+17           7.455079e+17         2.014171e+16   \n",
       "std    6.856705e+16           7.582492e+16         1.252797e+17   \n",
       "min    6.660209e+17           6.658147e+17         1.185634e+07   \n",
       "25%    6.783989e+17           6.757419e+17         3.086374e+08   \n",
       "50%    7.196279e+17           7.038708e+17         4.196984e+09   \n",
       "75%    7.993373e+17           8.257804e+17         4.196984e+09   \n",
       "max    8.924206e+17           8.862664e+17         8.405479e+17   \n",
       "\n",
       "       retweeted_status_id  retweeted_status_user_id  rating_numerator  \\\n",
       "count         1.810000e+02              1.810000e+02       2356.000000   \n",
       "mean          7.720400e+17              1.241698e+16         13.126486   \n",
       "std           6.236928e+16              9.599254e+16         45.876648   \n",
       "min           6.661041e+17              7.832140e+05          0.000000   \n",
       "25%           7.186315e+17              4.196984e+09         10.000000   \n",
       "50%           7.804657e+17              4.196984e+09         11.000000   \n",
       "75%           8.203146e+17              4.196984e+09         12.000000   \n",
       "max           8.874740e+17              7.874618e+17       1776.000000   \n",
       "\n",
       "       rating_denominator  \n",
       "count         2356.000000  \n",
       "mean            10.455433  \n",
       "std              6.745237  \n",
       "min              0.000000  \n",
       "25%             10.000000  \n",
       "50%             10.000000  \n",
       "75%             10.000000  \n",
       "max            170.000000  "
      ]
     },
     "execution_count": 9,
     "metadata": {},
     "output_type": "execute_result"
    }
   ],
   "source": [
    "#check distriution of quantitative variables - float and int data types\n",
    "archive.describe()"
   ]
  },
  {
   "cell_type": "code",
   "execution_count": 10,
   "metadata": {},
   "outputs": [
    {
     "data": {
      "text/html": [
       "<div>\n",
       "<style scoped>\n",
       "    .dataframe tbody tr th:only-of-type {\n",
       "        vertical-align: middle;\n",
       "    }\n",
       "\n",
       "    .dataframe tbody tr th {\n",
       "        vertical-align: top;\n",
       "    }\n",
       "\n",
       "    .dataframe thead th {\n",
       "        text-align: right;\n",
       "    }\n",
       "</style>\n",
       "<table border=\"1\" class=\"dataframe\">\n",
       "  <thead>\n",
       "    <tr style=\"text-align: right;\">\n",
       "      <th></th>\n",
       "      <th>tweet_id</th>\n",
       "      <th>in_reply_to_status_id</th>\n",
       "      <th>in_reply_to_user_id</th>\n",
       "      <th>timestamp</th>\n",
       "      <th>source</th>\n",
       "      <th>text</th>\n",
       "      <th>retweeted_status_id</th>\n",
       "      <th>retweeted_status_user_id</th>\n",
       "      <th>retweeted_status_timestamp</th>\n",
       "      <th>expanded_urls</th>\n",
       "      <th>rating_numerator</th>\n",
       "      <th>rating_denominator</th>\n",
       "      <th>name</th>\n",
       "      <th>doggo</th>\n",
       "      <th>floofer</th>\n",
       "      <th>pupper</th>\n",
       "      <th>puppo</th>\n",
       "    </tr>\n",
       "  </thead>\n",
       "  <tbody>\n",
       "    <tr>\n",
       "      <th>393</th>\n",
       "      <td>825876512159186944</td>\n",
       "      <td>NaN</td>\n",
       "      <td>NaN</td>\n",
       "      <td>2017-01-30 01:21:19 +0000</td>\n",
       "      <td>&lt;a href=\"http://twitter.com/download/iphone\" r...</td>\n",
       "      <td>This is Mo. No one will push him around in the...</td>\n",
       "      <td>NaN</td>\n",
       "      <td>NaN</td>\n",
       "      <td>NaN</td>\n",
       "      <td>https://twitter.com/dog_rates/status/825876512...</td>\n",
       "      <td>11</td>\n",
       "      <td>10</td>\n",
       "      <td>Mo</td>\n",
       "      <td>None</td>\n",
       "      <td>None</td>\n",
       "      <td>None</td>\n",
       "      <td>None</td>\n",
       "    </tr>\n",
       "    <tr>\n",
       "      <th>486</th>\n",
       "      <td>814530161257443328</td>\n",
       "      <td>NaN</td>\n",
       "      <td>NaN</td>\n",
       "      <td>2016-12-29 17:54:58 +0000</td>\n",
       "      <td>&lt;a href=\"http://twitter.com/download/iphone\" r...</td>\n",
       "      <td>This is Alf. Someone just rubbed a balloon on ...</td>\n",
       "      <td>NaN</td>\n",
       "      <td>NaN</td>\n",
       "      <td>NaN</td>\n",
       "      <td>https://twitter.com/dog_rates/status/814530161...</td>\n",
       "      <td>12</td>\n",
       "      <td>10</td>\n",
       "      <td>Alf</td>\n",
       "      <td>None</td>\n",
       "      <td>None</td>\n",
       "      <td>None</td>\n",
       "      <td>None</td>\n",
       "    </tr>\n",
       "    <tr>\n",
       "      <th>1090</th>\n",
       "      <td>737678689543020544</td>\n",
       "      <td>NaN</td>\n",
       "      <td>NaN</td>\n",
       "      <td>2016-05-31 16:14:39 +0000</td>\n",
       "      <td>&lt;a href=\"http://twitter.com/download/iphone\" r...</td>\n",
       "      <td>We only rate dogs. Pls stop sending in non-can...</td>\n",
       "      <td>NaN</td>\n",
       "      <td>NaN</td>\n",
       "      <td>NaN</td>\n",
       "      <td>https://twitter.com/dog_rates/status/737678689...</td>\n",
       "      <td>11</td>\n",
       "      <td>10</td>\n",
       "      <td>None</td>\n",
       "      <td>None</td>\n",
       "      <td>None</td>\n",
       "      <td>None</td>\n",
       "      <td>None</td>\n",
       "    </tr>\n",
       "  </tbody>\n",
       "</table>\n",
       "</div>"
      ],
      "text/plain": [
       "                tweet_id  in_reply_to_status_id  in_reply_to_user_id  \\\n",
       "393   825876512159186944                    NaN                  NaN   \n",
       "486   814530161257443328                    NaN                  NaN   \n",
       "1090  737678689543020544                    NaN                  NaN   \n",
       "\n",
       "                      timestamp  \\\n",
       "393   2017-01-30 01:21:19 +0000   \n",
       "486   2016-12-29 17:54:58 +0000   \n",
       "1090  2016-05-31 16:14:39 +0000   \n",
       "\n",
       "                                                 source  \\\n",
       "393   <a href=\"http://twitter.com/download/iphone\" r...   \n",
       "486   <a href=\"http://twitter.com/download/iphone\" r...   \n",
       "1090  <a href=\"http://twitter.com/download/iphone\" r...   \n",
       "\n",
       "                                                   text  retweeted_status_id  \\\n",
       "393   This is Mo. No one will push him around in the...                  NaN   \n",
       "486   This is Alf. Someone just rubbed a balloon on ...                  NaN   \n",
       "1090  We only rate dogs. Pls stop sending in non-can...                  NaN   \n",
       "\n",
       "      retweeted_status_user_id retweeted_status_timestamp  \\\n",
       "393                        NaN                        NaN   \n",
       "486                        NaN                        NaN   \n",
       "1090                       NaN                        NaN   \n",
       "\n",
       "                                          expanded_urls  rating_numerator  \\\n",
       "393   https://twitter.com/dog_rates/status/825876512...                11   \n",
       "486   https://twitter.com/dog_rates/status/814530161...                12   \n",
       "1090  https://twitter.com/dog_rates/status/737678689...                11   \n",
       "\n",
       "      rating_denominator  name doggo floofer pupper puppo  \n",
       "393                   10    Mo  None    None   None  None  \n",
       "486                   10   Alf  None    None   None  None  \n",
       "1090                  10  None  None    None   None  None  "
      ]
     },
     "execution_count": 10,
     "metadata": {},
     "output_type": "execute_result"
    }
   ],
   "source": [
    "#Visually assess a sample of three attributes in David's enhanced archive dataframe\n",
    "archive.sample(3)"
   ]
  },
  {
   "cell_type": "markdown",
   "metadata": {},
   "source": [
    "To begin with I would try to capture interesting information out of the text using string metods. The WeRateDogs Twitter archive contains basic tweet data for all 5000+ of their tweets. Though this basic data is not everything, it does contain each tweet's text, from which David has extracted rating, dog name, and dog \"stage\" (i.e. doggo, floofer, pupper, and puppo) to make this Twitter archive to improve the effectiveness of the archive and therefore making it \"enhanced.\" Of the 5000+ tweets, I have filtered for tweets with ratings only (there are 2356)."
   ]
  },
  {
   "cell_type": "code",
   "execution_count": 12,
   "metadata": {},
   "outputs": [
    {
     "data": {
      "image/png": "[encoded data removed]",
      "text/plain": [
       "<Figure size 1440x360 with 1 Axes>"
      ]
     },
     "metadata": {
      "needs_background": "light"
     },
     "output_type": "display_data"
    }
   ],
   "source": [
    "#exploring numerator and denominator - Visualize Outliers\n",
    "archive.boxplot(column = ['rating_numerator', 'rating_denominator'], vert=False, figsize = (20, 5));"
   ]
  },
  {
   "cell_type": "code",
   "execution_count": 13,
   "metadata": {},
   "outputs": [
    {
     "data": {
      "text/plain": [
       "979     1776\n",
       "313      960\n",
       "189      666\n",
       "188      420\n",
       "2074     420\n",
       "1120     204\n",
       "290      182\n",
       "902      165\n",
       "1779     144\n",
       "1634     143\n",
       "1635     121\n",
       "1228      99\n",
       "1843      88\n",
       "433       84\n",
       "1254      80\n",
       "695       75\n",
       "340       75\n",
       "1351      60\n",
       "1202      50\n",
       "1274      45\n",
       "1433      44\n",
       "763       27\n",
       "1712      26\n",
       "516       24\n",
       "1663      20\n",
       "55        17\n",
       "285       15\n",
       "291       15\n",
       "83        14\n",
       "866       14\n",
       "Name: rating_numerator, dtype: int64"
      ]
     },
     "execution_count": 13,
     "metadata": {},
     "output_type": "execute_result"
    }
   ],
   "source": [
    "#assessing numerator - Numerator should ideally be up to 10\n",
    "archive.rating_numerator.sort_values(ascending = False).head(30)"
   ]
  },
  {
   "cell_type": "code",
   "execution_count": 14,
   "metadata": {},
   "outputs": [
    {
     "data": {
      "image/png": "[encoded data removed]",
      "text/plain": [
       "<Figure size 432x288 with 1 Axes>"
      ]
     },
     "metadata": {
      "needs_background": "light"
     },
     "output_type": "display_data"
    }
   ],
   "source": [
    "archive.rating_numerator.describe().plot(kind = 'bar');"
   ]
  },
  {
   "cell_type": "code",
   "execution_count": 15,
   "metadata": {},
   "outputs": [
    {
     "data": {
      "text/plain": [
       "1120    170\n",
       "902     150\n",
       "1634    130\n",
       "1779    120\n",
       "1635    110\n",
       "1228     90\n",
       "1254     80\n",
       "1843     80\n",
       "433      70\n",
       "1274     50\n",
       "1351     50\n",
       "1202     50\n",
       "1433     40\n",
       "1598     20\n",
       "1165     20\n",
       "1663     16\n",
       "342      15\n",
       "1662     11\n",
       "1068     11\n",
       "784      11\n",
       "Name: rating_denominator, dtype: int64"
      ]
     },
     "execution_count": 15,
     "metadata": {},
     "output_type": "execute_result"
    }
   ],
   "source": [
    "#assessing denominator - Denominator should ideally be 10\n",
    "archive.rating_denominator.sort_values(ascending = False).head(20)"
   ]
  },
  {
   "cell_type": "code",
   "execution_count": 16,
   "metadata": {},
   "outputs": [
    {
     "data": {
      "image/png": "[encoded data removed]",
      "text/plain": [
       "<Figure size 432x288 with 1 Axes>"
      ]
     },
     "metadata": {
      "needs_background": "light"
     },
     "output_type": "display_data"
    }
   ],
   "source": [
    "archive.rating_denominator.describe().plot(kind = 'bar');"
   ]
  },
  {
   "cell_type": "code",
   "execution_count": 17,
   "metadata": {},
   "outputs": [
    {
     "data": {
      "text/plain": [
       "tweet_id                      20\n",
       "in_reply_to_status_id          4\n",
       "in_reply_to_user_id            4\n",
       "timestamp                     20\n",
       "source                        20\n",
       "text                          20\n",
       "retweeted_status_id            1\n",
       "retweeted_status_user_id       1\n",
       "retweeted_status_timestamp     1\n",
       "expanded_urls                 17\n",
       "rating_numerator              20\n",
       "rating_denominator            20\n",
       "name                          20\n",
       "doggo                         20\n",
       "floofer                       20\n",
       "pupper                        20\n",
       "puppo                         20\n",
       "dtype: int64"
      ]
     },
     "execution_count": 17,
     "metadata": {},
     "output_type": "execute_result"
    }
   ],
   "source": [
    "#Count values less than 10 in the rating_denominator variable - use .count() as rating_denominator is a quantitative var\n",
    "archive[archive['rating_denominator']> 10].count()"
   ]
  },
  {
   "cell_type": "code",
   "execution_count": 18,
   "metadata": {},
   "outputs": [
    {
     "data": {
      "text/plain": [
       "tweet_id                      3\n",
       "in_reply_to_status_id         1\n",
       "in_reply_to_user_id           1\n",
       "timestamp                     3\n",
       "source                        3\n",
       "text                          3\n",
       "retweeted_status_id           0\n",
       "retweeted_status_user_id      0\n",
       "retweeted_status_timestamp    0\n",
       "expanded_urls                 2\n",
       "rating_numerator              3\n",
       "rating_denominator            3\n",
       "name                          3\n",
       "doggo                         3\n",
       "floofer                       3\n",
       "pupper                        3\n",
       "puppo                         3\n",
       "dtype: int64"
      ]
     },
     "execution_count": 18,
     "metadata": {},
     "output_type": "execute_result"
    }
   ],
   "source": [
    "#Count values less than 10 in the rating_denominator variable\n",
    "archive[archive['rating_denominator']< 10].count()"
   ]
  },
  {
   "cell_type": "code",
   "execution_count": 19,
   "metadata": {},
   "outputs": [
    {
     "data": {
      "text/plain": [
       "tweet_id                      39\n",
       "in_reply_to_status_id          4\n",
       "in_reply_to_user_id            4\n",
       "timestamp                     39\n",
       "source                        39\n",
       "text                          39\n",
       "retweeted_status_id            1\n",
       "retweeted_status_user_id       1\n",
       "retweeted_status_timestamp     1\n",
       "expanded_urls                 36\n",
       "rating_numerator              39\n",
       "rating_denominator            39\n",
       "name                          39\n",
       "doggo                         39\n",
       "floofer                       39\n",
       "pupper                        39\n",
       "puppo                         39\n",
       "dtype: int64"
      ]
     },
     "execution_count": 19,
     "metadata": {},
     "output_type": "execute_result"
    }
   ],
   "source": [
    "#curious to see why certain dogs scored very low - How many are they\n",
    "archive[archive['rating_numerator'] < 4].count()"
   ]
  },
  {
   "cell_type": "code",
   "execution_count": 20,
   "metadata": {},
   "outputs": [
    {
     "name": "stdout",
     "output_type": "stream",
     "text": [
      "None        745\n",
      "a            55\n",
      "Charlie      12\n",
      "Oliver       11\n",
      "Lucy         11\n",
      "           ... \n",
      "Willy         1\n",
      "Halo          1\n",
      "Superpup      1\n",
      "Claude        1\n",
      "Deacon        1\n",
      "Name: name, Length: 957, dtype: int64\n",
      "-----------\n",
      "count     2356\n",
      "unique     957\n",
      "top       None\n",
      "freq       745\n",
      "Name: name, dtype: object\n"
     ]
    }
   ],
   "source": [
    "# explore the name variable - that is a string - we use value_counts() and .describe()\n",
    "print(archive.name.value_counts())\n",
    "print('-----------')\n",
    "print(archive.name.describe())"
   ]
  },
  {
   "cell_type": "code",
   "execution_count": 9,
   "metadata": {},
   "outputs": [
    {
     "data": {
      "text/html": [
       "<div>\n",
       "<style scoped>\n",
       "    .dataframe tbody tr th:only-of-type {\n",
       "        vertical-align: middle;\n",
       "    }\n",
       "\n",
       "    .dataframe tbody tr th {\n",
       "        vertical-align: top;\n",
       "    }\n",
       "\n",
       "    .dataframe thead th {\n",
       "        text-align: right;\n",
       "    }\n",
       "</style>\n",
       "<table border=\"1\" class=\"dataframe\">\n",
       "  <thead>\n",
       "    <tr style=\"text-align: right;\">\n",
       "      <th></th>\n",
       "      <th>tweet_id</th>\n",
       "      <th>in_reply_to_status_id</th>\n",
       "      <th>in_reply_to_user_id</th>\n",
       "      <th>retweeted_status_id</th>\n",
       "      <th>retweeted_status_user_id</th>\n",
       "      <th>rating_numerator</th>\n",
       "      <th>rating_denominator</th>\n",
       "    </tr>\n",
       "    <tr>\n",
       "      <th>name</th>\n",
       "      <th></th>\n",
       "      <th></th>\n",
       "      <th></th>\n",
       "      <th></th>\n",
       "      <th></th>\n",
       "      <th></th>\n",
       "      <th></th>\n",
       "    </tr>\n",
       "  </thead>\n",
       "  <tbody>\n",
       "    <tr>\n",
       "      <th>Abby</th>\n",
       "      <td>1.491722e+18</td>\n",
       "      <td>0.0</td>\n",
       "      <td>0.0</td>\n",
       "      <td>0.000000e+00</td>\n",
       "      <td>0.000000e+00</td>\n",
       "      <td>21.0</td>\n",
       "      <td>20.0</td>\n",
       "    </tr>\n",
       "    <tr>\n",
       "      <th>Ace</th>\n",
       "      <td>7.532945e+17</td>\n",
       "      <td>0.0</td>\n",
       "      <td>0.0</td>\n",
       "      <td>0.000000e+00</td>\n",
       "      <td>0.000000e+00</td>\n",
       "      <td>11.0</td>\n",
       "      <td>10.0</td>\n",
       "    </tr>\n",
       "    <tr>\n",
       "      <th>Acro</th>\n",
       "      <td>6.740193e+17</td>\n",
       "      <td>0.0</td>\n",
       "      <td>0.0</td>\n",
       "      <td>0.000000e+00</td>\n",
       "      <td>0.000000e+00</td>\n",
       "      <td>10.0</td>\n",
       "      <td>10.0</td>\n",
       "    </tr>\n",
       "    <tr>\n",
       "      <th>Adele</th>\n",
       "      <td>7.059751e+17</td>\n",
       "      <td>0.0</td>\n",
       "      <td>0.0</td>\n",
       "      <td>0.000000e+00</td>\n",
       "      <td>0.000000e+00</td>\n",
       "      <td>10.0</td>\n",
       "      <td>10.0</td>\n",
       "    </tr>\n",
       "    <tr>\n",
       "      <th>Aiden</th>\n",
       "      <td>6.740144e+17</td>\n",
       "      <td>0.0</td>\n",
       "      <td>0.0</td>\n",
       "      <td>0.000000e+00</td>\n",
       "      <td>0.000000e+00</td>\n",
       "      <td>11.0</td>\n",
       "      <td>10.0</td>\n",
       "    </tr>\n",
       "    <tr>\n",
       "      <th>...</th>\n",
       "      <td>...</td>\n",
       "      <td>...</td>\n",
       "      <td>...</td>\n",
       "      <td>...</td>\n",
       "      <td>...</td>\n",
       "      <td>...</td>\n",
       "      <td>...</td>\n",
       "    </tr>\n",
       "    <tr>\n",
       "      <th>such</th>\n",
       "      <td>8.875171e+17</td>\n",
       "      <td>0.0</td>\n",
       "      <td>0.0</td>\n",
       "      <td>0.000000e+00</td>\n",
       "      <td>0.000000e+00</td>\n",
       "      <td>14.0</td>\n",
       "      <td>10.0</td>\n",
       "    </tr>\n",
       "    <tr>\n",
       "      <th>the</th>\n",
       "      <td>5.402458e+18</td>\n",
       "      <td>0.0</td>\n",
       "      <td>0.0</td>\n",
       "      <td>0.000000e+00</td>\n",
       "      <td>0.000000e+00</td>\n",
       "      <td>83.0</td>\n",
       "      <td>80.0</td>\n",
       "    </tr>\n",
       "    <tr>\n",
       "      <th>this</th>\n",
       "      <td>7.311560e+17</td>\n",
       "      <td>0.0</td>\n",
       "      <td>0.0</td>\n",
       "      <td>0.000000e+00</td>\n",
       "      <td>0.000000e+00</td>\n",
       "      <td>204.0</td>\n",
       "      <td>170.0</td>\n",
       "    </tr>\n",
       "    <tr>\n",
       "      <th>unacceptable</th>\n",
       "      <td>7.309247e+17</td>\n",
       "      <td>0.0</td>\n",
       "      <td>0.0</td>\n",
       "      <td>0.000000e+00</td>\n",
       "      <td>0.000000e+00</td>\n",
       "      <td>9.0</td>\n",
       "      <td>10.0</td>\n",
       "    </tr>\n",
       "    <tr>\n",
       "      <th>very</th>\n",
       "      <td>3.729301e+18</td>\n",
       "      <td>0.0</td>\n",
       "      <td>0.0</td>\n",
       "      <td>7.007478e+17</td>\n",
       "      <td>4.196984e+09</td>\n",
       "      <td>52.0</td>\n",
       "      <td>50.0</td>\n",
       "    </tr>\n",
       "  </tbody>\n",
       "</table>\n",
       "<p>957 rows × 7 columns</p>\n",
       "</div>"
      ],
      "text/plain": [
       "                  tweet_id  in_reply_to_status_id  in_reply_to_user_id  \\\n",
       "name                                                                     \n",
       "Abby          1.491722e+18                    0.0                  0.0   \n",
       "Ace           7.532945e+17                    0.0                  0.0   \n",
       "Acro          6.740193e+17                    0.0                  0.0   \n",
       "Adele         7.059751e+17                    0.0                  0.0   \n",
       "Aiden         6.740144e+17                    0.0                  0.0   \n",
       "...                    ...                    ...                  ...   \n",
       "such          8.875171e+17                    0.0                  0.0   \n",
       "the           5.402458e+18                    0.0                  0.0   \n",
       "this          7.311560e+17                    0.0                  0.0   \n",
       "unacceptable  7.309247e+17                    0.0                  0.0   \n",
       "very          3.729301e+18                    0.0                  0.0   \n",
       "\n",
       "              retweeted_status_id  retweeted_status_user_id  rating_numerator  \\\n",
       "name                                                                            \n",
       "Abby                 0.000000e+00              0.000000e+00              21.0   \n",
       "Ace                  0.000000e+00              0.000000e+00              11.0   \n",
       "Acro                 0.000000e+00              0.000000e+00              10.0   \n",
       "Adele                0.000000e+00              0.000000e+00              10.0   \n",
       "Aiden                0.000000e+00              0.000000e+00              11.0   \n",
       "...                           ...                       ...               ...   \n",
       "such                 0.000000e+00              0.000000e+00              14.0   \n",
       "the                  0.000000e+00              0.000000e+00              83.0   \n",
       "this                 0.000000e+00              0.000000e+00             204.0   \n",
       "unacceptable         0.000000e+00              0.000000e+00               9.0   \n",
       "very                 7.007478e+17              4.196984e+09              52.0   \n",
       "\n",
       "              rating_denominator  \n",
       "name                              \n",
       "Abby                        20.0  \n",
       "Ace                         10.0  \n",
       "Acro                        10.0  \n",
       "Adele                       10.0  \n",
       "Aiden                       10.0  \n",
       "...                          ...  \n",
       "such                        10.0  \n",
       "the                         80.0  \n",
       "this                       170.0  \n",
       "unacceptable                10.0  \n",
       "very                        50.0  \n",
       "\n",
       "[957 rows x 7 columns]"
      ]
     },
     "execution_count": 9,
     "metadata": {},
     "output_type": "execute_result"
    }
   ],
   "source": [
    "archive.groupby('name').sum().sort_values('name', ascending = True)"
   ]
  },
  {
   "cell_type": "code",
   "execution_count": 21,
   "metadata": {},
   "outputs": [
    {
     "data": {
      "image/png": "[encoded data removed]",
      "text/plain": [
       "<Figure size 1152x432 with 1 Axes>"
      ]
     },
     "metadata": {
      "needs_background": "light"
     },
     "output_type": "display_data"
    }
   ],
   "source": [
    "fig = plt.figure(figsize = (16,6))\n",
    "archive.name.value_counts().head(30).plot(kind='bar');"
   ]
  },
  {
   "cell_type": "code",
   "execution_count": 22,
   "metadata": {},
   "outputs": [
    {
     "name": "stdout",
     "output_type": "stream",
     "text": [
      "None      2099\n",
      "pupper     257\n",
      "Name: pupper, dtype: int64\n",
      "-----------\n",
      "count     2356\n",
      "unique       2\n",
      "top       None\n",
      "freq      2099\n",
      "Name: pupper, dtype: object\n"
     ]
    }
   ],
   "source": [
    "# explore the 'pupper' variable - that is a string too - we use .value_counts() and .describe()\n",
    "print(archive.pupper.value_counts())\n",
    "print('-----------')\n",
    "print(archive.pupper.describe())"
   ]
  },
  {
   "cell_type": "code",
   "execution_count": 23,
   "metadata": {},
   "outputs": [
    {
     "name": "stdout",
     "output_type": "stream",
     "text": [
      "None     2259\n",
      "doggo      97\n",
      "Name: doggo, dtype: int64\n",
      "-----------\n",
      "count     2356\n",
      "unique       2\n",
      "top       None\n",
      "freq      2259\n",
      "Name: doggo, dtype: object\n"
     ]
    }
   ],
   "source": [
    "# explore the 'doggo' variable - that is a string too - we use .value_counts() and .describe()\n",
    "print(archive.doggo.value_counts())\n",
    "print('-----------')\n",
    "print(archive.doggo.describe())"
   ]
  },
  {
   "cell_type": "code",
   "execution_count": 24,
   "metadata": {},
   "outputs": [
    {
     "name": "stdout",
     "output_type": "stream",
     "text": [
      "None       2346\n",
      "floofer      10\n",
      "Name: floofer, dtype: int64\n",
      "-----------\n",
      "count     2356\n",
      "unique       2\n",
      "top       None\n",
      "freq      2346\n",
      "Name: floofer, dtype: object\n"
     ]
    }
   ],
   "source": [
    "# explore the 'floofer' variable - that is a string too - we use .value_counts() and .describe()\n",
    "print(archive.floofer.value_counts())\n",
    "print('-----------')\n",
    "print(archive.floofer.describe())"
   ]
  },
  {
   "cell_type": "code",
   "execution_count": 25,
   "metadata": {},
   "outputs": [
    {
     "name": "stdout",
     "output_type": "stream",
     "text": [
      "None     2326\n",
      "puppo      30\n",
      "Name: puppo, dtype: int64\n",
      "-----------\n",
      "count     2356\n",
      "unique       2\n",
      "top       None\n",
      "freq      2326\n",
      "Name: puppo, dtype: object\n"
     ]
    }
   ],
   "source": [
    "# explore the 'puppo' variable - that is a string too - we use .value_counts() and .describe()\n",
    "print(archive.puppo.value_counts())\n",
    "print('-----------')\n",
    "print(archive.puppo.describe())"
   ]
  },
  {
   "cell_type": "code",
   "execution_count": 26,
   "metadata": {},
   "outputs": [
    {
     "data": {
      "text/html": [
       "<div>\n",
       "<style scoped>\n",
       "    .dataframe tbody tr th:only-of-type {\n",
       "        vertical-align: middle;\n",
       "    }\n",
       "\n",
       "    .dataframe tbody tr th {\n",
       "        vertical-align: top;\n",
       "    }\n",
       "\n",
       "    .dataframe thead th {\n",
       "        text-align: right;\n",
       "    }\n",
       "</style>\n",
       "<table border=\"1\" class=\"dataframe\">\n",
       "  <thead>\n",
       "    <tr style=\"text-align: right;\">\n",
       "      <th></th>\n",
       "      <th>tweet_id</th>\n",
       "      <th>in_reply_to_status_id</th>\n",
       "      <th>in_reply_to_user_id</th>\n",
       "      <th>timestamp</th>\n",
       "      <th>source</th>\n",
       "      <th>text</th>\n",
       "      <th>retweeted_status_id</th>\n",
       "      <th>retweeted_status_user_id</th>\n",
       "      <th>retweeted_status_timestamp</th>\n",
       "      <th>expanded_urls</th>\n",
       "      <th>rating_numerator</th>\n",
       "      <th>rating_denominator</th>\n",
       "      <th>name</th>\n",
       "      <th>doggo</th>\n",
       "      <th>floofer</th>\n",
       "      <th>pupper</th>\n",
       "      <th>puppo</th>\n",
       "    </tr>\n",
       "  </thead>\n",
       "  <tbody>\n",
       "    <tr>\n",
       "      <th>191</th>\n",
       "      <td>855851453814013952</td>\n",
       "      <td>NaN</td>\n",
       "      <td>NaN</td>\n",
       "      <td>2017-04-22 18:31:02 +0000</td>\n",
       "      <td>&lt;a href=\"http://twitter.com/download/iphone\" r...</td>\n",
       "      <td>Here's a puppo participating in the #ScienceMa...</td>\n",
       "      <td>NaN</td>\n",
       "      <td>NaN</td>\n",
       "      <td>NaN</td>\n",
       "      <td>https://twitter.com/dog_rates/status/855851453...</td>\n",
       "      <td>13</td>\n",
       "      <td>10</td>\n",
       "      <td>None</td>\n",
       "      <td>doggo</td>\n",
       "      <td>None</td>\n",
       "      <td>None</td>\n",
       "      <td>puppo</td>\n",
       "    </tr>\n",
       "    <tr>\n",
       "      <th>200</th>\n",
       "      <td>854010172552949760</td>\n",
       "      <td>NaN</td>\n",
       "      <td>NaN</td>\n",
       "      <td>2017-04-17 16:34:26 +0000</td>\n",
       "      <td>&lt;a href=\"http://twitter.com/download/iphone\" r...</td>\n",
       "      <td>At first I thought this was a shy doggo, but i...</td>\n",
       "      <td>NaN</td>\n",
       "      <td>NaN</td>\n",
       "      <td>NaN</td>\n",
       "      <td>https://twitter.com/dog_rates/status/854010172...</td>\n",
       "      <td>11</td>\n",
       "      <td>10</td>\n",
       "      <td>None</td>\n",
       "      <td>doggo</td>\n",
       "      <td>floofer</td>\n",
       "      <td>None</td>\n",
       "      <td>None</td>\n",
       "    </tr>\n",
       "    <tr>\n",
       "      <th>460</th>\n",
       "      <td>817777686764523521</td>\n",
       "      <td>NaN</td>\n",
       "      <td>NaN</td>\n",
       "      <td>2017-01-07 16:59:28 +0000</td>\n",
       "      <td>&lt;a href=\"http://twitter.com/download/iphone\" r...</td>\n",
       "      <td>This is Dido. She's playing the lead role in \"...</td>\n",
       "      <td>NaN</td>\n",
       "      <td>NaN</td>\n",
       "      <td>NaN</td>\n",
       "      <td>https://twitter.com/dog_rates/status/817777686...</td>\n",
       "      <td>13</td>\n",
       "      <td>10</td>\n",
       "      <td>Dido</td>\n",
       "      <td>doggo</td>\n",
       "      <td>None</td>\n",
       "      <td>pupper</td>\n",
       "      <td>None</td>\n",
       "    </tr>\n",
       "    <tr>\n",
       "      <th>531</th>\n",
       "      <td>808106460588765185</td>\n",
       "      <td>NaN</td>\n",
       "      <td>NaN</td>\n",
       "      <td>2016-12-12 00:29:28 +0000</td>\n",
       "      <td>&lt;a href=\"http://twitter.com/download/iphone\" r...</td>\n",
       "      <td>Here we have Burke (pupper) and Dexter (doggo)...</td>\n",
       "      <td>NaN</td>\n",
       "      <td>NaN</td>\n",
       "      <td>NaN</td>\n",
       "      <td>https://twitter.com/dog_rates/status/808106460...</td>\n",
       "      <td>12</td>\n",
       "      <td>10</td>\n",
       "      <td>None</td>\n",
       "      <td>doggo</td>\n",
       "      <td>None</td>\n",
       "      <td>pupper</td>\n",
       "      <td>None</td>\n",
       "    </tr>\n",
       "    <tr>\n",
       "      <th>565</th>\n",
       "      <td>802265048156610565</td>\n",
       "      <td>7.331095e+17</td>\n",
       "      <td>4.196984e+09</td>\n",
       "      <td>2016-11-25 21:37:47 +0000</td>\n",
       "      <td>&lt;a href=\"http://twitter.com/download/iphone\" r...</td>\n",
       "      <td>Like doggo, like pupper version 2. Both 11/10 ...</td>\n",
       "      <td>NaN</td>\n",
       "      <td>NaN</td>\n",
       "      <td>NaN</td>\n",
       "      <td>https://twitter.com/dog_rates/status/802265048...</td>\n",
       "      <td>11</td>\n",
       "      <td>10</td>\n",
       "      <td>None</td>\n",
       "      <td>doggo</td>\n",
       "      <td>None</td>\n",
       "      <td>pupper</td>\n",
       "      <td>None</td>\n",
       "    </tr>\n",
       "    <tr>\n",
       "      <th>575</th>\n",
       "      <td>801115127852503040</td>\n",
       "      <td>NaN</td>\n",
       "      <td>NaN</td>\n",
       "      <td>2016-11-22 17:28:25 +0000</td>\n",
       "      <td>&lt;a href=\"http://twitter.com/download/iphone\" r...</td>\n",
       "      <td>This is Bones. He's being haunted by another d...</td>\n",
       "      <td>NaN</td>\n",
       "      <td>NaN</td>\n",
       "      <td>NaN</td>\n",
       "      <td>https://twitter.com/dog_rates/status/801115127...</td>\n",
       "      <td>12</td>\n",
       "      <td>10</td>\n",
       "      <td>Bones</td>\n",
       "      <td>doggo</td>\n",
       "      <td>None</td>\n",
       "      <td>pupper</td>\n",
       "      <td>None</td>\n",
       "    </tr>\n",
       "    <tr>\n",
       "      <th>705</th>\n",
       "      <td>785639753186217984</td>\n",
       "      <td>NaN</td>\n",
       "      <td>NaN</td>\n",
       "      <td>2016-10-11 00:34:48 +0000</td>\n",
       "      <td>&lt;a href=\"http://twitter.com/download/iphone\" r...</td>\n",
       "      <td>This is Pinot. He's a sophisticated doggo. You...</td>\n",
       "      <td>NaN</td>\n",
       "      <td>NaN</td>\n",
       "      <td>NaN</td>\n",
       "      <td>https://twitter.com/dog_rates/status/785639753...</td>\n",
       "      <td>10</td>\n",
       "      <td>10</td>\n",
       "      <td>Pinot</td>\n",
       "      <td>doggo</td>\n",
       "      <td>None</td>\n",
       "      <td>pupper</td>\n",
       "      <td>None</td>\n",
       "    </tr>\n",
       "    <tr>\n",
       "      <th>733</th>\n",
       "      <td>781308096455073793</td>\n",
       "      <td>NaN</td>\n",
       "      <td>NaN</td>\n",
       "      <td>2016-09-29 01:42:20 +0000</td>\n",
       "      <td>&lt;a href=\"http://vine.co\" rel=\"nofollow\"&gt;Vine -...</td>\n",
       "      <td>Pupper butt 1, Doggo 0. Both 12/10 https://t.c...</td>\n",
       "      <td>NaN</td>\n",
       "      <td>NaN</td>\n",
       "      <td>NaN</td>\n",
       "      <td>https://vine.co/v/5rgu2Law2ut</td>\n",
       "      <td>12</td>\n",
       "      <td>10</td>\n",
       "      <td>None</td>\n",
       "      <td>doggo</td>\n",
       "      <td>None</td>\n",
       "      <td>pupper</td>\n",
       "      <td>None</td>\n",
       "    </tr>\n",
       "    <tr>\n",
       "      <th>778</th>\n",
       "      <td>775898661951791106</td>\n",
       "      <td>NaN</td>\n",
       "      <td>NaN</td>\n",
       "      <td>2016-09-14 03:27:11 +0000</td>\n",
       "      <td>&lt;a href=\"http://twitter.com/download/iphone\" r...</td>\n",
       "      <td>RT @dog_rates: Like father (doggo), like son (...</td>\n",
       "      <td>7.331095e+17</td>\n",
       "      <td>4.196984e+09</td>\n",
       "      <td>2016-05-19 01:38:16 +0000</td>\n",
       "      <td>https://twitter.com/dog_rates/status/733109485...</td>\n",
       "      <td>12</td>\n",
       "      <td>10</td>\n",
       "      <td>None</td>\n",
       "      <td>doggo</td>\n",
       "      <td>None</td>\n",
       "      <td>pupper</td>\n",
       "      <td>None</td>\n",
       "    </tr>\n",
       "    <tr>\n",
       "      <th>822</th>\n",
       "      <td>770093767776997377</td>\n",
       "      <td>NaN</td>\n",
       "      <td>NaN</td>\n",
       "      <td>2016-08-29 03:00:36 +0000</td>\n",
       "      <td>&lt;a href=\"http://twitter.com/download/iphone\" r...</td>\n",
       "      <td>RT @dog_rates: This is just downright precious...</td>\n",
       "      <td>7.410673e+17</td>\n",
       "      <td>4.196984e+09</td>\n",
       "      <td>2016-06-10 00:39:48 +0000</td>\n",
       "      <td>https://twitter.com/dog_rates/status/741067306...</td>\n",
       "      <td>12</td>\n",
       "      <td>10</td>\n",
       "      <td>just</td>\n",
       "      <td>doggo</td>\n",
       "      <td>None</td>\n",
       "      <td>pupper</td>\n",
       "      <td>None</td>\n",
       "    </tr>\n",
       "    <tr>\n",
       "      <th>889</th>\n",
       "      <td>759793422261743616</td>\n",
       "      <td>NaN</td>\n",
       "      <td>NaN</td>\n",
       "      <td>2016-07-31 16:50:42 +0000</td>\n",
       "      <td>&lt;a href=\"http://twitter.com/download/iphone\" r...</td>\n",
       "      <td>Meet Maggie &amp;amp; Lila. Maggie is the doggo, L...</td>\n",
       "      <td>NaN</td>\n",
       "      <td>NaN</td>\n",
       "      <td>NaN</td>\n",
       "      <td>https://twitter.com/dog_rates/status/759793422...</td>\n",
       "      <td>12</td>\n",
       "      <td>10</td>\n",
       "      <td>Maggie</td>\n",
       "      <td>doggo</td>\n",
       "      <td>None</td>\n",
       "      <td>pupper</td>\n",
       "      <td>None</td>\n",
       "    </tr>\n",
       "    <tr>\n",
       "      <th>956</th>\n",
       "      <td>751583847268179968</td>\n",
       "      <td>NaN</td>\n",
       "      <td>NaN</td>\n",
       "      <td>2016-07-09 01:08:47 +0000</td>\n",
       "      <td>&lt;a href=\"http://twitter.com/download/iphone\" r...</td>\n",
       "      <td>Please stop sending it pictures that don't eve...</td>\n",
       "      <td>NaN</td>\n",
       "      <td>NaN</td>\n",
       "      <td>NaN</td>\n",
       "      <td>https://twitter.com/dog_rates/status/751583847...</td>\n",
       "      <td>5</td>\n",
       "      <td>10</td>\n",
       "      <td>None</td>\n",
       "      <td>doggo</td>\n",
       "      <td>None</td>\n",
       "      <td>pupper</td>\n",
       "      <td>None</td>\n",
       "    </tr>\n",
       "    <tr>\n",
       "      <th>1063</th>\n",
       "      <td>741067306818797568</td>\n",
       "      <td>NaN</td>\n",
       "      <td>NaN</td>\n",
       "      <td>2016-06-10 00:39:48 +0000</td>\n",
       "      <td>&lt;a href=\"http://twitter.com/download/iphone\" r...</td>\n",
       "      <td>This is just downright precious af. 12/10 for ...</td>\n",
       "      <td>NaN</td>\n",
       "      <td>NaN</td>\n",
       "      <td>NaN</td>\n",
       "      <td>https://twitter.com/dog_rates/status/741067306...</td>\n",
       "      <td>12</td>\n",
       "      <td>10</td>\n",
       "      <td>just</td>\n",
       "      <td>doggo</td>\n",
       "      <td>None</td>\n",
       "      <td>pupper</td>\n",
       "      <td>None</td>\n",
       "    </tr>\n",
       "    <tr>\n",
       "      <th>1113</th>\n",
       "      <td>733109485275860992</td>\n",
       "      <td>NaN</td>\n",
       "      <td>NaN</td>\n",
       "      <td>2016-05-19 01:38:16 +0000</td>\n",
       "      <td>&lt;a href=\"http://twitter.com/download/iphone\" r...</td>\n",
       "      <td>Like father (doggo), like son (pupper). Both 1...</td>\n",
       "      <td>NaN</td>\n",
       "      <td>NaN</td>\n",
       "      <td>NaN</td>\n",
       "      <td>https://twitter.com/dog_rates/status/733109485...</td>\n",
       "      <td>12</td>\n",
       "      <td>10</td>\n",
       "      <td>None</td>\n",
       "      <td>doggo</td>\n",
       "      <td>None</td>\n",
       "      <td>pupper</td>\n",
       "      <td>None</td>\n",
       "    </tr>\n",
       "  </tbody>\n",
       "</table>\n",
       "</div>"
      ],
      "text/plain": [
       "                tweet_id  in_reply_to_status_id  in_reply_to_user_id  \\\n",
       "191   855851453814013952                    NaN                  NaN   \n",
       "200   854010172552949760                    NaN                  NaN   \n",
       "460   817777686764523521                    NaN                  NaN   \n",
       "531   808106460588765185                    NaN                  NaN   \n",
       "565   802265048156610565           7.331095e+17         4.196984e+09   \n",
       "575   801115127852503040                    NaN                  NaN   \n",
       "705   785639753186217984                    NaN                  NaN   \n",
       "733   781308096455073793                    NaN                  NaN   \n",
       "778   775898661951791106                    NaN                  NaN   \n",
       "822   770093767776997377                    NaN                  NaN   \n",
       "889   759793422261743616                    NaN                  NaN   \n",
       "956   751583847268179968                    NaN                  NaN   \n",
       "1063  741067306818797568                    NaN                  NaN   \n",
       "1113  733109485275860992                    NaN                  NaN   \n",
       "\n",
       "                      timestamp  \\\n",
       "191   2017-04-22 18:31:02 +0000   \n",
       "200   2017-04-17 16:34:26 +0000   \n",
       "460   2017-01-07 16:59:28 +0000   \n",
       "531   2016-12-12 00:29:28 +0000   \n",
       "565   2016-11-25 21:37:47 +0000   \n",
       "575   2016-11-22 17:28:25 +0000   \n",
       "705   2016-10-11 00:34:48 +0000   \n",
       "733   2016-09-29 01:42:20 +0000   \n",
       "778   2016-09-14 03:27:11 +0000   \n",
       "822   2016-08-29 03:00:36 +0000   \n",
       "889   2016-07-31 16:50:42 +0000   \n",
       "956   2016-07-09 01:08:47 +0000   \n",
       "1063  2016-06-10 00:39:48 +0000   \n",
       "1113  2016-05-19 01:38:16 +0000   \n",
       "\n",
       "                                                 source  \\\n",
       "191   <a href=\"http://twitter.com/download/iphone\" r...   \n",
       "200   <a href=\"http://twitter.com/download/iphone\" r...   \n",
       "460   <a href=\"http://twitter.com/download/iphone\" r...   \n",
       "531   <a href=\"http://twitter.com/download/iphone\" r...   \n",
       "565   <a href=\"http://twitter.com/download/iphone\" r...   \n",
       "575   <a href=\"http://twitter.com/download/iphone\" r...   \n",
       "705   <a href=\"http://twitter.com/download/iphone\" r...   \n",
       "733   <a href=\"http://vine.co\" rel=\"nofollow\">Vine -...   \n",
       "778   <a href=\"http://twitter.com/download/iphone\" r...   \n",
       "822   <a href=\"http://twitter.com/download/iphone\" r...   \n",
       "889   <a href=\"http://twitter.com/download/iphone\" r...   \n",
       "956   <a href=\"http://twitter.com/download/iphone\" r...   \n",
       "1063  <a href=\"http://twitter.com/download/iphone\" r...   \n",
       "1113  <a href=\"http://twitter.com/download/iphone\" r...   \n",
       "\n",
       "                                                   text  retweeted_status_id  \\\n",
       "191   Here's a puppo participating in the #ScienceMa...                  NaN   \n",
       "200   At first I thought this was a shy doggo, but i...                  NaN   \n",
       "460   This is Dido. She's playing the lead role in \"...                  NaN   \n",
       "531   Here we have Burke (pupper) and Dexter (doggo)...                  NaN   \n",
       "565   Like doggo, like pupper version 2. Both 11/10 ...                  NaN   \n",
       "575   This is Bones. He's being haunted by another d...                  NaN   \n",
       "705   This is Pinot. He's a sophisticated doggo. You...                  NaN   \n",
       "733   Pupper butt 1, Doggo 0. Both 12/10 https://t.c...                  NaN   \n",
       "778   RT @dog_rates: Like father (doggo), like son (...         7.331095e+17   \n",
       "822   RT @dog_rates: This is just downright precious...         7.410673e+17   \n",
       "889   Meet Maggie &amp; Lila. Maggie is the doggo, L...                  NaN   \n",
       "956   Please stop sending it pictures that don't eve...                  NaN   \n",
       "1063  This is just downright precious af. 12/10 for ...                  NaN   \n",
       "1113  Like father (doggo), like son (pupper). Both 1...                  NaN   \n",
       "\n",
       "      retweeted_status_user_id retweeted_status_timestamp  \\\n",
       "191                        NaN                        NaN   \n",
       "200                        NaN                        NaN   \n",
       "460                        NaN                        NaN   \n",
       "531                        NaN                        NaN   \n",
       "565                        NaN                        NaN   \n",
       "575                        NaN                        NaN   \n",
       "705                        NaN                        NaN   \n",
       "733                        NaN                        NaN   \n",
       "778               4.196984e+09  2016-05-19 01:38:16 +0000   \n",
       "822               4.196984e+09  2016-06-10 00:39:48 +0000   \n",
       "889                        NaN                        NaN   \n",
       "956                        NaN                        NaN   \n",
       "1063                       NaN                        NaN   \n",
       "1113                       NaN                        NaN   \n",
       "\n",
       "                                          expanded_urls  rating_numerator  \\\n",
       "191   https://twitter.com/dog_rates/status/855851453...                13   \n",
       "200   https://twitter.com/dog_rates/status/854010172...                11   \n",
       "460   https://twitter.com/dog_rates/status/817777686...                13   \n",
       "531   https://twitter.com/dog_rates/status/808106460...                12   \n",
       "565   https://twitter.com/dog_rates/status/802265048...                11   \n",
       "575   https://twitter.com/dog_rates/status/801115127...                12   \n",
       "705   https://twitter.com/dog_rates/status/785639753...                10   \n",
       "733                       https://vine.co/v/5rgu2Law2ut                12   \n",
       "778   https://twitter.com/dog_rates/status/733109485...                12   \n",
       "822   https://twitter.com/dog_rates/status/741067306...                12   \n",
       "889   https://twitter.com/dog_rates/status/759793422...                12   \n",
       "956   https://twitter.com/dog_rates/status/751583847...                 5   \n",
       "1063  https://twitter.com/dog_rates/status/741067306...                12   \n",
       "1113  https://twitter.com/dog_rates/status/733109485...                12   \n",
       "\n",
       "      rating_denominator    name  doggo  floofer  pupper  puppo  \n",
       "191                   10    None  doggo     None    None  puppo  \n",
       "200                   10    None  doggo  floofer    None   None  \n",
       "460                   10    Dido  doggo     None  pupper   None  \n",
       "531                   10    None  doggo     None  pupper   None  \n",
       "565                   10    None  doggo     None  pupper   None  \n",
       "575                   10   Bones  doggo     None  pupper   None  \n",
       "705                   10   Pinot  doggo     None  pupper   None  \n",
       "733                   10    None  doggo     None  pupper   None  \n",
       "778                   10    None  doggo     None  pupper   None  \n",
       "822                   10    just  doggo     None  pupper   None  \n",
       "889                   10  Maggie  doggo     None  pupper   None  \n",
       "956                   10    None  doggo     None  pupper   None  \n",
       "1063                  10    just  doggo     None  pupper   None  \n",
       "1113                  10    None  doggo     None  pupper   None  "
      ]
     },
     "execution_count": 26,
     "metadata": {},
     "output_type": "execute_result"
    }
   ],
   "source": [
    "#filter out doubdful data about dog maturity state\n",
    "#dog / tweet id can only be associated with one category, not multiple, \n",
    "#but there is a few cases were there is some who have multiple categories like I mentioned.\n",
    "archive.loc[(archive[['doggo', 'floofer', 'pupper', 'puppo']] != 'None').sum(axis=1) > 1]"
   ]
  },
  {
   "cell_type": "code",
   "execution_count": 27,
   "metadata": {},
   "outputs": [
    {
     "data": {
      "text/html": [
       "<div>\n",
       "<style scoped>\n",
       "    .dataframe tbody tr th:only-of-type {\n",
       "        vertical-align: middle;\n",
       "    }\n",
       "\n",
       "    .dataframe tbody tr th {\n",
       "        vertical-align: top;\n",
       "    }\n",
       "\n",
       "    .dataframe thead th {\n",
       "        text-align: right;\n",
       "    }\n",
       "</style>\n",
       "<table border=\"1\" class=\"dataframe\">\n",
       "  <thead>\n",
       "    <tr style=\"text-align: right;\">\n",
       "      <th></th>\n",
       "      <th>tweet_id</th>\n",
       "      <th>jpg_url</th>\n",
       "      <th>img_num</th>\n",
       "      <th>p1</th>\n",
       "      <th>p1_conf</th>\n",
       "      <th>p1_dog</th>\n",
       "      <th>p2</th>\n",
       "      <th>p2_conf</th>\n",
       "      <th>p2_dog</th>\n",
       "      <th>p3</th>\n",
       "      <th>p3_conf</th>\n",
       "      <th>p3_dog</th>\n",
       "    </tr>\n",
       "  </thead>\n",
       "  <tbody>\n",
       "    <tr>\n",
       "      <th>0</th>\n",
       "      <td>666020888022790149</td>\n",
       "      <td>https://pbs.twimg.com/media/CT4udn0WwAA0aMy.jpg</td>\n",
       "      <td>1</td>\n",
       "      <td>Welsh_springer_spaniel</td>\n",
       "      <td>0.465074</td>\n",
       "      <td>True</td>\n",
       "      <td>collie</td>\n",
       "      <td>0.156665</td>\n",
       "      <td>True</td>\n",
       "      <td>Shetland_sheepdog</td>\n",
       "      <td>0.061428</td>\n",
       "      <td>True</td>\n",
       "    </tr>\n",
       "    <tr>\n",
       "      <th>1</th>\n",
       "      <td>666029285002620928</td>\n",
       "      <td>https://pbs.twimg.com/media/CT42GRgUYAA5iDo.jpg</td>\n",
       "      <td>1</td>\n",
       "      <td>redbone</td>\n",
       "      <td>0.506826</td>\n",
       "      <td>True</td>\n",
       "      <td>miniature_pinscher</td>\n",
       "      <td>0.074192</td>\n",
       "      <td>True</td>\n",
       "      <td>Rhodesian_ridgeback</td>\n",
       "      <td>0.072010</td>\n",
       "      <td>True</td>\n",
       "    </tr>\n",
       "    <tr>\n",
       "      <th>2</th>\n",
       "      <td>666033412701032449</td>\n",
       "      <td>https://pbs.twimg.com/media/CT4521TWwAEvMyu.jpg</td>\n",
       "      <td>1</td>\n",
       "      <td>German_shepherd</td>\n",
       "      <td>0.596461</td>\n",
       "      <td>True</td>\n",
       "      <td>malinois</td>\n",
       "      <td>0.138584</td>\n",
       "      <td>True</td>\n",
       "      <td>bloodhound</td>\n",
       "      <td>0.116197</td>\n",
       "      <td>True</td>\n",
       "    </tr>\n",
       "    <tr>\n",
       "      <th>3</th>\n",
       "      <td>666044226329800704</td>\n",
       "      <td>https://pbs.twimg.com/media/CT5Dr8HUEAA-lEu.jpg</td>\n",
       "      <td>1</td>\n",
       "      <td>Rhodesian_ridgeback</td>\n",
       "      <td>0.408143</td>\n",
       "      <td>True</td>\n",
       "      <td>redbone</td>\n",
       "      <td>0.360687</td>\n",
       "      <td>True</td>\n",
       "      <td>miniature_pinscher</td>\n",
       "      <td>0.222752</td>\n",
       "      <td>True</td>\n",
       "    </tr>\n",
       "    <tr>\n",
       "      <th>4</th>\n",
       "      <td>666049248165822465</td>\n",
       "      <td>https://pbs.twimg.com/media/CT5IQmsXIAAKY4A.jpg</td>\n",
       "      <td>1</td>\n",
       "      <td>miniature_pinscher</td>\n",
       "      <td>0.560311</td>\n",
       "      <td>True</td>\n",
       "      <td>Rottweiler</td>\n",
       "      <td>0.243682</td>\n",
       "      <td>True</td>\n",
       "      <td>Doberman</td>\n",
       "      <td>0.154629</td>\n",
       "      <td>True</td>\n",
       "    </tr>\n",
       "  </tbody>\n",
       "</table>\n",
       "</div>"
      ],
      "text/plain": [
       "             tweet_id                                          jpg_url  \\\n",
       "0  666020888022790149  https://pbs.twimg.com/media/CT4udn0WwAA0aMy.jpg   \n",
       "1  666029285002620928  https://pbs.twimg.com/media/CT42GRgUYAA5iDo.jpg   \n",
       "2  666033412701032449  https://pbs.twimg.com/media/CT4521TWwAEvMyu.jpg   \n",
       "3  666044226329800704  https://pbs.twimg.com/media/CT5Dr8HUEAA-lEu.jpg   \n",
       "4  666049248165822465  https://pbs.twimg.com/media/CT5IQmsXIAAKY4A.jpg   \n",
       "\n",
       "   img_num                      p1   p1_conf  p1_dog                  p2  \\\n",
       "0        1  Welsh_springer_spaniel  0.465074    True              collie   \n",
       "1        1                 redbone  0.506826    True  miniature_pinscher   \n",
       "2        1         German_shepherd  0.596461    True            malinois   \n",
       "3        1     Rhodesian_ridgeback  0.408143    True             redbone   \n",
       "4        1      miniature_pinscher  0.560311    True          Rottweiler   \n",
       "\n",
       "    p2_conf  p2_dog                   p3   p3_conf  p3_dog  \n",
       "0  0.156665    True    Shetland_sheepdog  0.061428    True  \n",
       "1  0.074192    True  Rhodesian_ridgeback  0.072010    True  \n",
       "2  0.138584    True           bloodhound  0.116197    True  \n",
       "3  0.360687    True   miniature_pinscher  0.222752    True  \n",
       "4  0.243682    True             Doberman  0.154629    True  "
      ]
     },
     "execution_count": 27,
     "metadata": {},
     "output_type": "execute_result"
    }
   ],
   "source": [
    "image_predictions.head()"
   ]
  },
  {
   "cell_type": "code",
   "execution_count": 28,
   "metadata": {},
   "outputs": [
    {
     "data": {
      "text/html": [
       "<div>\n",
       "<style scoped>\n",
       "    .dataframe tbody tr th:only-of-type {\n",
       "        vertical-align: middle;\n",
       "    }\n",
       "\n",
       "    .dataframe tbody tr th {\n",
       "        vertical-align: top;\n",
       "    }\n",
       "\n",
       "    .dataframe thead th {\n",
       "        text-align: right;\n",
       "    }\n",
       "</style>\n",
       "<table border=\"1\" class=\"dataframe\">\n",
       "  <thead>\n",
       "    <tr style=\"text-align: right;\">\n",
       "      <th></th>\n",
       "      <th>tweet_id</th>\n",
       "      <th>jpg_url</th>\n",
       "      <th>img_num</th>\n",
       "      <th>p1</th>\n",
       "      <th>p1_conf</th>\n",
       "      <th>p1_dog</th>\n",
       "      <th>p2</th>\n",
       "      <th>p2_conf</th>\n",
       "      <th>p2_dog</th>\n",
       "      <th>p3</th>\n",
       "      <th>p3_conf</th>\n",
       "      <th>p3_dog</th>\n",
       "    </tr>\n",
       "  </thead>\n",
       "  <tbody>\n",
       "    <tr>\n",
       "      <th>1758</th>\n",
       "      <td>825535076884762624</td>\n",
       "      <td>https://pbs.twimg.com/media/C3TjvitXAAAI-QH.jpg</td>\n",
       "      <td>1</td>\n",
       "      <td>Rottweiler</td>\n",
       "      <td>0.681495</td>\n",
       "      <td>True</td>\n",
       "      <td>Tibetan_mastiff</td>\n",
       "      <td>0.147940</td>\n",
       "      <td>True</td>\n",
       "      <td>black-and-tan_coonhound</td>\n",
       "      <td>0.024525</td>\n",
       "      <td>True</td>\n",
       "    </tr>\n",
       "    <tr>\n",
       "      <th>1791</th>\n",
       "      <td>830583320585068544</td>\n",
       "      <td>https://pbs.twimg.com/media/C4bTH6nWMAAX_bJ.jpg</td>\n",
       "      <td>1</td>\n",
       "      <td>Labrador_retriever</td>\n",
       "      <td>0.908703</td>\n",
       "      <td>True</td>\n",
       "      <td>seat_belt</td>\n",
       "      <td>0.057091</td>\n",
       "      <td>False</td>\n",
       "      <td>pug</td>\n",
       "      <td>0.011933</td>\n",
       "      <td>True</td>\n",
       "    </tr>\n",
       "    <tr>\n",
       "      <th>110</th>\n",
       "      <td>667886921285246976</td>\n",
       "      <td>https://pbs.twimg.com/media/CUTPnPCW4AI7R0y.jpg</td>\n",
       "      <td>1</td>\n",
       "      <td>Pomeranian</td>\n",
       "      <td>0.800432</td>\n",
       "      <td>True</td>\n",
       "      <td>Pekinese</td>\n",
       "      <td>0.168445</td>\n",
       "      <td>True</td>\n",
       "      <td>Chihuahua</td>\n",
       "      <td>0.008950</td>\n",
       "      <td>True</td>\n",
       "    </tr>\n",
       "  </tbody>\n",
       "</table>\n",
       "</div>"
      ],
      "text/plain": [
       "                tweet_id                                          jpg_url  \\\n",
       "1758  825535076884762624  https://pbs.twimg.com/media/C3TjvitXAAAI-QH.jpg   \n",
       "1791  830583320585068544  https://pbs.twimg.com/media/C4bTH6nWMAAX_bJ.jpg   \n",
       "110   667886921285246976  https://pbs.twimg.com/media/CUTPnPCW4AI7R0y.jpg   \n",
       "\n",
       "      img_num                  p1   p1_conf  p1_dog               p2  \\\n",
       "1758        1          Rottweiler  0.681495    True  Tibetan_mastiff   \n",
       "1791        1  Labrador_retriever  0.908703    True        seat_belt   \n",
       "110         1          Pomeranian  0.800432    True         Pekinese   \n",
       "\n",
       "       p2_conf  p2_dog                       p3   p3_conf  p3_dog  \n",
       "1758  0.147940    True  black-and-tan_coonhound  0.024525    True  \n",
       "1791  0.057091   False                      pug  0.011933    True  \n",
       "110   0.168445    True                Chihuahua  0.008950    True  "
      ]
     },
     "execution_count": 28,
     "metadata": {},
     "output_type": "execute_result"
    }
   ],
   "source": [
    "image_predictions.sample(3)"
   ]
  },
  {
   "cell_type": "code",
   "execution_count": 29,
   "metadata": {},
   "outputs": [
    {
     "name": "stdout",
     "output_type": "stream",
     "text": [
      "<class 'pandas.core.frame.DataFrame'>\n",
      "RangeIndex: 2075 entries, 0 to 2074\n",
      "Data columns (total 12 columns):\n",
      " #   Column    Non-Null Count  Dtype  \n",
      "---  ------    --------------  -----  \n",
      " 0   tweet_id  2075 non-null   int64  \n",
      " 1   jpg_url   2075 non-null   object \n",
      " 2   img_num   2075 non-null   int64  \n",
      " 3   p1        2075 non-null   object \n",
      " 4   p1_conf   2075 non-null   float64\n",
      " 5   p1_dog    2075 non-null   bool   \n",
      " 6   p2        2075 non-null   object \n",
      " 7   p2_conf   2075 non-null   float64\n",
      " 8   p2_dog    2075 non-null   bool   \n",
      " 9   p3        2075 non-null   object \n",
      " 10  p3_conf   2075 non-null   float64\n",
      " 11  p3_dog    2075 non-null   bool   \n",
      "dtypes: bool(3), float64(3), int64(2), object(4)\n",
      "memory usage: 152.1+ KB\n"
     ]
    }
   ],
   "source": [
    "image_predictions.info()"
   ]
  },
  {
   "cell_type": "code",
   "execution_count": 30,
   "metadata": {},
   "outputs": [
    {
     "data": {
      "text/plain": [
       "tweet_id    False\n",
       "jpg_url      True\n",
       "img_num     False\n",
       "p1           True\n",
       "p1_conf     False\n",
       "p1_dog      False\n",
       "p2           True\n",
       "p2_conf     False\n",
       "p2_dog      False\n",
       "p3           True\n",
       "p3_conf     False\n",
       "p3_dog      False\n",
       "dtype: bool"
      ]
     },
     "execution_count": 30,
     "metadata": {},
     "output_type": "execute_result"
    }
   ],
   "source": [
    "image_predictions.applymap(type).eq(str).all()"
   ]
  },
  {
   "cell_type": "code",
   "execution_count": 31,
   "metadata": {},
   "outputs": [
    {
     "data": {
      "text/html": [
       "<div>\n",
       "<style scoped>\n",
       "    .dataframe tbody tr th:only-of-type {\n",
       "        vertical-align: middle;\n",
       "    }\n",
       "\n",
       "    .dataframe tbody tr th {\n",
       "        vertical-align: top;\n",
       "    }\n",
       "\n",
       "    .dataframe thead th {\n",
       "        text-align: right;\n",
       "    }\n",
       "</style>\n",
       "<table border=\"1\" class=\"dataframe\">\n",
       "  <thead>\n",
       "    <tr style=\"text-align: right;\">\n",
       "      <th></th>\n",
       "      <th>tweet_id</th>\n",
       "      <th>img_num</th>\n",
       "      <th>p1_conf</th>\n",
       "      <th>p2_conf</th>\n",
       "      <th>p3_conf</th>\n",
       "    </tr>\n",
       "  </thead>\n",
       "  <tbody>\n",
       "    <tr>\n",
       "      <th>count</th>\n",
       "      <td>2.075000e+03</td>\n",
       "      <td>2075.000000</td>\n",
       "      <td>2075.000000</td>\n",
       "      <td>2.075000e+03</td>\n",
       "      <td>2.075000e+03</td>\n",
       "    </tr>\n",
       "    <tr>\n",
       "      <th>mean</th>\n",
       "      <td>7.384514e+17</td>\n",
       "      <td>1.203855</td>\n",
       "      <td>0.594548</td>\n",
       "      <td>1.345886e-01</td>\n",
       "      <td>6.032417e-02</td>\n",
       "    </tr>\n",
       "    <tr>\n",
       "      <th>std</th>\n",
       "      <td>6.785203e+16</td>\n",
       "      <td>0.561875</td>\n",
       "      <td>0.271174</td>\n",
       "      <td>1.006657e-01</td>\n",
       "      <td>5.090593e-02</td>\n",
       "    </tr>\n",
       "    <tr>\n",
       "      <th>min</th>\n",
       "      <td>6.660209e+17</td>\n",
       "      <td>1.000000</td>\n",
       "      <td>0.044333</td>\n",
       "      <td>1.011300e-08</td>\n",
       "      <td>1.740170e-10</td>\n",
       "    </tr>\n",
       "    <tr>\n",
       "      <th>25%</th>\n",
       "      <td>6.764835e+17</td>\n",
       "      <td>1.000000</td>\n",
       "      <td>0.364412</td>\n",
       "      <td>5.388625e-02</td>\n",
       "      <td>1.622240e-02</td>\n",
       "    </tr>\n",
       "    <tr>\n",
       "      <th>50%</th>\n",
       "      <td>7.119988e+17</td>\n",
       "      <td>1.000000</td>\n",
       "      <td>0.588230</td>\n",
       "      <td>1.181810e-01</td>\n",
       "      <td>4.944380e-02</td>\n",
       "    </tr>\n",
       "    <tr>\n",
       "      <th>75%</th>\n",
       "      <td>7.932034e+17</td>\n",
       "      <td>1.000000</td>\n",
       "      <td>0.843855</td>\n",
       "      <td>1.955655e-01</td>\n",
       "      <td>9.180755e-02</td>\n",
       "    </tr>\n",
       "    <tr>\n",
       "      <th>max</th>\n",
       "      <td>8.924206e+17</td>\n",
       "      <td>4.000000</td>\n",
       "      <td>1.000000</td>\n",
       "      <td>4.880140e-01</td>\n",
       "      <td>2.734190e-01</td>\n",
       "    </tr>\n",
       "  </tbody>\n",
       "</table>\n",
       "</div>"
      ],
      "text/plain": [
       "           tweet_id      img_num      p1_conf       p2_conf       p3_conf\n",
       "count  2.075000e+03  2075.000000  2075.000000  2.075000e+03  2.075000e+03\n",
       "mean   7.384514e+17     1.203855     0.594548  1.345886e-01  6.032417e-02\n",
       "std    6.785203e+16     0.561875     0.271174  1.006657e-01  5.090593e-02\n",
       "min    6.660209e+17     1.000000     0.044333  1.011300e-08  1.740170e-10\n",
       "25%    6.764835e+17     1.000000     0.364412  5.388625e-02  1.622240e-02\n",
       "50%    7.119988e+17     1.000000     0.588230  1.181810e-01  4.944380e-02\n",
       "75%    7.932034e+17     1.000000     0.843855  1.955655e-01  9.180755e-02\n",
       "max    8.924206e+17     4.000000     1.000000  4.880140e-01  2.734190e-01"
      ]
     },
     "execution_count": 31,
     "metadata": {},
     "output_type": "execute_result"
    }
   ],
   "source": [
    "image_predictions.describe()"
   ]
  },
  {
   "cell_type": "code",
   "execution_count": 55,
   "metadata": {},
   "outputs": [
    {
     "data": {
      "image/png": "[encoded data removed]",
      "text/plain": [
       "<Figure size 1152x432 with 1 Axes>"
      ]
     },
     "metadata": {
      "needs_background": "light"
     },
     "output_type": "display_data"
    }
   ],
   "source": [
    "fig = plt.figure(figsize = (16, 6))\n",
    "image_predictions.p1.value_counts().head(30).plot(kind='bar');"
   ]
  },
  {
   "cell_type": "code",
   "execution_count": 32,
   "metadata": {},
   "outputs": [
    {
     "name": "stdout",
     "output_type": "stream",
     "text": [
      "golden_retriever       150\n",
      "Labrador_retriever     100\n",
      "Pembroke                89\n",
      "Chihuahua               83\n",
      "pug                     57\n",
      "                      ... \n",
      "stove                    1\n",
      "Scotch_terrier           1\n",
      "African_hunting_dog      1\n",
      "radio_telescope          1\n",
      "ice_lolly                1\n",
      "Name: p1, Length: 378, dtype: int64\n",
      "-----------\n",
      "count                 2075\n",
      "unique                 378\n",
      "top       golden_retriever\n",
      "freq                   150\n",
      "Name: p1, dtype: object\n"
     ]
    }
   ],
   "source": [
    "# explore the 'p1' variable - that is a string - we use .value_counts() and .describe()\n",
    "print(image_predictions.p1.value_counts())\n",
    "print('-----------')\n",
    "print(image_predictions.p1.describe())"
   ]
  },
  {
   "cell_type": "code",
   "execution_count": 33,
   "metadata": {},
   "outputs": [
    {
     "name": "stdout",
     "output_type": "stream",
     "text": [
      "Labrador_retriever    104\n",
      "golden_retriever       92\n",
      "Cardigan               73\n",
      "Chihuahua              44\n",
      "Pomeranian             42\n",
      "                     ... \n",
      "water_bottle            1\n",
      "tarantula               1\n",
      "dugong                  1\n",
      "bearskin                1\n",
      "hotdog                  1\n",
      "Name: p2, Length: 405, dtype: int64\n",
      "-----------\n",
      "count                   2075\n",
      "unique                   405\n",
      "top       Labrador_retriever\n",
      "freq                     104\n",
      "Name: p2, dtype: object\n"
     ]
    }
   ],
   "source": [
    "# explore the 'p2' variable - that is a string - we use .value_counts() and .describe()\n",
    "print(image_predictions.p2.value_counts())\n",
    "print('-----------')\n",
    "print(image_predictions.p2.describe())"
   ]
  },
  {
   "cell_type": "code",
   "execution_count": 34,
   "metadata": {},
   "outputs": [
    {
     "name": "stdout",
     "output_type": "stream",
     "text": [
      "Labrador_retriever    79\n",
      "Chihuahua             58\n",
      "golden_retriever      48\n",
      "Eskimo_dog            38\n",
      "kelpie                35\n",
      "                      ..\n",
      "acorn                  1\n",
      "dugong                 1\n",
      "boathouse              1\n",
      "hand-held_computer     1\n",
      "mongoose               1\n",
      "Name: p3, Length: 408, dtype: int64\n",
      "-----------\n",
      "count                   2075\n",
      "unique                   408\n",
      "top       Labrador_retriever\n",
      "freq                      79\n",
      "Name: p3, dtype: object\n"
     ]
    }
   ],
   "source": [
    "# explore the 'p3' variable - that is a string - we use .value_counts() and .describe()\n",
    "print(image_predictions.p3.value_counts())\n",
    "print('-----------')\n",
    "print(image_predictions.p3.describe())"
   ]
  },
  {
   "cell_type": "code",
   "execution_count": 35,
   "metadata": {},
   "outputs": [
    {
     "data": {
      "text/html": [
       "<div>\n",
       "<style scoped>\n",
       "    .dataframe tbody tr th:only-of-type {\n",
       "        vertical-align: middle;\n",
       "    }\n",
       "\n",
       "    .dataframe tbody tr th {\n",
       "        vertical-align: top;\n",
       "    }\n",
       "\n",
       "    .dataframe thead th {\n",
       "        text-align: right;\n",
       "    }\n",
       "</style>\n",
       "<table border=\"1\" class=\"dataframe\">\n",
       "  <thead>\n",
       "    <tr style=\"text-align: right;\">\n",
       "      <th></th>\n",
       "      <th></th>\n",
       "      <th></th>\n",
       "      <th>tweet_id</th>\n",
       "      <th>img_num</th>\n",
       "      <th>p1_conf</th>\n",
       "      <th>p1_dog</th>\n",
       "      <th>p2_conf</th>\n",
       "      <th>p2_dog</th>\n",
       "      <th>p3_conf</th>\n",
       "      <th>p3_dog</th>\n",
       "    </tr>\n",
       "    <tr>\n",
       "      <th>p1</th>\n",
       "      <th>p2</th>\n",
       "      <th>p3</th>\n",
       "      <th></th>\n",
       "      <th></th>\n",
       "      <th></th>\n",
       "      <th></th>\n",
       "      <th></th>\n",
       "      <th></th>\n",
       "      <th></th>\n",
       "      <th></th>\n",
       "    </tr>\n",
       "  </thead>\n",
       "  <tbody>\n",
       "    <tr>\n",
       "      <th rowspan=\"3\" valign=\"top\">Afghan_hound</th>\n",
       "      <th>Saluki</th>\n",
       "      <th>bloodhound</th>\n",
       "      <td>8.413147e+17</td>\n",
       "      <td>1.0</td>\n",
       "      <td>0.903712</td>\n",
       "      <td>True</td>\n",
       "      <td>0.035215</td>\n",
       "      <td>True</td>\n",
       "      <td>0.026565</td>\n",
       "      <td>True</td>\n",
       "    </tr>\n",
       "    <tr>\n",
       "      <th>basset</th>\n",
       "      <th>Siberian_husky</th>\n",
       "      <td>7.778850e+17</td>\n",
       "      <td>1.0</td>\n",
       "      <td>0.123529</td>\n",
       "      <td>True</td>\n",
       "      <td>0.119682</td>\n",
       "      <td>True</td>\n",
       "      <td>0.108709</td>\n",
       "      <td>True</td>\n",
       "    </tr>\n",
       "    <tr>\n",
       "      <th>borzoi</th>\n",
       "      <th>doormat</th>\n",
       "      <td>8.127511e+17</td>\n",
       "      <td>1.0</td>\n",
       "      <td>0.274637</td>\n",
       "      <td>True</td>\n",
       "      <td>0.142204</td>\n",
       "      <td>True</td>\n",
       "      <td>0.109677</td>\n",
       "      <td>False</td>\n",
       "    </tr>\n",
       "    <tr>\n",
       "      <th>African_crocodile</th>\n",
       "      <th>American_alligator</th>\n",
       "      <th>mink</th>\n",
       "      <td>6.746648e+17</td>\n",
       "      <td>1.0</td>\n",
       "      <td>0.330625</td>\n",
       "      <td>False</td>\n",
       "      <td>0.075356</td>\n",
       "      <td>False</td>\n",
       "      <td>0.057481</td>\n",
       "      <td>False</td>\n",
       "    </tr>\n",
       "    <tr>\n",
       "      <th>African_grey</th>\n",
       "      <th>Madagascar_cat</th>\n",
       "      <th>television</th>\n",
       "      <td>7.623165e+17</td>\n",
       "      <td>1.0</td>\n",
       "      <td>0.270468</td>\n",
       "      <td>False</td>\n",
       "      <td>0.076187</td>\n",
       "      <td>False</td>\n",
       "      <td>0.033306</td>\n",
       "      <td>False</td>\n",
       "    </tr>\n",
       "    <tr>\n",
       "      <th>...</th>\n",
       "      <th>...</th>\n",
       "      <th>...</th>\n",
       "      <td>...</td>\n",
       "      <td>...</td>\n",
       "      <td>...</td>\n",
       "      <td>...</td>\n",
       "      <td>...</td>\n",
       "      <td>...</td>\n",
       "      <td>...</td>\n",
       "      <td>...</td>\n",
       "    </tr>\n",
       "    <tr>\n",
       "      <th>wood_rabbit</th>\n",
       "      <th>tabby</th>\n",
       "      <th>Egyptian_cat</th>\n",
       "      <td>6.707277e+17</td>\n",
       "      <td>1.0</td>\n",
       "      <td>0.368562</td>\n",
       "      <td>False</td>\n",
       "      <td>0.309675</td>\n",
       "      <td>False</td>\n",
       "      <td>0.154914</td>\n",
       "      <td>False</td>\n",
       "    </tr>\n",
       "    <tr>\n",
       "      <th>wooden_spoon</th>\n",
       "      <th>sliding_door</th>\n",
       "      <th>grand_piano</th>\n",
       "      <td>8.363805e+17</td>\n",
       "      <td>1.0</td>\n",
       "      <td>0.082489</td>\n",
       "      <td>False</td>\n",
       "      <td>0.061017</td>\n",
       "      <td>False</td>\n",
       "      <td>0.055086</td>\n",
       "      <td>False</td>\n",
       "    </tr>\n",
       "    <tr>\n",
       "      <th rowspan=\"2\" valign=\"top\">wool</th>\n",
       "      <th>fur_coat</th>\n",
       "      <th>kuvasz</th>\n",
       "      <td>7.032685e+17</td>\n",
       "      <td>1.0</td>\n",
       "      <td>0.525434</td>\n",
       "      <td>False</td>\n",
       "      <td>0.236391</td>\n",
       "      <td>False</td>\n",
       "      <td>0.038243</td>\n",
       "      <td>True</td>\n",
       "    </tr>\n",
       "    <tr>\n",
       "      <th>siamang</th>\n",
       "      <th>gorilla</th>\n",
       "      <td>6.704742e+17</td>\n",
       "      <td>1.0</td>\n",
       "      <td>0.070076</td>\n",
       "      <td>False</td>\n",
       "      <td>0.062536</td>\n",
       "      <td>False</td>\n",
       "      <td>0.058894</td>\n",
       "      <td>False</td>\n",
       "    </tr>\n",
       "    <tr>\n",
       "      <th>zebra</th>\n",
       "      <th>tiger</th>\n",
       "      <th>prairie_chicken</th>\n",
       "      <td>6.713902e+17</td>\n",
       "      <td>1.0</td>\n",
       "      <td>0.997673</td>\n",
       "      <td>False</td>\n",
       "      <td>0.000837</td>\n",
       "      <td>False</td>\n",
       "      <td>0.000575</td>\n",
       "      <td>False</td>\n",
       "    </tr>\n",
       "  </tbody>\n",
       "</table>\n",
       "<p>1742 rows × 8 columns</p>\n",
       "</div>"
      ],
      "text/plain": [
       "                                                          tweet_id  img_num  \\\n",
       "p1                p2                 p3                                       \n",
       "Afghan_hound      Saluki             bloodhound       8.413147e+17      1.0   \n",
       "                  basset             Siberian_husky   7.778850e+17      1.0   \n",
       "                  borzoi             doormat          8.127511e+17      1.0   \n",
       "African_crocodile American_alligator mink             6.746648e+17      1.0   \n",
       "African_grey      Madagascar_cat     television       7.623165e+17      1.0   \n",
       "...                                                            ...      ...   \n",
       "wood_rabbit       tabby              Egyptian_cat     6.707277e+17      1.0   \n",
       "wooden_spoon      sliding_door       grand_piano      8.363805e+17      1.0   \n",
       "wool              fur_coat           kuvasz           7.032685e+17      1.0   \n",
       "                  siamang            gorilla          6.704742e+17      1.0   \n",
       "zebra             tiger              prairie_chicken  6.713902e+17      1.0   \n",
       "\n",
       "                                                       p1_conf  p1_dog  \\\n",
       "p1                p2                 p3                                  \n",
       "Afghan_hound      Saluki             bloodhound       0.903712    True   \n",
       "                  basset             Siberian_husky   0.123529    True   \n",
       "                  borzoi             doormat          0.274637    True   \n",
       "African_crocodile American_alligator mink             0.330625   False   \n",
       "African_grey      Madagascar_cat     television       0.270468   False   \n",
       "...                                                        ...     ...   \n",
       "wood_rabbit       tabby              Egyptian_cat     0.368562   False   \n",
       "wooden_spoon      sliding_door       grand_piano      0.082489   False   \n",
       "wool              fur_coat           kuvasz           0.525434   False   \n",
       "                  siamang            gorilla          0.070076   False   \n",
       "zebra             tiger              prairie_chicken  0.997673   False   \n",
       "\n",
       "                                                       p2_conf  p2_dog  \\\n",
       "p1                p2                 p3                                  \n",
       "Afghan_hound      Saluki             bloodhound       0.035215    True   \n",
       "                  basset             Siberian_husky   0.119682    True   \n",
       "                  borzoi             doormat          0.142204    True   \n",
       "African_crocodile American_alligator mink             0.075356   False   \n",
       "African_grey      Madagascar_cat     television       0.076187   False   \n",
       "...                                                        ...     ...   \n",
       "wood_rabbit       tabby              Egyptian_cat     0.309675   False   \n",
       "wooden_spoon      sliding_door       grand_piano      0.061017   False   \n",
       "wool              fur_coat           kuvasz           0.236391   False   \n",
       "                  siamang            gorilla          0.062536   False   \n",
       "zebra             tiger              prairie_chicken  0.000837   False   \n",
       "\n",
       "                                                       p3_conf  p3_dog  \n",
       "p1                p2                 p3                                 \n",
       "Afghan_hound      Saluki             bloodhound       0.026565    True  \n",
       "                  basset             Siberian_husky   0.108709    True  \n",
       "                  borzoi             doormat          0.109677   False  \n",
       "African_crocodile American_alligator mink             0.057481   False  \n",
       "African_grey      Madagascar_cat     television       0.033306   False  \n",
       "...                                                        ...     ...  \n",
       "wood_rabbit       tabby              Egyptian_cat     0.154914   False  \n",
       "wooden_spoon      sliding_door       grand_piano      0.055086   False  \n",
       "wool              fur_coat           kuvasz           0.038243    True  \n",
       "                  siamang            gorilla          0.058894   False  \n",
       "zebra             tiger              prairie_chicken  0.000575   False  \n",
       "\n",
       "[1742 rows x 8 columns]"
      ]
     },
     "execution_count": 35,
     "metadata": {},
     "output_type": "execute_result"
    }
   ],
   "source": [
    "image_predictions.groupby(['p1','p2','p3']).mean()"
   ]
  },
  {
   "cell_type": "code",
   "execution_count": 6,
   "metadata": {},
   "outputs": [
    {
     "data": {
      "text/plain": [
       "pandas.core.groupby.generic.SeriesGroupBy"
      ]
     },
     "execution_count": 6,
     "metadata": {},
     "output_type": "execute_result"
    }
   ],
   "source": [
    "type(image_predictions.groupby(['p1','p2','p3'])['p1_conf'])"
   ]
  },
  {
   "cell_type": "code",
   "execution_count": 20,
   "metadata": {},
   "outputs": [
    {
     "data": {
      "text/plain": [
       "p1                 p2                  p3                   \n",
       "Afghan_hound       Saluki              bloodhound       1855    0.903712\n",
       "                   basset              Siberian_husky   1458    0.123529\n",
       "                   borzoi              doormat          1561    0.274637\n",
       "                                                        1804    0.274637\n",
       "African_crocodile  American_alligator  mink             446     0.330625\n",
       "                                                                  ...   \n",
       "wood_rabbit        tabby               Egyptian_cat     253     0.368562\n",
       "wooden_spoon       sliding_door        grand_piano      1831    0.082489\n",
       "wool               fur_coat            kuvasz           932     0.525434\n",
       "                   siamang             gorilla          246     0.070076\n",
       "zebra              tiger               prairie_chicken  297     0.997673\n",
       "Name: p1_conf, Length: 2075, dtype: float64"
      ]
     },
     "execution_count": 20,
     "metadata": {},
     "output_type": "execute_result"
    }
   ],
   "source": [
    "image_predictions.groupby(['p1','p2','p3'])['p1_conf'].apply(lambda x: x.sort_values())"
   ]
  },
  {
   "cell_type": "code",
   "execution_count": 36,
   "metadata": {},
   "outputs": [
    {
     "data": {
      "text/html": [
       "<div>\n",
       "<style scoped>\n",
       "    .dataframe tbody tr th:only-of-type {\n",
       "        vertical-align: middle;\n",
       "    }\n",
       "\n",
       "    .dataframe tbody tr th {\n",
       "        vertical-align: top;\n",
       "    }\n",
       "\n",
       "    .dataframe thead th {\n",
       "        text-align: right;\n",
       "    }\n",
       "</style>\n",
       "<table border=\"1\" class=\"dataframe\">\n",
       "  <thead>\n",
       "    <tr style=\"text-align: right;\">\n",
       "      <th></th>\n",
       "      <th>id</th>\n",
       "      <th>retweet_count</th>\n",
       "      <th>favorite_count</th>\n",
       "    </tr>\n",
       "  </thead>\n",
       "  <tbody>\n",
       "    <tr>\n",
       "      <th>0</th>\n",
       "      <td>892420643555336193</td>\n",
       "      <td>8853</td>\n",
       "      <td>39467</td>\n",
       "    </tr>\n",
       "    <tr>\n",
       "      <th>1</th>\n",
       "      <td>892177421306343426</td>\n",
       "      <td>6514</td>\n",
       "      <td>33819</td>\n",
       "    </tr>\n",
       "    <tr>\n",
       "      <th>2</th>\n",
       "      <td>891815181378084864</td>\n",
       "      <td>4328</td>\n",
       "      <td>25461</td>\n",
       "    </tr>\n",
       "    <tr>\n",
       "      <th>3</th>\n",
       "      <td>891689557279858688</td>\n",
       "      <td>8964</td>\n",
       "      <td>42908</td>\n",
       "    </tr>\n",
       "    <tr>\n",
       "      <th>4</th>\n",
       "      <td>891327558926688256</td>\n",
       "      <td>9774</td>\n",
       "      <td>41048</td>\n",
       "    </tr>\n",
       "  </tbody>\n",
       "</table>\n",
       "</div>"
      ],
      "text/plain": [
       "                   id  retweet_count  favorite_count\n",
       "0  892420643555336193           8853           39467\n",
       "1  892177421306343426           6514           33819\n",
       "2  891815181378084864           4328           25461\n",
       "3  891689557279858688           8964           42908\n",
       "4  891327558926688256           9774           41048"
      ]
     },
     "execution_count": 36,
     "metadata": {},
     "output_type": "execute_result"
    }
   ],
   "source": [
    "tweet_original.head()"
   ]
  },
  {
   "cell_type": "code",
   "execution_count": 37,
   "metadata": {},
   "outputs": [
    {
     "data": {
      "text/html": [
       "<div>\n",
       "<style scoped>\n",
       "    .dataframe tbody tr th:only-of-type {\n",
       "        vertical-align: middle;\n",
       "    }\n",
       "\n",
       "    .dataframe tbody tr th {\n",
       "        vertical-align: top;\n",
       "    }\n",
       "\n",
       "    .dataframe thead th {\n",
       "        text-align: right;\n",
       "    }\n",
       "</style>\n",
       "<table border=\"1\" class=\"dataframe\">\n",
       "  <thead>\n",
       "    <tr style=\"text-align: right;\">\n",
       "      <th></th>\n",
       "      <th>id</th>\n",
       "      <th>retweet_count</th>\n",
       "      <th>favorite_count</th>\n",
       "    </tr>\n",
       "  </thead>\n",
       "  <tbody>\n",
       "    <tr>\n",
       "      <th>15</th>\n",
       "      <td>889278841981685760</td>\n",
       "      <td>5637</td>\n",
       "      <td>25652</td>\n",
       "    </tr>\n",
       "    <tr>\n",
       "      <th>172</th>\n",
       "      <td>858471635011153920</td>\n",
       "      <td>5271</td>\n",
       "      <td>22640</td>\n",
       "    </tr>\n",
       "    <tr>\n",
       "      <th>343</th>\n",
       "      <td>832032802820481025</td>\n",
       "      <td>4746</td>\n",
       "      <td>13887</td>\n",
       "    </tr>\n",
       "  </tbody>\n",
       "</table>\n",
       "</div>"
      ],
      "text/plain": [
       "                     id  retweet_count  favorite_count\n",
       "15   889278841981685760           5637           25652\n",
       "172  858471635011153920           5271           22640\n",
       "343  832032802820481025           4746           13887"
      ]
     },
     "execution_count": 37,
     "metadata": {},
     "output_type": "execute_result"
    }
   ],
   "source": [
    "tweet_original.sample(3)"
   ]
  },
  {
   "cell_type": "code",
   "execution_count": 38,
   "metadata": {},
   "outputs": [
    {
     "name": "stdout",
     "output_type": "stream",
     "text": [
      "<class 'pandas.core.frame.DataFrame'>\n",
      "RangeIndex: 2354 entries, 0 to 2353\n",
      "Data columns (total 3 columns):\n",
      " #   Column          Non-Null Count  Dtype\n",
      "---  ------          --------------  -----\n",
      " 0   id              2354 non-null   int64\n",
      " 1   retweet_count   2354 non-null   int64\n",
      " 2   favorite_count  2354 non-null   int64\n",
      "dtypes: int64(3)\n",
      "memory usage: 55.3 KB\n"
     ]
    }
   ],
   "source": [
    "tweet_original.info()"
   ]
  },
  {
   "cell_type": "code",
   "execution_count": 39,
   "metadata": {},
   "outputs": [
    {
     "data": {
      "image/png": "[encoded data removed]",
      "text/plain": [
       "<Figure size 432x288 with 1 Axes>"
      ]
     },
     "metadata": {
      "needs_background": "light"
     },
     "output_type": "display_data"
    }
   ],
   "source": [
    "# explore the 'retweet_count' variable - that is an integer - we use .describe()\n",
    "tweet_original.retweet_count.describe().plot(kind = 'bar');"
   ]
  },
  {
   "cell_type": "code",
   "execution_count": 40,
   "metadata": {},
   "outputs": [
    {
     "data": {
      "image/png": "[encoded data removed]",
      "text/plain": [
       "<Figure size 432x288 with 1 Axes>"
      ]
     },
     "metadata": {
      "needs_background": "light"
     },
     "output_type": "display_data"
    }
   ],
   "source": [
    "# explore the 'favorite_count' variable - that is an integer - we use .describe()\n",
    "tweet_original.favorite_count.describe().plot(kind = 'bar');"
   ]
  },
  {
   "cell_type": "code",
   "execution_count": 41,
   "metadata": {},
   "outputs": [
    {
     "name": "stdout",
     "output_type": "stream",
     "text": [
      "Check duplicates in David's archive: 0\n",
      "Duplicates in image_predictions df: 0\n",
      "Duplicates in tweet_original df: 0\n"
     ]
    }
   ],
   "source": [
    "#Final check on the datasets is the duplicates\n",
    "print(\"Check duplicates in David's archive: {}\".format(archive.duplicated().sum()))\n",
    "print('Duplicates in image_predictions df: {}'.format(image_predictions.duplicated().sum()))\n",
    "print('Duplicates in tweet_original df: {}'.format(tweet_original.duplicated().sum()))"
   ]
  },
  {
   "cell_type": "markdown",
   "metadata": {},
   "source": [
    "#### PART II: Findings\n",
    "\n",
    "##### Quality Issues\n",
    "\n",
    "* Work only with dog records and remove all rows that are not dogs.\n",
    "* Every time a tweet is being retweeted a new tweetID is created. This means that *retweeted_status_id*,    *retweeted_status_user_id* and *retweeted_status_timestamp* carry dupplicated data hence we need to drop these records. *in_reply_to_status_id*, *in_reply_to_user_id* all have a majority of null data, also the source column not needed.\n",
    "* *rating_numerator*, *rating_denominator* have to be further elaborated before analysis. The numerator reaches values as high as 1776 that exceeds maximum value thet is set to be 10. The danominator feature has to be also elaborated as there are attributes that exceed 10 that should be the limit.\n",
    "* The *names* feature holds invalid vaues in some attributes. These velues can be found if we looked up as they start with a lower case letter. These namings should be replaced with a more appropriate description as 'None'.\n",
    "* Tweet Date values in incorrect data format\n",
    "\n",
    "\n",
    "##### Tidiness Issues\n",
    "\n",
    "1. There should be only one dataframe (as stated in the project outline).\n",
    "2. There are multiple dog stages columns should be merged into one column 'stage'."
   ]
  },
  {
   "cell_type": "markdown",
   "metadata": {},
   "source": [
    "# 3. Clean Data\n",
    "\n",
    "This is the place you can touch data. Based on the notes you have taken during the assesment stage before"
   ]
  },
  {
   "cell_type": "markdown",
   "metadata": {},
   "source": [
    "### Shortcut to load data"
   ]
  },
  {
   "cell_type": "code",
   "execution_count": 2,
   "metadata": {},
   "outputs": [],
   "source": [
    "#run this cell to read all our three data sources into three separate dataframes\n",
    "archive = pd.read_csv('twitter-archive-enhanced.csv')\n",
    "image_predictions = pd.read_csv('image_predictions/image-predictions.tsv', sep='\\t')\n",
    "json_data = [json.loads(line) for line in open('tweet-json.txt', 'r')] #this is a list\n",
    "tweet_original = pd.DataFrame(json_data, columns = ['id', 'retweet_count','favorite_count']) #this is a DataFrame"
   ]
  },
  {
   "cell_type": "markdown",
   "metadata": {},
   "source": [
    "### Making a copy\n",
    "The very first thing to do before any cleaning occurs is to make a copy of each piece of data. All of the cleaning operations will be conducted on this copy so you can still view the original dirty and/or messy dataset later."
   ]
  },
  {
   "cell_type": "code",
   "execution_count": 3,
   "metadata": {},
   "outputs": [],
   "source": [
    "archive_clean = archive.copy()\n",
    "image_predictions_clean = image_predictions.copy()\n",
    "tweet_original_clean = tweet_original.copy()"
   ]
  },
  {
   "cell_type": "code",
   "execution_count": 4,
   "metadata": {},
   "outputs": [
    {
     "data": {
      "text/plain": [
       "RangeIndex(start=0, stop=2354, step=1)"
      ]
     },
     "execution_count": 4,
     "metadata": {},
     "output_type": "execute_result"
    }
   ],
   "source": [
    "tweet_original_clean.index"
   ]
  },
  {
   "cell_type": "markdown",
   "metadata": {},
   "source": [
    "### Create a Unique Datarame using two different methods "
   ]
  },
  {
   "cell_type": "code",
   "execution_count": 5,
   "metadata": {},
   "outputs": [
    {
     "name": "stdout",
     "output_type": "stream",
     "text": [
      "<class 'pandas.core.frame.DataFrame'>\n",
      "Int64Index: 2356 entries, 892420643555336193 to 666020888022790149\n",
      "Data columns (total 29 columns):\n",
      " #   Column                      Non-Null Count  Dtype  \n",
      "---  ------                      --------------  -----  \n",
      " 0   in_reply_to_status_id       78 non-null     float64\n",
      " 1   in_reply_to_user_id         78 non-null     float64\n",
      " 2   timestamp                   2356 non-null   object \n",
      " 3   source                      2356 non-null   object \n",
      " 4   text                        2356 non-null   object \n",
      " 5   retweeted_status_id         181 non-null    float64\n",
      " 6   retweeted_status_user_id    181 non-null    float64\n",
      " 7   retweeted_status_timestamp  181 non-null    object \n",
      " 8   expanded_urls               2297 non-null   object \n",
      " 9   rating_numerator            2356 non-null   int64  \n",
      " 10  rating_denominator          2356 non-null   int64  \n",
      " 11  name                        2356 non-null   object \n",
      " 12  doggo                       2356 non-null   object \n",
      " 13  floofer                     2356 non-null   object \n",
      " 14  pupper                      2356 non-null   object \n",
      " 15  puppo                       2356 non-null   object \n",
      " 16  retweet_count               2354 non-null   float64\n",
      " 17  favorite_count              2354 non-null   float64\n",
      " 18  jpg_url                     2075 non-null   object \n",
      " 19  img_num                     2075 non-null   float64\n",
      " 20  p1                          2075 non-null   object \n",
      " 21  p1_conf                     2075 non-null   float64\n",
      " 22  p1_dog                      2075 non-null   object \n",
      " 23  p2                          2075 non-null   object \n",
      " 24  p2_conf                     2075 non-null   float64\n",
      " 25  p2_dog                      2075 non-null   object \n",
      " 26  p3                          2075 non-null   object \n",
      " 27  p3_conf                     2075 non-null   float64\n",
      " 28  p3_dog                      2075 non-null   object \n",
      "dtypes: float64(10), int64(2), object(17)\n",
      "memory usage: 632.2+ KB\n"
     ]
    }
   ],
   "source": [
    "#create unique dataframe using join()\n",
    "#Here we do not have to rename id column name of the \"tweet_original_clean\" dataframe\n",
    "df = archive_clean.set_index('tweet_id').join(tweet_original_clean.set_index('id'), lsuffix='_basic', rsuffix='_extended') \n",
    "df = df.join(image_predictions_clean.set_index('tweet_id'), lsuffix='', rsuffix='_breed') \n",
    "df.info()"
   ]
  },
  {
   "cell_type": "code",
   "execution_count": 6,
   "metadata": {},
   "outputs": [],
   "source": [
    "#rename column name to be able to perform merge function\n",
    "tweet_original_clean.rename(columns = {\"id\": 'tweet_id'}, inplace = True)"
   ]
  },
  {
   "cell_type": "code",
   "execution_count": 7,
   "metadata": {},
   "outputs": [
    {
     "name": "stdout",
     "output_type": "stream",
     "text": [
      "<class 'pandas.core.frame.DataFrame'>\n",
      "Int64Index: 2073 entries, 892420643555336193 to 666020888022790149\n",
      "Data columns (total 29 columns):\n",
      " #   Column                      Non-Null Count  Dtype  \n",
      "---  ------                      --------------  -----  \n",
      " 0   in_reply_to_status_id       23 non-null     float64\n",
      " 1   in_reply_to_user_id         23 non-null     float64\n",
      " 2   timestamp                   2073 non-null   object \n",
      " 3   source                      2073 non-null   object \n",
      " 4   text                        2073 non-null   object \n",
      " 5   retweeted_status_id         79 non-null     float64\n",
      " 6   retweeted_status_user_id    79 non-null     float64\n",
      " 7   retweeted_status_timestamp  79 non-null     object \n",
      " 8   expanded_urls               2073 non-null   object \n",
      " 9   rating_numerator            2073 non-null   int64  \n",
      " 10  rating_denominator          2073 non-null   int64  \n",
      " 11  name                        2073 non-null   object \n",
      " 12  doggo                       2073 non-null   object \n",
      " 13  floofer                     2073 non-null   object \n",
      " 14  pupper                      2073 non-null   object \n",
      " 15  puppo                       2073 non-null   object \n",
      " 16  jpg_url                     2073 non-null   object \n",
      " 17  img_num                     2073 non-null   int64  \n",
      " 18  p1                          2073 non-null   object \n",
      " 19  p1_conf                     2073 non-null   float64\n",
      " 20  p1_dog                      2073 non-null   bool   \n",
      " 21  p2                          2073 non-null   object \n",
      " 22  p2_conf                     2073 non-null   float64\n",
      " 23  p2_dog                      2073 non-null   bool   \n",
      " 24  p3                          2073 non-null   object \n",
      " 25  p3_conf                     2073 non-null   float64\n",
      " 26  p3_dog                      2073 non-null   bool   \n",
      " 27  retweet_count               2073 non-null   int64  \n",
      " 28  favorite_count              2073 non-null   int64  \n",
      "dtypes: bool(3), float64(7), int64(5), object(14)\n",
      "memory usage: 443.3+ KB\n"
     ]
    }
   ],
   "source": [
    "#create unique dataframe using merge(). For merge() function to be succesful we have renamed \"id\" column \n",
    "#of the tweet_original_cean data frame to \"tweet_id\"\n",
    "df_merge = pd.merge(archive_clean, image_predictions_clean, how='inner', on='tweet_id').set_index('tweet_id')\n",
    "df_merge = pd.merge(df_merge, tweet_original_clean, how = 'inner', on='tweet_id' ).set_index('tweet_id')\n",
    "df_merge.info()"
   ]
  },
  {
   "cell_type": "code",
   "execution_count": 8,
   "metadata": {},
   "outputs": [
    {
     "name": "stdout",
     "output_type": "stream",
     "text": [
      "df_merge has 2073 records\n",
      "df has 2356 records\n",
      "df_merge has 79 retweet records\n",
      "df has 181 retweet records\n"
     ]
    }
   ],
   "source": [
    "print('df_merge has {} records'.format(df_merge.shape[0]))\n",
    "print('df has {} records'.format(df.shape[0]))\n",
    "print('df_merge has {} retweet records'.format(df_merge.retweeted_status_id.count()))\n",
    "print('df has {} retweet records'.format(df.retweeted_status_id.count()))"
   ]
  },
  {
   "cell_type": "markdown",
   "metadata": {},
   "source": [
    "### Explore and drop retweet information both rows and columns as it complicates our decisions"
   ]
  },
  {
   "cell_type": "code",
   "execution_count": 9,
   "metadata": {},
   "outputs": [
    {
     "name": "stdout",
     "output_type": "stream",
     "text": [
      "181\n",
      "79\n"
     ]
    }
   ],
   "source": [
    "#explore retweet id's using merge and join functions\n",
    "rt_condition_join = (df.retweeted_status_id.isnull() == False) | (df.retweeted_status_user_id.isnull() == False) | (df.retweeted_status_timestamp.isnull() == False)\n",
    "rt_condition_merge = (df_merge.retweeted_status_id.isnull() == False) | (df_merge.retweeted_status_user_id.isnull() == False) | (df_merge.retweeted_status_timestamp.isnull() == False)\n",
    "print(len(df[rt_condition_join]))\n",
    "print(len(df_merge[rt_condition_merge]))"
   ]
  },
  {
   "cell_type": "code",
   "execution_count": 10,
   "metadata": {},
   "outputs": [
    {
     "data": {
      "text/plain": [
       "102"
      ]
     },
     "execution_count": 10,
     "metadata": {},
     "output_type": "execute_result"
    }
   ],
   "source": [
    "len([rt for rt in df[rt_condition_join].index if rt not in df_merge[rt_condition_merge].index])"
   ]
  },
  {
   "cell_type": "code",
   "execution_count": 11,
   "metadata": {},
   "outputs": [
    {
     "data": {
      "text/plain": [
       "in_reply_to_status_id                                                       NaN\n",
       "in_reply_to_user_id                                                         NaN\n",
       "timestamp                                             2017-07-21 01:02:36 +0000\n",
       "source                        <a href=\"http://twitter.com/download/iphone\" r...\n",
       "text                          RT @dog_rates: This is Canela. She attempted s...\n",
       "retweeted_status_id                                                 8.87474e+17\n",
       "retweeted_status_user_id                                            4.19698e+09\n",
       "retweeted_status_timestamp                            2017-07-19 00:47:34 +0000\n",
       "expanded_urls                 https://twitter.com/dog_rates/status/887473957...\n",
       "rating_numerator                                                             13\n",
       "rating_denominator                                                           10\n",
       "name                                                                     Canela\n",
       "doggo                                                                      None\n",
       "floofer                                                                    None\n",
       "pupper                                                                     None\n",
       "puppo                                                                      None\n",
       "retweet_count                                                               NaN\n",
       "favorite_count                                                              NaN\n",
       "jpg_url                         https://pbs.twimg.com/media/DFDw2tyUQAAAFke.jpg\n",
       "img_num                                                                       2\n",
       "p1                                                                     Pembroke\n",
       "p1_conf                                                                0.809197\n",
       "p1_dog                                                                     True\n",
       "p2                                                          Rhodesian_ridgeback\n",
       "p2_conf                                                                 0.05495\n",
       "p2_dog                                                                     True\n",
       "p3                                                                       beagle\n",
       "p3_conf                                                               0.0389148\n",
       "p3_dog                                                                     True\n",
       "Name: 888202515573088257, dtype: object"
      ]
     },
     "execution_count": 11,
     "metadata": {},
     "output_type": "execute_result"
    }
   ],
   "source": [
    "#Let's check out just one of them to see waht it looks like\n",
    "df.loc[888202515573088257]"
   ]
  },
  {
   "cell_type": "code",
   "execution_count": 12,
   "metadata": {},
   "outputs": [],
   "source": [
    "#which are the retweets that exist in the join dataframe 'df' but not in the merge_df 'merge_df'\n",
    "merge_missing_indexes = [rt for rt in df[rt_condition_join].index if rt not in df_merge[rt_condition_merge].index]"
   ]
  },
  {
   "cell_type": "code",
   "execution_count": 13,
   "metadata": {},
   "outputs": [
    {
     "data": {
      "text/html": [
       "<div>\n",
       "<style scoped>\n",
       "    .dataframe tbody tr th:only-of-type {\n",
       "        vertical-align: middle;\n",
       "    }\n",
       "\n",
       "    .dataframe tbody tr th {\n",
       "        vertical-align: top;\n",
       "    }\n",
       "\n",
       "    .dataframe thead th {\n",
       "        text-align: right;\n",
       "    }\n",
       "</style>\n",
       "<table border=\"1\" class=\"dataframe\">\n",
       "  <thead>\n",
       "    <tr style=\"text-align: right;\">\n",
       "      <th></th>\n",
       "      <th>doggo</th>\n",
       "      <th>expanded_urls</th>\n",
       "      <th>favorite_count</th>\n",
       "      <th>floofer</th>\n",
       "      <th>img_num</th>\n",
       "      <th>in_reply_to_status_id</th>\n",
       "      <th>in_reply_to_user_id</th>\n",
       "      <th>jpg_url</th>\n",
       "      <th>name</th>\n",
       "      <th>p1</th>\n",
       "      <th>...</th>\n",
       "      <th>puppo</th>\n",
       "      <th>rating_denominator</th>\n",
       "      <th>rating_numerator</th>\n",
       "      <th>retweet_count</th>\n",
       "      <th>retweeted_status_id</th>\n",
       "      <th>retweeted_status_timestamp</th>\n",
       "      <th>retweeted_status_user_id</th>\n",
       "      <th>source</th>\n",
       "      <th>text</th>\n",
       "      <th>timestamp</th>\n",
       "    </tr>\n",
       "  </thead>\n",
       "  <tbody>\n",
       "    <tr>\n",
       "      <th>888202515573088257</th>\n",
       "      <td>None</td>\n",
       "      <td>https://twitter.com/dog_rates/status/887473957...</td>\n",
       "      <td>NaN</td>\n",
       "      <td>None</td>\n",
       "      <td>2.0</td>\n",
       "      <td>NaN</td>\n",
       "      <td>NaN</td>\n",
       "      <td>https://pbs.twimg.com/media/DFDw2tyUQAAAFke.jpg</td>\n",
       "      <td>Canela</td>\n",
       "      <td>Pembroke</td>\n",
       "      <td>...</td>\n",
       "      <td>None</td>\n",
       "      <td>10.0</td>\n",
       "      <td>13.0</td>\n",
       "      <td>NaN</td>\n",
       "      <td>8.874740e+17</td>\n",
       "      <td>2017-07-19 00:47:34 +0000</td>\n",
       "      <td>4.196984e+09</td>\n",
       "      <td>&lt;a href=\"http://twitter.com/download/iphone\" r...</td>\n",
       "      <td>RT @dog_rates: This is Canela. She attempted s...</td>\n",
       "      <td>2017-07-21 01:02:36 +0000</td>\n",
       "    </tr>\n",
       "    <tr>\n",
       "      <th>886054160059072513</th>\n",
       "      <td>None</td>\n",
       "      <td>https://twitter.com/dog_rates/status/886053434...</td>\n",
       "      <td>0.0</td>\n",
       "      <td>None</td>\n",
       "      <td>NaN</td>\n",
       "      <td>NaN</td>\n",
       "      <td>NaN</td>\n",
       "      <td>NaN</td>\n",
       "      <td>None</td>\n",
       "      <td>NaN</td>\n",
       "      <td>...</td>\n",
       "      <td>None</td>\n",
       "      <td>10.0</td>\n",
       "      <td>12.0</td>\n",
       "      <td>108.0</td>\n",
       "      <td>8.860537e+17</td>\n",
       "      <td>2017-07-15 02:44:07 +0000</td>\n",
       "      <td>1.960740e+07</td>\n",
       "      <td>&lt;a href=\"http://twitter.com/download/iphone\" r...</td>\n",
       "      <td>RT @Athletics: 12/10 #BATP https://t.co/WxwJmv...</td>\n",
       "      <td>2017-07-15 02:45:48 +0000</td>\n",
       "    </tr>\n",
       "    <tr>\n",
       "      <th>879130579576475649</th>\n",
       "      <td>None</td>\n",
       "      <td>https://twitter.com/dog_rates/status/878057613...</td>\n",
       "      <td>0.0</td>\n",
       "      <td>None</td>\n",
       "      <td>NaN</td>\n",
       "      <td>NaN</td>\n",
       "      <td>NaN</td>\n",
       "      <td>NaN</td>\n",
       "      <td>Emmy</td>\n",
       "      <td>NaN</td>\n",
       "      <td>...</td>\n",
       "      <td>None</td>\n",
       "      <td>10.0</td>\n",
       "      <td>14.0</td>\n",
       "      <td>7181.0</td>\n",
       "      <td>8.780576e+17</td>\n",
       "      <td>2017-06-23 01:10:23 +0000</td>\n",
       "      <td>4.196984e+09</td>\n",
       "      <td>&lt;a href=\"http://twitter.com/download/iphone\" r...</td>\n",
       "      <td>RT @dog_rates: This is Emmy. She was adopted t...</td>\n",
       "      <td>2017-06-26 00:13:58 +0000</td>\n",
       "    </tr>\n",
       "    <tr>\n",
       "      <th>878404777348136964</th>\n",
       "      <td>None</td>\n",
       "      <td>https://www.gofundme.com/3yd6y1c,https://twitt...</td>\n",
       "      <td>0.0</td>\n",
       "      <td>None</td>\n",
       "      <td>NaN</td>\n",
       "      <td>NaN</td>\n",
       "      <td>NaN</td>\n",
       "      <td>NaN</td>\n",
       "      <td>Shadow</td>\n",
       "      <td>NaN</td>\n",
       "      <td>...</td>\n",
       "      <td>None</td>\n",
       "      <td>10.0</td>\n",
       "      <td>13.0</td>\n",
       "      <td>1349.0</td>\n",
       "      <td>8.782815e+17</td>\n",
       "      <td>2017-06-23 16:00:04 +0000</td>\n",
       "      <td>4.196984e+09</td>\n",
       "      <td>&lt;a href=\"http://twitter.com/download/iphone\" r...</td>\n",
       "      <td>RT @dog_rates: Meet Shadow. In an attempt to r...</td>\n",
       "      <td>2017-06-24 00:09:53 +0000</td>\n",
       "    </tr>\n",
       "    <tr>\n",
       "      <th>878316110768087041</th>\n",
       "      <td>None</td>\n",
       "      <td>https://twitter.com/dog_rates/status/669000397...</td>\n",
       "      <td>0.0</td>\n",
       "      <td>None</td>\n",
       "      <td>NaN</td>\n",
       "      <td>NaN</td>\n",
       "      <td>NaN</td>\n",
       "      <td>NaN</td>\n",
       "      <td>Terrance</td>\n",
       "      <td>NaN</td>\n",
       "      <td>...</td>\n",
       "      <td>None</td>\n",
       "      <td>10.0</td>\n",
       "      <td>11.0</td>\n",
       "      <td>6965.0</td>\n",
       "      <td>6.690004e+17</td>\n",
       "      <td>2015-11-24 03:51:38 +0000</td>\n",
       "      <td>4.196984e+09</td>\n",
       "      <td>&lt;a href=\"http://twitter.com/download/iphone\" r...</td>\n",
       "      <td>RT @dog_rates: Meet Terrance. He's being yelle...</td>\n",
       "      <td>2017-06-23 18:17:33 +0000</td>\n",
       "    </tr>\n",
       "  </tbody>\n",
       "</table>\n",
       "<p>5 rows × 29 columns</p>\n",
       "</div>"
      ],
      "text/plain": [
       "                   doggo                                      expanded_urls  \\\n",
       "888202515573088257  None  https://twitter.com/dog_rates/status/887473957...   \n",
       "886054160059072513  None  https://twitter.com/dog_rates/status/886053434...   \n",
       "879130579576475649  None  https://twitter.com/dog_rates/status/878057613...   \n",
       "878404777348136964  None  https://www.gofundme.com/3yd6y1c,https://twitt...   \n",
       "878316110768087041  None  https://twitter.com/dog_rates/status/669000397...   \n",
       "\n",
       "                    favorite_count floofer  img_num  in_reply_to_status_id  \\\n",
       "888202515573088257             NaN    None      2.0                    NaN   \n",
       "886054160059072513             0.0    None      NaN                    NaN   \n",
       "879130579576475649             0.0    None      NaN                    NaN   \n",
       "878404777348136964             0.0    None      NaN                    NaN   \n",
       "878316110768087041             0.0    None      NaN                    NaN   \n",
       "\n",
       "                    in_reply_to_user_id  \\\n",
       "888202515573088257                  NaN   \n",
       "886054160059072513                  NaN   \n",
       "879130579576475649                  NaN   \n",
       "878404777348136964                  NaN   \n",
       "878316110768087041                  NaN   \n",
       "\n",
       "                                                            jpg_url      name  \\\n",
       "888202515573088257  https://pbs.twimg.com/media/DFDw2tyUQAAAFke.jpg    Canela   \n",
       "886054160059072513                                              NaN      None   \n",
       "879130579576475649                                              NaN      Emmy   \n",
       "878404777348136964                                              NaN    Shadow   \n",
       "878316110768087041                                              NaN  Terrance   \n",
       "\n",
       "                          p1  ...  puppo  rating_denominator rating_numerator  \\\n",
       "888202515573088257  Pembroke  ...   None                10.0             13.0   \n",
       "886054160059072513       NaN  ...   None                10.0             12.0   \n",
       "879130579576475649       NaN  ...   None                10.0             14.0   \n",
       "878404777348136964       NaN  ...   None                10.0             13.0   \n",
       "878316110768087041       NaN  ...   None                10.0             11.0   \n",
       "\n",
       "                    retweet_count  retweeted_status_id  \\\n",
       "888202515573088257            NaN         8.874740e+17   \n",
       "886054160059072513          108.0         8.860537e+17   \n",
       "879130579576475649         7181.0         8.780576e+17   \n",
       "878404777348136964         1349.0         8.782815e+17   \n",
       "878316110768087041         6965.0         6.690004e+17   \n",
       "\n",
       "                   retweeted_status_timestamp  retweeted_status_user_id  \\\n",
       "888202515573088257  2017-07-19 00:47:34 +0000              4.196984e+09   \n",
       "886054160059072513  2017-07-15 02:44:07 +0000              1.960740e+07   \n",
       "879130579576475649  2017-06-23 01:10:23 +0000              4.196984e+09   \n",
       "878404777348136964  2017-06-23 16:00:04 +0000              4.196984e+09   \n",
       "878316110768087041  2015-11-24 03:51:38 +0000              4.196984e+09   \n",
       "\n",
       "                                                               source  \\\n",
       "888202515573088257  <a href=\"http://twitter.com/download/iphone\" r...   \n",
       "886054160059072513  <a href=\"http://twitter.com/download/iphone\" r...   \n",
       "879130579576475649  <a href=\"http://twitter.com/download/iphone\" r...   \n",
       "878404777348136964  <a href=\"http://twitter.com/download/iphone\" r...   \n",
       "878316110768087041  <a href=\"http://twitter.com/download/iphone\" r...   \n",
       "\n",
       "                                                                 text  \\\n",
       "888202515573088257  RT @dog_rates: This is Canela. She attempted s...   \n",
       "886054160059072513  RT @Athletics: 12/10 #BATP https://t.co/WxwJmv...   \n",
       "879130579576475649  RT @dog_rates: This is Emmy. She was adopted t...   \n",
       "878404777348136964  RT @dog_rates: Meet Shadow. In an attempt to r...   \n",
       "878316110768087041  RT @dog_rates: Meet Terrance. He's being yelle...   \n",
       "\n",
       "                                    timestamp  \n",
       "888202515573088257  2017-07-21 01:02:36 +0000  \n",
       "886054160059072513  2017-07-15 02:45:48 +0000  \n",
       "879130579576475649  2017-06-26 00:13:58 +0000  \n",
       "878404777348136964  2017-06-24 00:09:53 +0000  \n",
       "878316110768087041  2017-06-23 18:17:33 +0000  \n",
       "\n",
       "[5 rows x 29 columns]"
      ]
     },
     "execution_count": 13,
     "metadata": {},
     "output_type": "execute_result"
    }
   ],
   "source": [
    "merge_missing_rt_df = pd.DataFrame()\n",
    "for item in merge_missing_indexes:\n",
    "    #print(item)\n",
    "    #print(df.loc[item])\n",
    "    merge_missing_rt_df = merge_missing_rt_df.append(df.loc[item])\n",
    "merge_missing_rt_df.head()"
   ]
  },
  {
   "cell_type": "markdown",
   "metadata": {},
   "source": [
    ">So far elaboration,has been just to better understand how to handle information. We will be using df dataframe and not df_merge dataframe so let's drop those retweeted reccords."
   ]
  },
  {
   "cell_type": "code",
   "execution_count": 14,
   "metadata": {},
   "outputs": [],
   "source": [
    "retweets_to_drop = [rt_index for rt_index in df[(df.retweeted_status_id.isnull() == False)].index]\n",
    "df.drop(retweets_to_drop, axis = 0, inplace = True)"
   ]
  },
  {
   "cell_type": "markdown",
   "metadata": {},
   "source": [
    "### Keep OnlyDog reccords in our dataFrame  and Columns we are only interested in"
   ]
  },
  {
   "cell_type": "code",
   "execution_count": 15,
   "metadata": {},
   "outputs": [],
   "source": [
    "#create filters aka \"masks\" to be used in the df dataframe collect the dog category\n",
    "dog = ((df.p1_dog == True) | (df.p2_dog == True) | (df.p3_dog == True)) #dog is the filer we apply to our dataframe\n",
    "dog_not = ((df.p1_dog == False) | (df.p2_dog == False) | (df.p3_dog == False))\n",
    "#create the dataframe to elaborate\n",
    "df = df.loc[dog, ['timestamp', 'rating_numerator','rating_denominator','p1', 'p2', 'p3', 'p1_dog', 'p2_dog', 'p3_dog', 'p1_conf', 'p2_conf', 'p3_conf', 'name', 'retweet_count', 'favorite_count', 'doggo', 'floofer', 'pupper', 'puppo']]\n"
   ]
  },
  {
   "cell_type": "markdown",
   "metadata": {},
   "source": [
    "### Create the breeds column for the dogs we have in our DataFrame"
   ]
  },
  {
   "cell_type": "code",
   "execution_count": 16,
   "metadata": {},
   "outputs": [
    {
     "data": {
      "text/html": [
       "<div>\n",
       "<style scoped>\n",
       "    .dataframe tbody tr th:only-of-type {\n",
       "        vertical-align: middle;\n",
       "    }\n",
       "\n",
       "    .dataframe tbody tr th {\n",
       "        vertical-align: top;\n",
       "    }\n",
       "\n",
       "    .dataframe thead th {\n",
       "        text-align: right;\n",
       "    }\n",
       "</style>\n",
       "<table border=\"1\" class=\"dataframe\">\n",
       "  <thead>\n",
       "    <tr style=\"text-align: right;\">\n",
       "      <th></th>\n",
       "      <th>timestamp</th>\n",
       "      <th>rating_numerator</th>\n",
       "      <th>rating_denominator</th>\n",
       "      <th>p1</th>\n",
       "      <th>p2</th>\n",
       "      <th>p3</th>\n",
       "      <th>p1_dog</th>\n",
       "      <th>p2_dog</th>\n",
       "      <th>p3_dog</th>\n",
       "      <th>p1_conf</th>\n",
       "      <th>p2_conf</th>\n",
       "      <th>p3_conf</th>\n",
       "      <th>name</th>\n",
       "      <th>retweet_count</th>\n",
       "      <th>favorite_count</th>\n",
       "      <th>doggo</th>\n",
       "      <th>floofer</th>\n",
       "      <th>pupper</th>\n",
       "      <th>puppo</th>\n",
       "    </tr>\n",
       "    <tr>\n",
       "      <th>tweet_id</th>\n",
       "      <th></th>\n",
       "      <th></th>\n",
       "      <th></th>\n",
       "      <th></th>\n",
       "      <th></th>\n",
       "      <th></th>\n",
       "      <th></th>\n",
       "      <th></th>\n",
       "      <th></th>\n",
       "      <th></th>\n",
       "      <th></th>\n",
       "      <th></th>\n",
       "      <th></th>\n",
       "      <th></th>\n",
       "      <th></th>\n",
       "      <th></th>\n",
       "      <th></th>\n",
       "      <th></th>\n",
       "      <th></th>\n",
       "    </tr>\n",
       "  </thead>\n",
       "  <tbody>\n",
       "    <tr>\n",
       "      <th>892177421306343426</th>\n",
       "      <td>2017-08-01 00:17:27 +0000</td>\n",
       "      <td>13</td>\n",
       "      <td>10</td>\n",
       "      <td>Chihuahua</td>\n",
       "      <td>Pekinese</td>\n",
       "      <td>Papillon</td>\n",
       "      <td>True</td>\n",
       "      <td>True</td>\n",
       "      <td>True</td>\n",
       "      <td>0.323581</td>\n",
       "      <td>0.090647</td>\n",
       "      <td>0.068957</td>\n",
       "      <td>Tilly</td>\n",
       "      <td>6514.0</td>\n",
       "      <td>33819.0</td>\n",
       "      <td>None</td>\n",
       "      <td>None</td>\n",
       "      <td>None</td>\n",
       "      <td>None</td>\n",
       "    </tr>\n",
       "    <tr>\n",
       "      <th>891815181378084864</th>\n",
       "      <td>2017-07-31 00:18:03 +0000</td>\n",
       "      <td>12</td>\n",
       "      <td>10</td>\n",
       "      <td>Chihuahua</td>\n",
       "      <td>Malamute</td>\n",
       "      <td>Kelpie</td>\n",
       "      <td>True</td>\n",
       "      <td>True</td>\n",
       "      <td>True</td>\n",
       "      <td>0.716012</td>\n",
       "      <td>0.078253</td>\n",
       "      <td>0.031379</td>\n",
       "      <td>Archie</td>\n",
       "      <td>4328.0</td>\n",
       "      <td>25461.0</td>\n",
       "      <td>None</td>\n",
       "      <td>None</td>\n",
       "      <td>None</td>\n",
       "      <td>None</td>\n",
       "    </tr>\n",
       "    <tr>\n",
       "      <th>891689557279858688</th>\n",
       "      <td>2017-07-30 15:58:51 +0000</td>\n",
       "      <td>13</td>\n",
       "      <td>10</td>\n",
       "      <td>Paper_towel</td>\n",
       "      <td>Labrador_retriever</td>\n",
       "      <td>Spatula</td>\n",
       "      <td>False</td>\n",
       "      <td>True</td>\n",
       "      <td>False</td>\n",
       "      <td>0.170278</td>\n",
       "      <td>0.168086</td>\n",
       "      <td>0.040836</td>\n",
       "      <td>Darla</td>\n",
       "      <td>8964.0</td>\n",
       "      <td>42908.0</td>\n",
       "      <td>None</td>\n",
       "      <td>None</td>\n",
       "      <td>None</td>\n",
       "      <td>None</td>\n",
       "    </tr>\n",
       "    <tr>\n",
       "      <th>891327558926688256</th>\n",
       "      <td>2017-07-29 16:00:24 +0000</td>\n",
       "      <td>12</td>\n",
       "      <td>10</td>\n",
       "      <td>Basset</td>\n",
       "      <td>English_springer</td>\n",
       "      <td>German_short_haired_pointer</td>\n",
       "      <td>True</td>\n",
       "      <td>True</td>\n",
       "      <td>True</td>\n",
       "      <td>0.555712</td>\n",
       "      <td>0.225770</td>\n",
       "      <td>0.175219</td>\n",
       "      <td>Franklin</td>\n",
       "      <td>9774.0</td>\n",
       "      <td>41048.0</td>\n",
       "      <td>None</td>\n",
       "      <td>None</td>\n",
       "      <td>None</td>\n",
       "      <td>None</td>\n",
       "    </tr>\n",
       "    <tr>\n",
       "      <th>891087950875897856</th>\n",
       "      <td>2017-07-29 00:08:17 +0000</td>\n",
       "      <td>13</td>\n",
       "      <td>10</td>\n",
       "      <td>Chesapeake_bay_retriever</td>\n",
       "      <td>Irish_terrier</td>\n",
       "      <td>Indian_elephant</td>\n",
       "      <td>True</td>\n",
       "      <td>True</td>\n",
       "      <td>False</td>\n",
       "      <td>0.425595</td>\n",
       "      <td>0.116317</td>\n",
       "      <td>0.076902</td>\n",
       "      <td>None</td>\n",
       "      <td>3261.0</td>\n",
       "      <td>20562.0</td>\n",
       "      <td>None</td>\n",
       "      <td>None</td>\n",
       "      <td>None</td>\n",
       "      <td>None</td>\n",
       "    </tr>\n",
       "  </tbody>\n",
       "</table>\n",
       "</div>"
      ],
      "text/plain": [
       "                                    timestamp  rating_numerator  \\\n",
       "tweet_id                                                          \n",
       "892177421306343426  2017-08-01 00:17:27 +0000                13   \n",
       "891815181378084864  2017-07-31 00:18:03 +0000                12   \n",
       "891689557279858688  2017-07-30 15:58:51 +0000                13   \n",
       "891327558926688256  2017-07-29 16:00:24 +0000                12   \n",
       "891087950875897856  2017-07-29 00:08:17 +0000                13   \n",
       "\n",
       "                    rating_denominator                        p1  \\\n",
       "tweet_id                                                           \n",
       "892177421306343426                  10                 Chihuahua   \n",
       "891815181378084864                  10                 Chihuahua   \n",
       "891689557279858688                  10               Paper_towel   \n",
       "891327558926688256                  10                    Basset   \n",
       "891087950875897856                  10  Chesapeake_bay_retriever   \n",
       "\n",
       "                                    p2                           p3 p1_dog  \\\n",
       "tweet_id                                                                     \n",
       "892177421306343426            Pekinese                     Papillon   True   \n",
       "891815181378084864            Malamute                       Kelpie   True   \n",
       "891689557279858688  Labrador_retriever                      Spatula  False   \n",
       "891327558926688256    English_springer  German_short_haired_pointer   True   \n",
       "891087950875897856       Irish_terrier              Indian_elephant   True   \n",
       "\n",
       "                   p2_dog p3_dog   p1_conf   p2_conf   p3_conf      name  \\\n",
       "tweet_id                                                                   \n",
       "892177421306343426   True   True  0.323581  0.090647  0.068957     Tilly   \n",
       "891815181378084864   True   True  0.716012  0.078253  0.031379    Archie   \n",
       "891689557279858688   True  False  0.170278  0.168086  0.040836     Darla   \n",
       "891327558926688256   True   True  0.555712  0.225770  0.175219  Franklin   \n",
       "891087950875897856   True  False  0.425595  0.116317  0.076902      None   \n",
       "\n",
       "                    retweet_count  favorite_count doggo floofer pupper puppo  \n",
       "tweet_id                                                                      \n",
       "892177421306343426         6514.0         33819.0  None    None   None  None  \n",
       "891815181378084864         4328.0         25461.0  None    None   None  None  \n",
       "891689557279858688         8964.0         42908.0  None    None   None  None  \n",
       "891327558926688256         9774.0         41048.0  None    None   None  None  \n",
       "891087950875897856         3261.0         20562.0  None    None   None  None  "
      ]
     },
     "execution_count": 16,
     "metadata": {},
     "output_type": "execute_result"
    }
   ],
   "source": [
    "def get_breed_list(df):\n",
    "    '''\n",
    "    Gets the initial DataFrame and creates a column with breeds information for every record\n",
    "    '''\n",
    "    breeds_list = []\n",
    "    for column in df.iloc[:, 3:6]:\n",
    "        for element in df[column].unique():\n",
    "            if element not in breeds_list:\n",
    "                breeds_list.append(element)\n",
    "    breeds_list = [element.lower().capitalize().replace('-','_') for element in breeds_list] #homogenize \n",
    "    \n",
    "    for c in df.iloc[:, 3:6]:\n",
    "        df[c] = df[c].apply(lambda x: x.lower().capitalize().replace('-','_')) #homogenize\n",
    "    \n",
    "    return df, breeds_list\n",
    "get_breed_list(df)\n",
    "df.head()"
   ]
  },
  {
   "cell_type": "code",
   "execution_count": 17,
   "metadata": {},
   "outputs": [],
   "source": [
    "breed = [] \n",
    "confidence = [] \n",
    "#define function \n",
    "#Append values to lists above if conditons are met \n",
    "def get_breed_and_conf(row): \n",
    "    '''\n",
    "    Function to be applied to a dataframe.\n",
    "    Creates two LISTS -breed and confidence- \n",
    "    given dataframe's conditions\n",
    "    '''\n",
    "    if row['p1_dog'] == True: \n",
    "        breed.append(row['p1']) \n",
    "        confidence.append(row['p1_conf']) \n",
    "    elif row['p2_dog'] == True: \n",
    "        breed.append(row['p2']) \n",
    "        confidence.append(row['p2_conf']) \n",
    "    elif row['p3_dog'] == True: \n",
    "        breed.append(row['p3']) \n",
    "        confidence.append(row['p3_conf']) \n",
    "    else: \n",
    "        breed.append('Not identified') \n",
    "        confidence.append(np.nan)\n",
    "        \n",
    "        \n",
    "#Apply the function in the master df\n",
    "df.apply(get_breed_and_conf, axis=1)\n",
    "\n",
    "#create new column pandas Series from the beed list and confidence list created above\n",
    "df['breed'] = breed #get lists and creates df's series\n",
    "df['confidence'] = confidence\n"
   ]
  },
  {
   "cell_type": "code",
   "execution_count": 18,
   "metadata": {},
   "outputs": [
    {
     "data": {
      "text/html": [
       "<div>\n",
       "<style scoped>\n",
       "    .dataframe tbody tr th:only-of-type {\n",
       "        vertical-align: middle;\n",
       "    }\n",
       "\n",
       "    .dataframe tbody tr th {\n",
       "        vertical-align: top;\n",
       "    }\n",
       "\n",
       "    .dataframe thead th {\n",
       "        text-align: right;\n",
       "    }\n",
       "</style>\n",
       "<table border=\"1\" class=\"dataframe\">\n",
       "  <thead>\n",
       "    <tr style=\"text-align: right;\">\n",
       "      <th></th>\n",
       "      <th>timestamp</th>\n",
       "      <th>rating_numerator</th>\n",
       "      <th>rating_denominator</th>\n",
       "      <th>name</th>\n",
       "      <th>retweet_count</th>\n",
       "      <th>favorite_count</th>\n",
       "      <th>doggo</th>\n",
       "      <th>floofer</th>\n",
       "      <th>pupper</th>\n",
       "      <th>puppo</th>\n",
       "      <th>breed</th>\n",
       "      <th>confidence</th>\n",
       "    </tr>\n",
       "    <tr>\n",
       "      <th>tweet_id</th>\n",
       "      <th></th>\n",
       "      <th></th>\n",
       "      <th></th>\n",
       "      <th></th>\n",
       "      <th></th>\n",
       "      <th></th>\n",
       "      <th></th>\n",
       "      <th></th>\n",
       "      <th></th>\n",
       "      <th></th>\n",
       "      <th></th>\n",
       "      <th></th>\n",
       "    </tr>\n",
       "  </thead>\n",
       "  <tbody>\n",
       "    <tr>\n",
       "      <th>892177421306343426</th>\n",
       "      <td>2017-08-01 00:17:27 +0000</td>\n",
       "      <td>13</td>\n",
       "      <td>10</td>\n",
       "      <td>Tilly</td>\n",
       "      <td>6514.0</td>\n",
       "      <td>33819.0</td>\n",
       "      <td>None</td>\n",
       "      <td>None</td>\n",
       "      <td>None</td>\n",
       "      <td>None</td>\n",
       "      <td>Chihuahua</td>\n",
       "      <td>0.323581</td>\n",
       "    </tr>\n",
       "    <tr>\n",
       "      <th>891815181378084864</th>\n",
       "      <td>2017-07-31 00:18:03 +0000</td>\n",
       "      <td>12</td>\n",
       "      <td>10</td>\n",
       "      <td>Archie</td>\n",
       "      <td>4328.0</td>\n",
       "      <td>25461.0</td>\n",
       "      <td>None</td>\n",
       "      <td>None</td>\n",
       "      <td>None</td>\n",
       "      <td>None</td>\n",
       "      <td>Chihuahua</td>\n",
       "      <td>0.716012</td>\n",
       "    </tr>\n",
       "    <tr>\n",
       "      <th>891689557279858688</th>\n",
       "      <td>2017-07-30 15:58:51 +0000</td>\n",
       "      <td>13</td>\n",
       "      <td>10</td>\n",
       "      <td>Darla</td>\n",
       "      <td>8964.0</td>\n",
       "      <td>42908.0</td>\n",
       "      <td>None</td>\n",
       "      <td>None</td>\n",
       "      <td>None</td>\n",
       "      <td>None</td>\n",
       "      <td>Labrador_retriever</td>\n",
       "      <td>0.168086</td>\n",
       "    </tr>\n",
       "    <tr>\n",
       "      <th>891327558926688256</th>\n",
       "      <td>2017-07-29 16:00:24 +0000</td>\n",
       "      <td>12</td>\n",
       "      <td>10</td>\n",
       "      <td>Franklin</td>\n",
       "      <td>9774.0</td>\n",
       "      <td>41048.0</td>\n",
       "      <td>None</td>\n",
       "      <td>None</td>\n",
       "      <td>None</td>\n",
       "      <td>None</td>\n",
       "      <td>Basset</td>\n",
       "      <td>0.555712</td>\n",
       "    </tr>\n",
       "    <tr>\n",
       "      <th>891087950875897856</th>\n",
       "      <td>2017-07-29 00:08:17 +0000</td>\n",
       "      <td>13</td>\n",
       "      <td>10</td>\n",
       "      <td>None</td>\n",
       "      <td>3261.0</td>\n",
       "      <td>20562.0</td>\n",
       "      <td>None</td>\n",
       "      <td>None</td>\n",
       "      <td>None</td>\n",
       "      <td>None</td>\n",
       "      <td>Chesapeake_bay_retriever</td>\n",
       "      <td>0.425595</td>\n",
       "    </tr>\n",
       "    <tr>\n",
       "      <th>...</th>\n",
       "      <td>...</td>\n",
       "      <td>...</td>\n",
       "      <td>...</td>\n",
       "      <td>...</td>\n",
       "      <td>...</td>\n",
       "      <td>...</td>\n",
       "      <td>...</td>\n",
       "      <td>...</td>\n",
       "      <td>...</td>\n",
       "      <td>...</td>\n",
       "      <td>...</td>\n",
       "      <td>...</td>\n",
       "    </tr>\n",
       "    <tr>\n",
       "      <th>666049248165822465</th>\n",
       "      <td>2015-11-16 00:24:50 +0000</td>\n",
       "      <td>5</td>\n",
       "      <td>10</td>\n",
       "      <td>None</td>\n",
       "      <td>41.0</td>\n",
       "      <td>111.0</td>\n",
       "      <td>None</td>\n",
       "      <td>None</td>\n",
       "      <td>None</td>\n",
       "      <td>None</td>\n",
       "      <td>Miniature_pinscher</td>\n",
       "      <td>0.560311</td>\n",
       "    </tr>\n",
       "    <tr>\n",
       "      <th>666044226329800704</th>\n",
       "      <td>2015-11-16 00:04:52 +0000</td>\n",
       "      <td>6</td>\n",
       "      <td>10</td>\n",
       "      <td>a</td>\n",
       "      <td>147.0</td>\n",
       "      <td>311.0</td>\n",
       "      <td>None</td>\n",
       "      <td>None</td>\n",
       "      <td>None</td>\n",
       "      <td>None</td>\n",
       "      <td>Rhodesian_ridgeback</td>\n",
       "      <td>0.408143</td>\n",
       "    </tr>\n",
       "    <tr>\n",
       "      <th>666033412701032449</th>\n",
       "      <td>2015-11-15 23:21:54 +0000</td>\n",
       "      <td>9</td>\n",
       "      <td>10</td>\n",
       "      <td>a</td>\n",
       "      <td>47.0</td>\n",
       "      <td>128.0</td>\n",
       "      <td>None</td>\n",
       "      <td>None</td>\n",
       "      <td>None</td>\n",
       "      <td>None</td>\n",
       "      <td>German_shepherd</td>\n",
       "      <td>0.596461</td>\n",
       "    </tr>\n",
       "    <tr>\n",
       "      <th>666029285002620928</th>\n",
       "      <td>2015-11-15 23:05:30 +0000</td>\n",
       "      <td>7</td>\n",
       "      <td>10</td>\n",
       "      <td>a</td>\n",
       "      <td>48.0</td>\n",
       "      <td>132.0</td>\n",
       "      <td>None</td>\n",
       "      <td>None</td>\n",
       "      <td>None</td>\n",
       "      <td>None</td>\n",
       "      <td>Redbone</td>\n",
       "      <td>0.506826</td>\n",
       "    </tr>\n",
       "    <tr>\n",
       "      <th>666020888022790149</th>\n",
       "      <td>2015-11-15 22:32:08 +0000</td>\n",
       "      <td>8</td>\n",
       "      <td>10</td>\n",
       "      <td>None</td>\n",
       "      <td>532.0</td>\n",
       "      <td>2535.0</td>\n",
       "      <td>None</td>\n",
       "      <td>None</td>\n",
       "      <td>None</td>\n",
       "      <td>None</td>\n",
       "      <td>Welsh_springer_spaniel</td>\n",
       "      <td>0.465074</td>\n",
       "    </tr>\n",
       "  </tbody>\n",
       "</table>\n",
       "<p>1686 rows × 12 columns</p>\n",
       "</div>"
      ],
      "text/plain": [
       "                                    timestamp  rating_numerator  \\\n",
       "tweet_id                                                          \n",
       "892177421306343426  2017-08-01 00:17:27 +0000                13   \n",
       "891815181378084864  2017-07-31 00:18:03 +0000                12   \n",
       "891689557279858688  2017-07-30 15:58:51 +0000                13   \n",
       "891327558926688256  2017-07-29 16:00:24 +0000                12   \n",
       "891087950875897856  2017-07-29 00:08:17 +0000                13   \n",
       "...                                       ...               ...   \n",
       "666049248165822465  2015-11-16 00:24:50 +0000                 5   \n",
       "666044226329800704  2015-11-16 00:04:52 +0000                 6   \n",
       "666033412701032449  2015-11-15 23:21:54 +0000                 9   \n",
       "666029285002620928  2015-11-15 23:05:30 +0000                 7   \n",
       "666020888022790149  2015-11-15 22:32:08 +0000                 8   \n",
       "\n",
       "                    rating_denominator      name  retweet_count  \\\n",
       "tweet_id                                                          \n",
       "892177421306343426                  10     Tilly         6514.0   \n",
       "891815181378084864                  10    Archie         4328.0   \n",
       "891689557279858688                  10     Darla         8964.0   \n",
       "891327558926688256                  10  Franklin         9774.0   \n",
       "891087950875897856                  10      None         3261.0   \n",
       "...                                ...       ...            ...   \n",
       "666049248165822465                  10      None           41.0   \n",
       "666044226329800704                  10         a          147.0   \n",
       "666033412701032449                  10         a           47.0   \n",
       "666029285002620928                  10         a           48.0   \n",
       "666020888022790149                  10      None          532.0   \n",
       "\n",
       "                    favorite_count doggo floofer pupper puppo  \\\n",
       "tweet_id                                                        \n",
       "892177421306343426         33819.0  None    None   None  None   \n",
       "891815181378084864         25461.0  None    None   None  None   \n",
       "891689557279858688         42908.0  None    None   None  None   \n",
       "891327558926688256         41048.0  None    None   None  None   \n",
       "891087950875897856         20562.0  None    None   None  None   \n",
       "...                            ...   ...     ...    ...   ...   \n",
       "666049248165822465           111.0  None    None   None  None   \n",
       "666044226329800704           311.0  None    None   None  None   \n",
       "666033412701032449           128.0  None    None   None  None   \n",
       "666029285002620928           132.0  None    None   None  None   \n",
       "666020888022790149          2535.0  None    None   None  None   \n",
       "\n",
       "                                       breed  confidence  \n",
       "tweet_id                                                  \n",
       "892177421306343426                 Chihuahua    0.323581  \n",
       "891815181378084864                 Chihuahua    0.716012  \n",
       "891689557279858688        Labrador_retriever    0.168086  \n",
       "891327558926688256                    Basset    0.555712  \n",
       "891087950875897856  Chesapeake_bay_retriever    0.425595  \n",
       "...                                      ...         ...  \n",
       "666049248165822465        Miniature_pinscher    0.560311  \n",
       "666044226329800704       Rhodesian_ridgeback    0.408143  \n",
       "666033412701032449           German_shepherd    0.596461  \n",
       "666029285002620928                   Redbone    0.506826  \n",
       "666020888022790149    Welsh_springer_spaniel    0.465074  \n",
       "\n",
       "[1686 rows x 12 columns]"
      ]
     },
     "execution_count": 18,
     "metadata": {},
     "output_type": "execute_result"
    }
   ],
   "source": [
    "#drop p1_dog p2_dog p3_dog\n",
    "df = df.drop(['p1_dog', 'p2_dog', 'p3_dog', 'p1', 'p2', 'p3', 'p1_conf', 'p2_conf', 'p3_conf' ], axis = 1)\n",
    "df"
   ]
  },
  {
   "cell_type": "code",
   "execution_count": 19,
   "metadata": {},
   "outputs": [
    {
     "name": "stdout",
     "output_type": "stream",
     "text": [
      "<class 'pandas.core.frame.DataFrame'>\n",
      "Int64Index: 1686 entries, 892177421306343426 to 666020888022790149\n",
      "Data columns (total 12 columns):\n",
      " #   Column              Non-Null Count  Dtype  \n",
      "---  ------              --------------  -----  \n",
      " 0   timestamp           1686 non-null   object \n",
      " 1   rating_numerator    1686 non-null   int64  \n",
      " 2   rating_denominator  1686 non-null   int64  \n",
      " 3   name                1686 non-null   object \n",
      " 4   retweet_count       1686 non-null   float64\n",
      " 5   favorite_count      1686 non-null   float64\n",
      " 6   doggo               1686 non-null   object \n",
      " 7   floofer             1686 non-null   object \n",
      " 8   pupper              1686 non-null   object \n",
      " 9   puppo               1686 non-null   object \n",
      " 10  breed               1686 non-null   object \n",
      " 11  confidence          1686 non-null   float64\n",
      "dtypes: float64(3), int64(2), object(7)\n",
      "memory usage: 171.2+ KB\n"
     ]
    }
   ],
   "source": [
    "df.info()"
   ]
  },
  {
   "cell_type": "code",
   "execution_count": 20,
   "metadata": {},
   "outputs": [
    {
     "name": "stderr",
     "output_type": "stream",
     "text": [
      "<ipython-input-20-8e49e6363cf9>:2: FutureWarning: Indexing with multiple keys (implicitly converted to a tuple of keys) will be deprecated, use a list instead.\n",
      "  d = df.groupby('breed')['retweet_count', 'favorite_count'].sum()\n"
     ]
    },
    {
     "data": {
      "text/plain": [
       "<matplotlib.axes._subplots.AxesSubplot at 0x18ae00fbd60>"
      ]
     },
     "execution_count": 20,
     "metadata": {},
     "output_type": "execute_result"
    },
    {
     "data": {
      "image/png": "[encoded data removed]",
      "text/plain": [
       "<Figure size 432x288 with 1 Axes>"
      ]
     },
     "metadata": {
      "needs_background": "light"
     },
     "output_type": "display_data"
    }
   ],
   "source": [
    "#visualize the most popular breeds\n",
    "d = df.groupby('breed')['retweet_count', 'favorite_count'].sum()\n",
    "d = d.sort_values(['favorite_count', 'retweet_count'], ascending = False)\n",
    "d.head(10).plot(kind='bar')"
   ]
  },
  {
   "cell_type": "code",
   "execution_count": 21,
   "metadata": {},
   "outputs": [
    {
     "name": "stderr",
     "output_type": "stream",
     "text": [
      "<ipython-input-21-32fbc05dbf8b>:2: FutureWarning: Indexing with multiple keys (implicitly converted to a tuple of keys) will be deprecated, use a list instead.\n",
      "  d = df.groupby('breed')['retweet_count', 'favorite_count'].sum()\n"
     ]
    },
    {
     "data": {
      "image/png": "[encoded data removed]",
      "text/plain": [
       "<Figure size 432x288 with 1 Axes>"
      ]
     },
     "metadata": {
      "needs_background": "light"
     },
     "output_type": "display_data"
    }
   ],
   "source": [
    "#another way to visualize popular breeds\n",
    "d = df.groupby('breed')['retweet_count', 'favorite_count'].sum()\n",
    "d = d.sort_values(['favorite_count', 'retweet_count'], ascending = False)\n",
    "d.iloc[0:10, :].plot(kind = 'bar');"
   ]
  },
  {
   "cell_type": "code",
   "execution_count": 22,
   "metadata": {},
   "outputs": [
    {
     "data": {
      "text/plain": [
       "Index(['timestamp', 'rating_numerator', 'rating_denominator', 'name',\n",
       "       'retweet_count', 'favorite_count', 'doggo', 'floofer', 'pupper',\n",
       "       'puppo', 'breed', 'confidence'],\n",
       "      dtype='object')"
      ]
     },
     "execution_count": 22,
     "metadata": {},
     "output_type": "execute_result"
    }
   ],
   "source": [
    "df.columns"
   ]
  },
  {
   "cell_type": "markdown",
   "metadata": {},
   "source": [
    "### Create the dog_stage colums keeping track of dog maturity\n",
    "According to the Dog Dictionary Floofer is not a dog maturity stage so we do not concider it into our non consistent records "
   ]
  },
  {
   "cell_type": "code",
   "execution_count": 23,
   "metadata": {},
   "outputs": [],
   "source": [
    "#create a filter for invalid dog_stage filter records and drop them\n",
    "dog_stage_filter = ((df.doggo == 'doggo') & (df.pupper == 'pupper')) | ((df.doggo == 'doggo') & (df.puppo == 'puppo'))|((df.doggo == 'doggo') & (df.puppo == 'puppo')) | ((df.doggo == 'doggo') & (df.pupper == 'pupper') & (df.doggo == 'doggo'))|((df.doggo == 'doggo') & (df.floofer == 'floofer'))\n",
    "dog_stage_idx_to_dorp = df[dog_stage_filter].index\n",
    "df.drop(dog_stage_idx_to_dorp, axis = 0, inplace = True)"
   ]
  },
  {
   "cell_type": "code",
   "execution_count": 24,
   "metadata": {},
   "outputs": [],
   "source": [
    "#Another way to do the samee thing concidering floofer as a dog stage\n",
    "#Identify rows where more that one >1 of the dog stage columns does not have None as a value \n",
    "multiple = df.loc[(df[['doggo', 'pupper', 'floofer', 'puppo']] != 'None').sum(axis=1) > 1] \n",
    "list(multiple.index) \n",
    "excluded_index = list(multiple.index)"
   ]
  },
  {
   "cell_type": "code",
   "execution_count": 25,
   "metadata": {},
   "outputs": [
    {
     "data": {
      "text/plain": [
       "(None     1622\n",
       " doggo      54\n",
       " Name: doggo, dtype: int64,\n",
       " None       1669\n",
       " floofer       7\n",
       " Name: floofer, dtype: int64,\n",
       " None      1508\n",
       " pupper     168\n",
       " Name: pupper, dtype: int64,\n",
       " None     1655\n",
       " puppo      21\n",
       " Name: puppo, dtype: int64)"
      ]
     },
     "execution_count": 25,
     "metadata": {},
     "output_type": "execute_result"
    }
   ],
   "source": [
    "#Handle None values\n",
    "df.doggo.value_counts(), df.floofer.value_counts(), df.pupper.value_counts(), df.puppo.value_counts()"
   ]
  },
  {
   "cell_type": "code",
   "execution_count": 26,
   "metadata": {},
   "outputs": [
    {
     "data": {
      "text/plain": [
       "((0, 'timestamp'),\n",
       " (1, 'rating_numerator'),\n",
       " (2, 'rating_denominator'),\n",
       " (3, 'name'),\n",
       " (4, 'retweet_count'),\n",
       " (5, 'favorite_count'),\n",
       " (6, 'doggo'),\n",
       " (7, 'floofer'),\n",
       " (8, 'pupper'),\n",
       " (9, 'puppo'),\n",
       " (10, 'breed'),\n",
       " (11, 'confidence'))"
      ]
     },
     "execution_count": 26,
     "metadata": {},
     "output_type": "execute_result"
    }
   ],
   "source": [
    "#check column index\n",
    "tuple(col for col in enumerate(df.columns))"
   ]
  },
  {
   "cell_type": "code",
   "execution_count": 27,
   "metadata": {},
   "outputs": [
    {
     "data": {
      "text/html": [
       "<div>\n",
       "<style scoped>\n",
       "    .dataframe tbody tr th:only-of-type {\n",
       "        vertical-align: middle;\n",
       "    }\n",
       "\n",
       "    .dataframe tbody tr th {\n",
       "        vertical-align: top;\n",
       "    }\n",
       "\n",
       "    .dataframe thead th {\n",
       "        text-align: right;\n",
       "    }\n",
       "</style>\n",
       "<table border=\"1\" class=\"dataframe\">\n",
       "  <thead>\n",
       "    <tr style=\"text-align: right;\">\n",
       "      <th></th>\n",
       "      <th>timestamp</th>\n",
       "      <th>rating_numerator</th>\n",
       "      <th>rating_denominator</th>\n",
       "      <th>name</th>\n",
       "      <th>retweet_count</th>\n",
       "      <th>favorite_count</th>\n",
       "      <th>doggo</th>\n",
       "      <th>floofer</th>\n",
       "      <th>pupper</th>\n",
       "      <th>puppo</th>\n",
       "      <th>breed</th>\n",
       "      <th>confidence</th>\n",
       "    </tr>\n",
       "    <tr>\n",
       "      <th>tweet_id</th>\n",
       "      <th></th>\n",
       "      <th></th>\n",
       "      <th></th>\n",
       "      <th></th>\n",
       "      <th></th>\n",
       "      <th></th>\n",
       "      <th></th>\n",
       "      <th></th>\n",
       "      <th></th>\n",
       "      <th></th>\n",
       "      <th></th>\n",
       "      <th></th>\n",
       "    </tr>\n",
       "  </thead>\n",
       "  <tbody>\n",
       "    <tr>\n",
       "      <th>892177421306343426</th>\n",
       "      <td>2017-08-01 00:17:27 +0000</td>\n",
       "      <td>13</td>\n",
       "      <td>10</td>\n",
       "      <td>Tilly</td>\n",
       "      <td>6514.0</td>\n",
       "      <td>33819.0</td>\n",
       "      <td>None</td>\n",
       "      <td>None</td>\n",
       "      <td>None</td>\n",
       "      <td>None</td>\n",
       "      <td>Chihuahua</td>\n",
       "      <td>0.323581</td>\n",
       "    </tr>\n",
       "    <tr>\n",
       "      <th>891815181378084864</th>\n",
       "      <td>2017-07-31 00:18:03 +0000</td>\n",
       "      <td>12</td>\n",
       "      <td>10</td>\n",
       "      <td>Archie</td>\n",
       "      <td>4328.0</td>\n",
       "      <td>25461.0</td>\n",
       "      <td>None</td>\n",
       "      <td>None</td>\n",
       "      <td>None</td>\n",
       "      <td>None</td>\n",
       "      <td>Chihuahua</td>\n",
       "      <td>0.716012</td>\n",
       "    </tr>\n",
       "    <tr>\n",
       "      <th>891689557279858688</th>\n",
       "      <td>2017-07-30 15:58:51 +0000</td>\n",
       "      <td>13</td>\n",
       "      <td>10</td>\n",
       "      <td>Darla</td>\n",
       "      <td>8964.0</td>\n",
       "      <td>42908.0</td>\n",
       "      <td>None</td>\n",
       "      <td>None</td>\n",
       "      <td>None</td>\n",
       "      <td>None</td>\n",
       "      <td>Labrador_retriever</td>\n",
       "      <td>0.168086</td>\n",
       "    </tr>\n",
       "  </tbody>\n",
       "</table>\n",
       "</div>"
      ],
      "text/plain": [
       "                                    timestamp  rating_numerator  \\\n",
       "tweet_id                                                          \n",
       "892177421306343426  2017-08-01 00:17:27 +0000                13   \n",
       "891815181378084864  2017-07-31 00:18:03 +0000                12   \n",
       "891689557279858688  2017-07-30 15:58:51 +0000                13   \n",
       "\n",
       "                    rating_denominator    name  retweet_count  favorite_count  \\\n",
       "tweet_id                                                                        \n",
       "892177421306343426                  10   Tilly         6514.0         33819.0   \n",
       "891815181378084864                  10  Archie         4328.0         25461.0   \n",
       "891689557279858688                  10   Darla         8964.0         42908.0   \n",
       "\n",
       "                   doggo floofer pupper puppo               breed  confidence  \n",
       "tweet_id                                                                       \n",
       "892177421306343426  None    None   None  None           Chihuahua    0.323581  \n",
       "891815181378084864  None    None   None  None           Chihuahua    0.716012  \n",
       "891689557279858688  None    None   None  None  Labrador_retriever    0.168086  "
      ]
     },
     "execution_count": 27,
     "metadata": {},
     "output_type": "execute_result"
    }
   ],
   "source": [
    "df.head(3)"
   ]
  },
  {
   "cell_type": "code",
   "execution_count": 28,
   "metadata": {},
   "outputs": [],
   "source": [
    "#replace None with '', that is NaN which is diffrent to None in our \"doggo\", \"floofer\", \"pupper\", \"puppo\" columns\n",
    "df[['doggo', 'floofer', 'pupper', 'puppo']] = df[['doggo', 'floofer', 'pupper', 'puppo']].replace('None', '')"
   ]
  },
  {
   "cell_type": "code",
   "execution_count": 29,
   "metadata": {},
   "outputs": [],
   "source": [
    "#create 'dog_stage' column and Join all those empty values from \"doggo\", \"floofer\", \"pupper\", \"puppo\" columns\n",
    "df['dog_stage'] = df[df.columns[6:10]].apply(lambda x: ''.join(x.dropna().astype(str)), axis=1)\n",
    "df['dog_stage'] = df['dog_stage'].replace(r'^\\s*$' , np.nan, regex=True)\n",
    "df['dog_stage'] = df['dog_stage'].replace(np.nan , 'no_stage' , regex=True)"
   ]
  },
  {
   "cell_type": "code",
   "execution_count": 30,
   "metadata": {},
   "outputs": [
    {
     "data": {
      "text/plain": [
       "no_stage    1426\n",
       "pupper       168\n",
       "doggo         54\n",
       "puppo         21\n",
       "floofer        7\n",
       "Name: dog_stage, dtype: int64"
      ]
     },
     "execution_count": 30,
     "metadata": {},
     "output_type": "execute_result"
    }
   ],
   "source": [
    "df.dog_stage.value_counts()"
   ]
  },
  {
   "cell_type": "code",
   "execution_count": 31,
   "metadata": {},
   "outputs": [],
   "source": [
    "#drop unecessary columns now we have dog_stage\n",
    "df.drop(['doggo', 'floofer', 'pupper', 'puppo'], axis = 1, inplace = True)"
   ]
  },
  {
   "cell_type": "code",
   "execution_count": 32,
   "metadata": {
    "scrolled": true
   },
   "outputs": [],
   "source": [
    "#create a categorical variable datatype\n",
    "df['dog_stage'] = df.dog_stage.astype('category')"
   ]
  },
  {
   "cell_type": "code",
   "execution_count": 33,
   "metadata": {},
   "outputs": [
    {
     "data": {
      "text/plain": [
       "no_stage    1426\n",
       "pupper       168\n",
       "doggo         54\n",
       "puppo         21\n",
       "floofer        7\n",
       "Name: dog_stage, dtype: int64"
      ]
     },
     "execution_count": 33,
     "metadata": {},
     "output_type": "execute_result"
    }
   ],
   "source": [
    "#check out dog stage value counts\n",
    "df['dog_stage'].value_counts()"
   ]
  },
  {
   "cell_type": "code",
   "execution_count": 34,
   "metadata": {},
   "outputs": [
    {
     "name": "stdout",
     "output_type": "stream",
     "text": [
      "<class 'pandas.core.frame.DataFrame'>\n",
      "Int64Index: 1676 entries, 892177421306343426 to 666020888022790149\n",
      "Data columns (total 9 columns):\n",
      " #   Column              Non-Null Count  Dtype   \n",
      "---  ------              --------------  -----   \n",
      " 0   timestamp           1676 non-null   object  \n",
      " 1   rating_numerator    1676 non-null   int64   \n",
      " 2   rating_denominator  1676 non-null   int64   \n",
      " 3   name                1676 non-null   object  \n",
      " 4   retweet_count       1676 non-null   float64 \n",
      " 5   favorite_count      1676 non-null   float64 \n",
      " 6   breed               1676 non-null   object  \n",
      " 7   confidence          1676 non-null   float64 \n",
      " 8   dog_stage           1676 non-null   category\n",
      "dtypes: category(1), float64(3), int64(2), object(3)\n",
      "memory usage: 119.7+ KB\n"
     ]
    }
   ],
   "source": [
    "df.info()"
   ]
  },
  {
   "cell_type": "code",
   "execution_count": 35,
   "metadata": {},
   "outputs": [
    {
     "name": "stderr",
     "output_type": "stream",
     "text": [
      "<ipython-input-35-6a604fc892c6>:2: FutureWarning: Indexing with multiple keys (implicitly converted to a tuple of keys) will be deprecated, use a list instead.\n",
      "  d = df.groupby('dog_stage')['retweet_count', 'favorite_count'].sum()\n"
     ]
    },
    {
     "data": {
      "image/png": "[encoded data removed]",
      "text/plain": [
       "<Figure size 432x288 with 1 Axes>"
      ]
     },
     "metadata": {
      "needs_background": "light"
     },
     "output_type": "display_data"
    }
   ],
   "source": [
    "#check out which category is most popular\n",
    "d = df.groupby('dog_stage')['retweet_count', 'favorite_count'].sum()\n",
    "d = d.sort_values(['favorite_count', 'retweet_count'], ascending = False)\n",
    "d.plot(kind = 'bar');"
   ]
  },
  {
   "cell_type": "code",
   "execution_count": 36,
   "metadata": {},
   "outputs": [
    {
     "data": {
      "text/plain": [
       "None       413\n",
       "a           46\n",
       "Cooper      10\n",
       "Lucy        10\n",
       "Charlie     10\n",
       "          ... \n",
       "Brownie      1\n",
       "Kawhi        1\n",
       "Sky          1\n",
       "Rupert       1\n",
       "Kaia         1\n",
       "Name: name, Length: 850, dtype: int64"
      ]
     },
     "execution_count": 36,
     "metadata": {},
     "output_type": "execute_result"
    }
   ],
   "source": [
    "df.name.value_counts()"
   ]
  },
  {
   "cell_type": "code",
   "execution_count": 37,
   "metadata": {},
   "outputs": [],
   "source": [
    "df['name'] = df['name'].replace('None' , '')"
   ]
  },
  {
   "cell_type": "code",
   "execution_count": 38,
   "metadata": {},
   "outputs": [],
   "source": [
    "df['name'] = df['name'].replace(['', 'a', 'the'] , 'no_name')"
   ]
  },
  {
   "cell_type": "code",
   "execution_count": 39,
   "metadata": {},
   "outputs": [
    {
     "data": {
      "text/plain": [
       "no_name    466\n",
       "Lucy        10\n",
       "Cooper      10\n",
       "Charlie     10\n",
       "Tucker       9\n",
       "          ... \n",
       "Emmy         1\n",
       "Brownie      1\n",
       "Kawhi        1\n",
       "Sky          1\n",
       "Kaia         1\n",
       "Name: name, Length: 848, dtype: int64"
      ]
     },
     "execution_count": 39,
     "metadata": {},
     "output_type": "execute_result"
    }
   ],
   "source": [
    "df['name'].value_counts()"
   ]
  },
  {
   "cell_type": "code",
   "execution_count": 40,
   "metadata": {},
   "outputs": [
    {
     "data": {
      "image/png": "[encoded data removed]",
      "text/plain": [
       "<Figure size 432x288 with 1 Axes>"
      ]
     },
     "metadata": {
      "needs_background": "light"
     },
     "output_type": "display_data"
    }
   ],
   "source": [
    "#another way to visualize popular breeds\n",
    "df['name'].value_counts().iloc[1:12].plot(kind='bar');"
   ]
  },
  {
   "cell_type": "code",
   "execution_count": 41,
   "metadata": {},
   "outputs": [],
   "source": [
    "df['timestamp'] = pd.to_datetime(df.timestamp)"
   ]
  },
  {
   "cell_type": "code",
   "execution_count": 42,
   "metadata": {},
   "outputs": [
    {
     "name": "stdout",
     "output_type": "stream",
     "text": [
      "<class 'pandas.core.frame.DataFrame'>\n",
      "Int64Index: 1676 entries, 892177421306343426 to 666020888022790149\n",
      "Data columns (total 9 columns):\n",
      " #   Column              Non-Null Count  Dtype              \n",
      "---  ------              --------------  -----              \n",
      " 0   timestamp           1676 non-null   datetime64[ns, UTC]\n",
      " 1   rating_numerator    1676 non-null   int64              \n",
      " 2   rating_denominator  1676 non-null   int64              \n",
      " 3   name                1676 non-null   object             \n",
      " 4   retweet_count       1676 non-null   float64            \n",
      " 5   favorite_count      1676 non-null   float64            \n",
      " 6   breed               1676 non-null   object             \n",
      " 7   confidence          1676 non-null   float64            \n",
      " 8   dog_stage           1676 non-null   category           \n",
      "dtypes: category(1), datetime64[ns, UTC](1), float64(3), int64(2), object(2)\n",
      "memory usage: 119.7+ KB\n"
     ]
    }
   ],
   "source": [
    "df.info()"
   ]
  }
 ],
 "metadata": {
  "kernelspec": {
   "display_name": "Python 3",
   "language": "python",
   "name": "python3"
  },
  "language_info": {
   "codemirror_mode": {
    "name": "ipython",
    "version": 3
   },
   "file_extension": ".py",
   "mimetype": "text/x-python",
   "name": "python",
   "nbconvert_exporter": "python",
   "pygments_lexer": "ipython3",
   "version": "3.8.1"
  }
 },
 "nbformat": 4,
 "nbformat_minor": 2
}
